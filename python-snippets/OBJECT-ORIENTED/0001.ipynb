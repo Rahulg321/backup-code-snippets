{
 "cells": [
  {
   "cell_type": "code",
   "execution_count": 11,
   "metadata": {},
   "outputs": [
    {
     "name": "stdout",
     "output_type": "stream",
     "text": [
      "schafer\n",
      "test.user@gmail.com\n"
     ]
    }
   ],
   "source": [
    "class Employee:\n",
    "    pass\n",
    "\n",
    "emp_1 = Employee()\n",
    "emp_2 = Employee()\n",
    "\n",
    "emp_1.first = 'Corey'\n",
    "emp_1.last = 'schafer'\n",
    "emp_1.email = 'Corey.schafer@gmail.com'\n",
    "emp_1.pay = 50000\n",
    "\n",
    "\n",
    "emp_2.first = 'test'\n",
    "emp_2.last = 'user'\n",
    "emp_2.email = 'test.user@gmail.com'\n",
    "emp_2.pay = 120000\n",
    "\n",
    "\n",
    "print(emp_1.last)\n",
    "print(emp_2.email)"
   ]
  },
  {
   "cell_type": "code",
   "execution_count": 15,
   "metadata": {},
   "outputs": [
    {
     "name": "stdout",
     "output_type": "stream",
     "text": [
      "corey.gupta@company.com\n"
     ]
    }
   ],
   "source": [
    "#self because classes receive instance as the first arguement\n",
    "#init used to initialize data members\n",
    "\n",
    "\n",
    "class Employee:\n",
    "    def __init__(self,first,last,pay):\n",
    "        self.first = first\n",
    "        self.last = last\n",
    "        self.pay = pay\n",
    "        self.email = f'{first}.{last}@company.com'\n",
    "\n",
    "emp_1 = Employee('corey','gupta',154000)\n",
    "\n",
    "print(emp_1.email)\n"
   ]
  },
  {
   "cell_type": "code",
   "execution_count": 18,
   "metadata": {},
   "outputs": [
    {
     "name": "stdout",
     "output_type": "stream",
     "text": [
      "corey gupta\n"
     ]
    }
   ],
   "source": [
    "#actions in a class --> methods in a class\n",
    "\n",
    "\n",
    "class Employee:\n",
    "    def __init__(self,first,last,pay):\n",
    "        self.first = first\n",
    "        self.last = last\n",
    "        self.pay = pay\n",
    "        self.email = f'{first}.{last}@company.com'\n",
    "    \n",
    "    def full_name(self):\n",
    "        return f'{self.first} {self.last}'\n",
    "\n",
    "    \n",
    "\n",
    "emp_1 = Employee('corey','gupta',154000)\n",
    "\n",
    "print(emp_1.full_name())"
   ]
  },
  {
   "cell_type": "code",
   "execution_count": 24,
   "metadata": {},
   "outputs": [
    {
     "name": "stdout",
     "output_type": "stream",
     "text": [
      "corey gupta\n",
      "corey gupta\n"
     ]
    }
   ],
   "source": [
    "class Employee:\n",
    "    def __init__(self,first,last,pay):\n",
    "        self.first = first\n",
    "        self.last = last\n",
    "        self.pay = pay\n",
    "        self.email = f'{first}.{last}@company.com'\n",
    "    \n",
    "    def full_name(self):\n",
    "        return f'{self.first} {self.last}'\n",
    "\n",
    "emp_1 = Employee('corey','gupta',154000)\n",
    "\n",
    "\n",
    "#TWO WAYS OF CALLING A CLASS METHOD\n",
    "print(emp_1.full_name())\n",
    "print(Employee.full_name(emp_1))"
   ]
  },
  {
   "cell_type": "code",
   "execution_count": null,
   "metadata": {},
   "outputs": [],
   "source": []
  }
 ],
 "metadata": {
  "kernelspec": {
   "display_name": "Python 3.9.13",
   "language": "python",
   "name": "python3"
  },
  "language_info": {
   "codemirror_mode": {
    "name": "ipython",
    "version": 3
   },
   "file_extension": ".py",
   "mimetype": "text/x-python",
   "name": "python",
   "nbconvert_exporter": "python",
   "pygments_lexer": "ipython3",
   "version": "3.9.13"
  },
  "orig_nbformat": 4,
  "vscode": {
   "interpreter": {
    "hash": "20a9e06a1eee47c4abbed4ec8225ad91d78d9800d202b71b6b0a6e47016c6abd"
   }
  }
 },
 "nbformat": 4,
 "nbformat_minor": 2
}
