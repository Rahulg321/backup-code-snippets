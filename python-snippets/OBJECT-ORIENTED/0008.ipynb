{
 "cells": [
  {
   "cell_type": "code",
   "execution_count": 3,
   "metadata": {},
   "outputs": [
    {
     "name": "stdout",
     "output_type": "stream",
     "text": [
      "15\n",
      "4\n"
     ]
    }
   ],
   "source": [
    "#Polymorphism In Python\n",
    "\n",
    "print(len('Geeks for Geeks'))\n",
    "\n",
    "print(len([1,2,3,3]))"
   ]
  },
  {
   "cell_type": "code",
   "execution_count": 4,
   "metadata": {},
   "outputs": [
    {
     "name": "stdout",
     "output_type": "stream",
     "text": [
      "5\n",
      "9\n"
     ]
    }
   ],
   "source": [
    "\n",
    "def add(x, y, z = 0):\n",
    "   return x + y+z\n",
    "\n",
    "# Driver code\n",
    "print(add(2, 3))\n",
    "print(add(2, 3, 4))"
   ]
  },
  {
   "cell_type": "code",
   "execution_count": null,
   "metadata": {},
   "outputs": [],
   "source": [
    "\n",
    "# class India():\n",
    "# def capital(self):\n",
    "# print(\"New Delhi is the capital of India.\")\n",
    "\n",
    "# def language(self):\n",
    "# print(\"Hindi is the most widely spoken language of India.\")\n",
    "\n",
    "# def type(self):\n",
    "# print(\"India is a developing country.\")\n",
    "\n",
    "# class USA():\n",
    "# def capital(self):\n",
    "# print(\"Washington, D.C. is the capital of USA.\")\n",
    "\n",
    "# def language(self):\n",
    "# print(\"English is the primary language of USA.\")\n",
    "\n",
    "# def type(self):\n",
    "# print(\"USA is a developed country.\")\n",
    "\n",
    "# def func(obj):\n",
    "# obj.capital()\n",
    "# obj.language()\n",
    "# obj.type()\n",
    "\n",
    "# obj_ind = India()\n",
    "# obj_usa = USA()\n",
    "\n",
    "# func(obj_ind)\n",
    "# func(obj_usa)"
   ]
  },
  {
   "cell_type": "code",
   "execution_count": null,
   "metadata": {},
   "outputs": [],
   "source": [
    "# def func(obj):\n",
    "# obj.capital()\n",
    "# obj.language()\n",
    "# obj.type()\n",
    "\n",
    "# obj_ind = India()\n",
    "# obj_usa = USA()\n",
    "\n",
    "# func(obj_ind)\n",
    "# func(obj_usa)"
   ]
  },
  {
   "cell_type": "code",
   "execution_count": null,
   "metadata": {},
   "outputs": [],
   "source": [
    "# class Bird:\n",
    "# def intro(self):\n",
    "# print(\"There are many types of birds.\")\n",
    "\n",
    "# def flight(self):\n",
    "# print(\"Most of the birds can fly but some cannot.\")\n",
    "\n",
    "# class sparrow(Bird):\n",
    "# def flight(self):\n",
    "# print(\"Sparrows can fly.\")\n",
    "\n",
    "# class ostrich(Bird):\n",
    "# def flight(self):\n",
    "# print(\"Ostriches cannot fly.\")\n",
    "\n",
    "# obj_bird = Bird()\n",
    "# obj_spr = sparrow()\n",
    "# obj_ost = ostrich()\n",
    "\n",
    "# obj_bird.intro()\n",
    "# obj_bird.flight()\n",
    "\n",
    "# obj_spr.intro()\n",
    "# obj_spr.flight()\n",
    "\n",
    "# obj_ost.intro()\n",
    "# obj_ost.flight()\n",
    "\n",
    "# Output:\n",
    "# There are many types of birds.\n",
    "# Most of the birds can fly but some cannot.\n",
    "# There are many types of birds.\n",
    "# Sparrows can fly.\n",
    "# There are many types of birds.\n",
    "# Ostriches cannot fly."
   ]
  }
 ],
 "metadata": {
  "kernelspec": {
   "display_name": "Python 3.9.13",
   "language": "python",
   "name": "python3"
  },
  "language_info": {
   "codemirror_mode": {
    "name": "ipython",
    "version": 3
   },
   "file_extension": ".py",
   "mimetype": "text/x-python",
   "name": "python",
   "nbconvert_exporter": "python",
   "pygments_lexer": "ipython3",
   "version": "3.9.13"
  },
  "orig_nbformat": 4,
  "vscode": {
   "interpreter": {
    "hash": "20a9e06a1eee47c4abbed4ec8225ad91d78d9800d202b71b6b0a6e47016c6abd"
   }
  }
 },
 "nbformat": 4,
 "nbformat_minor": 2
}
