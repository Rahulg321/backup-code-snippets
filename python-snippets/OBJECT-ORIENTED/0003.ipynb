{
 "cells": [
  {
   "cell_type": "code",
   "execution_count": null,
   "metadata": {},
   "outputs": [],
   "source": [
    "#learning static and class methods\n",
    "\n",
    "# @classmethod is a built in decorator\n",
    "#which is altering the functionality of our method\n",
    "#so now we receive the full class as the first instance\n",
    "\n",
    "\n",
    "#1. we can use class methods to dynamically initialize our class variables\n",
    "#2. They are mainly used as alternative constructors"
   ]
  },
  {
   "cell_type": "code",
   "execution_count": 7,
   "metadata": {},
   "outputs": [
    {
     "name": "stdout",
     "output_type": "stream",
     "text": [
      "1.09\n",
      "1.09\n",
      "1.09\n"
     ]
    }
   ],
   "source": [
    "class Employee:\n",
    "\n",
    "    raise_amt = 1.04\n",
    "    num_of_emps = 0\n",
    "\n",
    "    def __init__(self,first,last,pay):\n",
    "        self.first = first\n",
    "        self.last = last\n",
    "        self.pay = pay\n",
    "        self.email = f'{first}.{last}@company.com'\n",
    "        Employee.num_of_emps += 1\n",
    "    \n",
    "    def full_name(self):\n",
    "        return f'{self.first} {self.last}'\n",
    "\n",
    "    def apply_raise(self):\n",
    "        self.pay = int(self.pay * self.raise_amt)\n",
    "    \n",
    "    @classmethod    #method to change our class variable\n",
    "    def set_raise_amt(cls,amount):\n",
    "        cls.raise_amt = amount\n",
    "         \n",
    "\n",
    "\n",
    "emp_1 = Employee('corey','gupta',154000)\n",
    "emp_2 = Employee('surbhi','scahfer',98000)\n",
    "\n",
    "Employee.set_raise_amt(1.09)\n",
    "\n",
    "\n",
    "print(Employee.raise_amt)\n",
    "print(emp_1.raise_amt)\n",
    "print(emp_2.raise_amt)"
   ]
  },
  {
   "cell_type": "code",
   "execution_count": 12,
   "metadata": {},
   "outputs": [
    {
     "name": "stdout",
     "output_type": "stream",
     "text": [
      "1.09\n",
      "1.09\n",
      "1.09\n",
      "John.Doe@company.com\n"
     ]
    }
   ],
   "source": [
    "#class methods as alternative Constructors\n",
    "\n",
    "class Employee:\n",
    "\n",
    "    raise_amt = 1.04\n",
    "    num_of_emps = 0\n",
    "\n",
    "    def __init__(self,first,last,pay):\n",
    "        self.first = first\n",
    "        self.last = last\n",
    "        self.pay = pay\n",
    "        self.email = f'{first}.{last}@company.com'\n",
    "        Employee.num_of_emps += 1\n",
    "    \n",
    "    def full_name(self):\n",
    "        return f'{self.first} {self.last}'\n",
    "\n",
    "    def apply_raise(self):\n",
    "        self.pay = int(self.pay * self.raise_amt)\n",
    "    \n",
    "    @classmethod\n",
    "    def set_raise_amt(cls,amount):\n",
    "        cls.raise_amt = amount\n",
    "         \n",
    "    @classmethod  #from is a convention\n",
    "    def from_string(cls, emp_str):\n",
    "        first,last,pay = emp_str.split('-')\n",
    "        return cls(first,last,pay) #initalise a new object\n",
    "        #we also need to return the new object after it has been created\n",
    "        \n",
    "\n",
    "\n",
    "emp_1 = Employee('corey','gupta',154000)\n",
    "emp_2 = Employee('surbhi','scahfer',98000)\n",
    "\n",
    "Employee.set_raise_amt(1.09)\n",
    "\n",
    "\n",
    "print(Employee.raise_amt)\n",
    "print(emp_1.raise_amt)\n",
    "print(emp_2.raise_amt)\n",
    "\n",
    "\n",
    "emp_3 = Employee.from_string('John-Doe-69000')\n",
    "\n",
    "\n",
    "print(emp_3.email)\n",
    "\n",
    "\n",
    "\n"
   ]
  },
  {
   "cell_type": "code",
   "execution_count": 15,
   "metadata": {},
   "outputs": [
    {
     "name": "stdout",
     "output_type": "stream",
     "text": [
      "2022-11-15\n",
      "1\n"
     ]
    }
   ],
   "source": [
    "import datetime\n",
    "\n",
    "my_date = datetime.date(2022,11,15)\n",
    "\n",
    "print(my_date)\n",
    "\n",
    "print(my_date.weekday())\n",
    "\n",
    "#weekday is a function\n",
    "#it prints one monday starts at 0\n",
    "#and sunday at 6 \n",
    "#and everything in Between"
   ]
  },
  {
   "cell_type": "code",
   "execution_count": 16,
   "metadata": {},
   "outputs": [
    {
     "name": "stdout",
     "output_type": "stream",
     "text": [
      "True\n"
     ]
    }
   ],
   "source": [
    "#static Methods --> Just Regular Functions\n",
    "\n",
    "class Employee:\n",
    "\n",
    "    raise_amt = 1.04\n",
    "    num_of_emps = 0\n",
    "\n",
    "    def __init__(self,first,last,pay):\n",
    "        self.first = first\n",
    "        self.last = last\n",
    "        self.pay = pay\n",
    "        self.email = f'{first}.{last}@company.com'\n",
    "        Employee.num_of_emps += 1\n",
    "    \n",
    "    @staticmethod\n",
    "    def is_work_day(day):\n",
    "        if day.weekday() == 5 or day.weekday() == 6:\n",
    "            return False\n",
    "        return True\n",
    "\n",
    "\n",
    "\n",
    "    def full_name(self):\n",
    "        return f'{self.first} {self.last}'\n",
    "\n",
    "    def apply_raise(self):\n",
    "        self.pay = int(self.pay * self.raise_amt)\n",
    "    \n",
    "    @classmethod\n",
    "    def set_raise_amt(cls,amount):\n",
    "        cls.raise_amt = amount\n",
    "         \n",
    "    @classmethod  \n",
    "    def from_string(cls, emp_str):\n",
    "        first,last,pay = emp_str.split('-')\n",
    "        return cls(first,last,pay)  \n",
    "        \n",
    "\n",
    "\n",
    "emp_1 = Employee('corey','gupta',154000)\n",
    "emp_2 = Employee('surbhi','scahfer',98000)\n",
    "\n",
    "\n",
    "print(Employee.is_work_day(my_date))\n"
   ]
  },
  {
   "cell_type": "code",
   "execution_count": null,
   "metadata": {},
   "outputs": [],
   "source": []
  }
 ],
 "metadata": {
  "kernelspec": {
   "display_name": "Python 3.9.13",
   "language": "python",
   "name": "python3"
  },
  "language_info": {
   "codemirror_mode": {
    "name": "ipython",
    "version": 3
   },
   "file_extension": ".py",
   "mimetype": "text/x-python",
   "name": "python",
   "nbconvert_exporter": "python",
   "pygments_lexer": "ipython3",
   "version": "3.9.13"
  },
  "orig_nbformat": 4,
  "vscode": {
   "interpreter": {
    "hash": "20a9e06a1eee47c4abbed4ec8225ad91d78d9800d202b71b6b0a6e47016c6abd"
   }
  }
 },
 "nbformat": 4,
 "nbformat_minor": 2
}
