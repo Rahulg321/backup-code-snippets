{
 "cells": [
  {
   "cell_type": "code",
   "execution_count": 1,
   "metadata": {},
   "outputs": [],
   "source": [
    "#learning encapsulation in python which is binding together \n",
    "#data so that no other class can access it\n",
    "\n",
    "\n",
    "class Base:\n",
    "    def __init__(self,name,pay):\n",
    "        self.name = name\n",
    "        self.pay = pay\n",
    "\n",
    "\n",
    "#WE can define what sort of \n",
    "class Derived(Base):\n",
    "    def __init__(self, name, pay,email_id):\n",
    "        super().__init__(name, pay)\n",
    "        self.email_id = email_id\n"
   ]
  },
  {
   "cell_type": "code",
   "execution_count": 13,
   "metadata": {},
   "outputs": [
    {
     "name": "stdout",
     "output_type": "stream",
     "text": [
      "calling protected member 12\n",
      "calling modified member 69\n",
      "69\n",
      "12\n"
     ]
    }
   ],
   "source": [
    "#learning encapsulation in python which is binding together \n",
    "#data so that no other class can access it\n",
    "\n",
    "\n",
    "class Base:\n",
    "    def __init__(self):\n",
    "        self._a = 12\n",
    "# _a specifies that it is a protected member \n",
    "\n",
    "\n",
    "#WE can define what sort of \n",
    "class Derived(Base):\n",
    "    def __init__(self):\n",
    "        super().__init__() #calling constructor of base class\n",
    "        print(f'calling protected member {self._a}')\n",
    "\n",
    "        self._a = 69\n",
    "\n",
    "        print(f'calling modified member {self._a}')\n",
    "        \n",
    "\n",
    "obj1 = Derived()\n",
    "obj2 = Base()\n",
    "\n",
    "#Protected Members\n",
    "# Can be accessed but should not be done due to convention\n",
    "print(f'{obj1._a}')\n",
    "print(f'{obj2._a}')"
   ]
  },
  {
   "cell_type": "code",
   "execution_count": 16,
   "metadata": {},
   "outputs": [],
   "source": [
    "#private members\n",
    "\n",
    "class Base:\n",
    "    def __init__(self):\n",
    "        self._a = 12   #protected member\n",
    "        self.__c = 'geeks for geeks' #private member\n",
    "\n",
    "class Derived(Base):\n",
    "    def __init__(self):\n",
    "        super().__init__() #calling constructor of base class\n",
    "        print(f'calling private member {self.__c}')\n",
    "\n",
    "obj1 = Base()\n",
    "\n",
    "\n",
    "#will show an error,since private member accessed in Derived Class\n",
    "# obj2 = Derived()\n",
    "\n",
    "# obj1.c\n",
    "# print(f'{obj1._a}')\n",
    "# print(f'{obj1._a}')\n"
   ]
  },
  {
   "cell_type": "code",
   "execution_count": null,
   "metadata": {},
   "outputs": [],
   "source": []
  }
 ],
 "metadata": {
  "kernelspec": {
   "display_name": "Python 3.9.13",
   "language": "python",
   "name": "python3"
  },
  "language_info": {
   "codemirror_mode": {
    "name": "ipython",
    "version": 3
   },
   "file_extension": ".py",
   "mimetype": "text/x-python",
   "name": "python",
   "nbconvert_exporter": "python",
   "pygments_lexer": "ipython3",
   "version": "3.9.13"
  },
  "orig_nbformat": 4,
  "vscode": {
   "interpreter": {
    "hash": "20a9e06a1eee47c4abbed4ec8225ad91d78d9800d202b71b6b0a6e47016c6abd"
   }
  }
 },
 "nbformat": 4,
 "nbformat_minor": 2
}
