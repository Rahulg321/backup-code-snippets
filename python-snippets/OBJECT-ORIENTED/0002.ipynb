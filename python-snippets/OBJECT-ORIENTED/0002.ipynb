{
 "cells": [
  {
   "cell_type": "code",
   "execution_count": 4,
   "metadata": {},
   "outputs": [
    {
     "name": "stdout",
     "output_type": "stream",
     "text": [
      "160160\n"
     ]
    }
   ],
   "source": [
    "#class variables\n",
    "#variables shared among all instances of a class\n",
    "\n",
    "\n",
    "class Employee:\n",
    "\n",
    "    raise_amt = 0.1\n",
    "\n",
    "    def __init__(self,first,last,pay):\n",
    "        self.first = first\n",
    "        self.last = last\n",
    "        self.pay = pay\n",
    "        self.email = f'{first}.{last}@company.com'\n",
    "    \n",
    "    def full_name(self):\n",
    "        return f'{self.first} {self.last}'\n",
    "\n",
    "    def apply_raise(self):\n",
    "        self.pay = int(self.pay*1.04)  #updating the value of Pay\n",
    "        return self.pay\n",
    "\n",
    "\n",
    "emp_1 = Employee('corey','gupta',154000)\n",
    "\n",
    "total_amount = emp_1.apply_raise()\n",
    "print(total_amount)"
   ]
  },
  {
   "cell_type": "markdown",
   "metadata": {},
   "source": [
    "learn about class Variables"
   ]
  },
  {
   "cell_type": "code",
   "execution_count": 6,
   "metadata": {},
   "outputs": [
    {
     "name": "stdout",
     "output_type": "stream",
     "text": [
      "154000\n",
      "160160\n"
     ]
    }
   ],
   "source": [
    "#class variables\n",
    "#variables shared among all instances of a class\n",
    "\n",
    "\n",
    "class Employee:\n",
    "\n",
    "    raise_amt = 0.1\n",
    "\n",
    "    def __init__(self,first,last,pay):\n",
    "        self.first = first\n",
    "        self.last = last\n",
    "        self.pay = pay\n",
    "        self.email = f'{first}.{last}@company.com'\n",
    "    \n",
    "    def full_name(self):\n",
    "        return f'{self.first} {self.last}'\n",
    "\n",
    "    def apply_raise(self):\n",
    "        #updating the value of pay\n",
    "        self.pay = int(self.pay*1.04)\n",
    "        \n",
    "\n",
    "\n",
    "emp_1 = Employee('corey','gupta',154000)\n",
    "\n",
    "print(emp_1.pay) #Before\n",
    "emp_1.apply_raise()\n",
    "print(emp_1.pay) #after"
   ]
  },
  {
   "cell_type": "code",
   "execution_count": 16,
   "metadata": {},
   "outputs": [
    {
     "name": "stdout",
     "output_type": "stream",
     "text": [
      "154000\n",
      "160160\n"
     ]
    }
   ],
   "source": [
    "class Employee:\n",
    "\n",
    "    raise_amt = 1.04\n",
    "\n",
    "    def __init__(self,first,last,pay):\n",
    "        self.first = first\n",
    "        self.last = last\n",
    "        self.pay = pay\n",
    "        self.email = f'{first}.{last}@company.com'\n",
    "    \n",
    "    def full_name(self):\n",
    "        return f'{self.first} {self.last}'\n",
    "\n",
    "    def apply_raise(self):\n",
    "        self.pay = int(self.pay * Employee.raise_amt)\n",
    "         \n",
    "\n",
    "\n",
    "emp_1 = Employee('corey','gupta',154000)\n",
    "\n",
    "print(emp_1.pay) \n",
    "emp_1.apply_raise()\n",
    "print(emp_1.pay)\n",
    "\n"
   ]
  },
  {
   "cell_type": "code",
   "execution_count": 18,
   "metadata": {},
   "outputs": [
    {
     "name": "stdout",
     "output_type": "stream",
     "text": [
      "1.06\n",
      "1.07\n"
     ]
    }
   ],
   "source": [
    "#we can change the value of our class variables manually\n",
    "#outside the class\n",
    "\n",
    "class Employee:\n",
    "\n",
    "    raise_amt = 1.04\n",
    "\n",
    "    def __init__(self,first,last,pay):\n",
    "        self.first = first\n",
    "        self.last = last\n",
    "        self.pay = pay\n",
    "        self.email = f'{first}.{last}@company.com'\n",
    "    \n",
    "    def full_name(self):\n",
    "        return f'{self.first} {self.last}'\n",
    "\n",
    "    def apply_raise(self):\n",
    "        self.pay = int(self.pay * self.raise_amt)\n",
    "         #we should we use whenever we are referring to class variables\n",
    "         #so that somwehere down the line we can update our class variable in accordance with our employee\n",
    "\n",
    "\n",
    "emp_1 = Employee('corey','gupta',154000)\n",
    "\n",
    "Employee.raise_amt = 1.06 #updates the class variable\n",
    "emp_1.raise_amt = 1.07 #creates an attribute of that instance and also updates for that specific instnace only\n",
    "\n",
    "\n",
    "print(Employee.raise_amt)\n",
    "print(emp_1.raise_amt)\n",
    "\n",
    "\n",
    "\n",
    "# print(emp_1.pay) \n",
    "# emp_1.apply_raise()\n",
    "# print(emp_1.pay)"
   ]
  },
  {
   "cell_type": "code",
   "execution_count": 22,
   "metadata": {},
   "outputs": [
    {
     "name": "stdout",
     "output_type": "stream",
     "text": [
      "2\n"
     ]
    }
   ],
   "source": [
    "#keeping track of how many employees we have\n",
    "\n",
    "class Employee:\n",
    "\n",
    "    raise_amt = 1.04\n",
    "    num_of_emps = 0\n",
    "\n",
    "    def __init__(self,first,last,pay):\n",
    "        self.first = first\n",
    "        self.last = last\n",
    "        self.pay = pay\n",
    "        self.email = f'{first}.{last}@company.com'\n",
    "        Employee.num_of_emps += 1\n",
    "    \n",
    "    def full_name(self):\n",
    "        return f'{self.first} {self.last}'\n",
    "\n",
    "    def apply_raise(self):\n",
    "        self.pay = int(self.pay * self.raise_amt)\n",
    "         \n",
    "\n",
    "\n",
    "emp_1 = Employee('corey','gupta',154000)\n",
    "emp_2 = Employee('surbhi','scahfer',154000)\n",
    "\n",
    "print(Employee.num_of_emps)"
   ]
  },
  {
   "cell_type": "code",
   "execution_count": null,
   "metadata": {},
   "outputs": [],
   "source": []
  }
 ],
 "metadata": {
  "kernelspec": {
   "display_name": "Python 3.9.13",
   "language": "python",
   "name": "python3"
  },
  "language_info": {
   "codemirror_mode": {
    "name": "ipython",
    "version": 3
   },
   "file_extension": ".py",
   "mimetype": "text/x-python",
   "name": "python",
   "nbconvert_exporter": "python",
   "pygments_lexer": "ipython3",
   "version": "3.9.13"
  },
  "orig_nbformat": 4,
  "vscode": {
   "interpreter": {
    "hash": "20a9e06a1eee47c4abbed4ec8225ad91d78d9800d202b71b6b0a6e47016c6abd"
   }
  }
 },
 "nbformat": 4,
 "nbformat_minor": 2
}
