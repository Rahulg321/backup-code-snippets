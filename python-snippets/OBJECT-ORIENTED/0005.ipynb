{
 "cells": [
  {
   "cell_type": "code",
   "execution_count": 2,
   "metadata": {},
   "outputs": [],
   "source": [
    "#getters,setters and other special methods\n",
    "\n",
    "class Employee:\n",
    "\n",
    "    raise_amt = 1.04\n",
    "    num_of_emps = 0\n",
    "\n",
    "    def __init__(self,first,last,pay):\n",
    "        self.first = first\n",
    "        self.last = last\n",
    "        self.pay = pay\n",
    "        \n",
    "        Employee.num_of_emps += 1\n",
    "    @property\n",
    "    def full_name(self):\n",
    "        return f'{self.first} {self.last}'\n",
    "    @property\n",
    "    def email(self):\n",
    "        return f'{self.first}.{self.last}@company.com'\n",
    "        \n",
    "    def apply_raise(self):\n",
    "        self.pay = int(self.pay * self.raise_amt)\n",
    "  \n",
    "    \n",
    "\n",
    "dev_1 = Employee('Vanya','arora',84000,)\n",
    "dev_2 = Employee('Kashish','singla',10000,)\n"
   ]
  },
  {
   "cell_type": "code",
   "execution_count": null,
   "metadata": {},
   "outputs": [],
   "source": []
  }
 ],
 "metadata": {
  "kernelspec": {
   "display_name": "Python 3.9.13",
   "language": "python",
   "name": "python3"
  },
  "language_info": {
   "codemirror_mode": {
    "name": "ipython",
    "version": 3
   },
   "file_extension": ".py",
   "mimetype": "text/x-python",
   "name": "python",
   "nbconvert_exporter": "python",
   "pygments_lexer": "ipython3",
   "version": "3.9.13"
  },
  "orig_nbformat": 4,
  "vscode": {
   "interpreter": {
    "hash": "20a9e06a1eee47c4abbed4ec8225ad91d78d9800d202b71b6b0a6e47016c6abd"
   }
  }
 },
 "nbformat": 4,
 "nbformat_minor": 2
}
