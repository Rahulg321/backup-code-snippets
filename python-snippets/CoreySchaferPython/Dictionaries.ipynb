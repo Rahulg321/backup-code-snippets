{
  "nbformat": 4,
  "nbformat_minor": 0,
  "metadata": {
    "colab": {
      "name": "Dictionaries.ipynb",
      "provenance": [],
      "collapsed_sections": []
    },
    "kernelspec": {
      "name": "python3",
      "display_name": "Python 3"
    },
    "language_info": {
      "name": "python"
    }
  },
  "cells": [
    {
      "cell_type": "code",
      "execution_count": null,
      "metadata": {
        "colab": {
          "base_uri": "https://localhost:8080/"
        },
        "id": "lbn522jPG379",
        "outputId": "b8b7f76b-8026-42a1-bbb0-01e2a0d6519a"
      },
      "outputs": [
        {
          "output_type": "stream",
          "name": "stdout",
          "text": [
            "{'name': 'John', 'age': 25, 'courses': ['Math', 'CompSci']}\n"
          ]
        }
      ],
      "source": [
        "student = {\n",
        "    'name':'John',\n",
        "    'age':25,\n",
        "    'courses':['Math','CompSci']\n",
        "}\n",
        "print(student)"
      ]
    },
    {
      "cell_type": "code",
      "source": [
        "print(student['name'])"
      ],
      "metadata": {
        "colab": {
          "base_uri": "https://localhost:8080/"
        },
        "id": "-hUiKgfbIFlu",
        "outputId": "0391fd68-4659-487d-c9cf-8767925451af"
      },
      "execution_count": null,
      "outputs": [
        {
          "output_type": "stream",
          "name": "stdout",
          "text": [
            "John\n"
          ]
        }
      ]
    },
    {
      "cell_type": "code",
      "source": [
        "print(student['courses'])"
      ],
      "metadata": {
        "colab": {
          "base_uri": "https://localhost:8080/"
        },
        "id": "1tdPgNhfIMPg",
        "outputId": "4fdc52a3-5add-4ca4-b103-3fd08fb455d0"
      },
      "execution_count": null,
      "outputs": [
        {
          "output_type": "stream",
          "name": "stdout",
          "text": [
            "['Math', 'CompSci']\n"
          ]
        }
      ]
    },
    {
      "cell_type": "code",
      "source": [
        "student_1 = {\n",
        "    1:'John',\n",
        "    'age':25,\n",
        "    'courses':['Math','CompSci']\n",
        "}"
      ],
      "metadata": {
        "id": "nBmvaIsZIPtH"
      },
      "execution_count": null,
      "outputs": []
    },
    {
      "cell_type": "code",
      "source": [
        "print(student_1[1])"
      ],
      "metadata": {
        "colab": {
          "base_uri": "https://localhost:8080/"
        },
        "id": "7ikETUNXIcJz",
        "outputId": "cdc56fc2-e0ce-4b87-eaa8-f4f4fbd71347"
      },
      "execution_count": null,
      "outputs": [
        {
          "output_type": "stream",
          "name": "stdout",
          "text": [
            "John\n"
          ]
        }
      ]
    },
    {
      "cell_type": "code",
      "source": [
        "#accessing a key that doesn't exists\n",
        "print(student['email'])"
      ],
      "metadata": {
        "colab": {
          "base_uri": "https://localhost:8080/",
          "height": 183
        },
        "id": "aXXzGuCBIhVc",
        "outputId": "dfa0934a-13a8-48f4-af66-b43328a3517c"
      },
      "execution_count": null,
      "outputs": [
        {
          "output_type": "error",
          "ename": "KeyError",
          "evalue": "ignored",
          "traceback": [
            "\u001b[0;31m---------------------------------------------------------------------------\u001b[0m",
            "\u001b[0;31mKeyError\u001b[0m                                  Traceback (most recent call last)",
            "\u001b[0;32m<ipython-input-6-d0cebeee9076>\u001b[0m in \u001b[0;36m<module>\u001b[0;34m\u001b[0m\n\u001b[1;32m      1\u001b[0m \u001b[0;31m#accessing a key that doesn't exists\u001b[0m\u001b[0;34m\u001b[0m\u001b[0;34m\u001b[0m\u001b[0;34m\u001b[0m\u001b[0m\n\u001b[0;32m----> 2\u001b[0;31m \u001b[0mprint\u001b[0m\u001b[0;34m(\u001b[0m\u001b[0mstudent\u001b[0m\u001b[0;34m[\u001b[0m\u001b[0;34m'email'\u001b[0m\u001b[0;34m]\u001b[0m\u001b[0;34m)\u001b[0m\u001b[0;34m\u001b[0m\u001b[0;34m\u001b[0m\u001b[0m\n\u001b[0m",
            "\u001b[0;31mKeyError\u001b[0m: 'email'"
          ]
        }
      ]
    },
    {
      "cell_type": "code",
      "source": [
        "#dictionaries get Method\n",
        "#returns a default value if the value for that key is not found\n",
        "print(student.get('email','OOPS'))\n"
      ],
      "metadata": {
        "colab": {
          "base_uri": "https://localhost:8080/"
        },
        "id": "NYlQLaDkIwdX",
        "outputId": "cf2941e0-2c1f-4129-a107-a2b187676434"
      },
      "execution_count": null,
      "outputs": [
        {
          "output_type": "stream",
          "name": "stdout",
          "text": [
            "OOPS\n"
          ]
        }
      ]
    },
    {
      "cell_type": "code",
      "source": [
        "#inserting in a dictionary\n",
        "student['Phone_no'] = 9876939930"
      ],
      "metadata": {
        "id": "Zk_iHJi2JDjS"
      },
      "execution_count": 10,
      "outputs": []
    },
    {
      "cell_type": "code",
      "source": [
        "student"
      ],
      "metadata": {
        "id": "ZMz7F1fuKPDy",
        "colab": {
          "base_uri": "https://localhost:8080/"
        },
        "outputId": "db8df2c6-ae42-4f61-ccfa-1ab5b2b70609"
      },
      "execution_count": 11,
      "outputs": [
        {
          "output_type": "execute_result",
          "data": {
            "text/plain": [
              "{'name': 'John',\n",
              " 'age': 25,\n",
              " 'courses': ['Math', 'CompSci'],\n",
              " 'Phone_no': 9876939930}"
            ]
          },
          "metadata": {},
          "execution_count": 11
        }
      ]
    },
    {
      "cell_type": "code",
      "source": [
        "#update values in a dict\n",
        "#using the update method\n",
        "#update(dictionary as an arguement)\n",
        "student.update({'name':'Jane','Phone_no':'555-5555','age':78})"
      ],
      "metadata": {
        "id": "toRowxK2KnFN"
      },
      "execution_count": 12,
      "outputs": []
    },
    {
      "cell_type": "code",
      "source": [
        "student"
      ],
      "metadata": {
        "colab": {
          "base_uri": "https://localhost:8080/"
        },
        "id": "py9u4q2YLeCU",
        "outputId": "45c3466d-662e-4d04-f131-b0a1796ab161"
      },
      "execution_count": 13,
      "outputs": [
        {
          "output_type": "execute_result",
          "data": {
            "text/plain": [
              "{'name': 'Jane',\n",
              " 'age': 78,\n",
              " 'courses': ['Math', 'CompSci'],\n",
              " 'Phone_no': '555-5555'}"
            ]
          },
          "metadata": {},
          "execution_count": 13
        }
      ]
    },
    {
      "cell_type": "code",
      "source": [
        "#deleting a specific key and value \n",
        "#using the del keyword\n",
        "#syntax del Dict_Name[key]\n",
        "bacha = {\n",
        "    'name':'John',\n",
        "    'age':25,\n",
        "    'courses':['Math','CompSci']\n",
        "}\n",
        "del bacha['age']\n",
        "bacha"
      ],
      "metadata": {
        "colab": {
          "base_uri": "https://localhost:8080/"
        },
        "id": "IMmGQCD6Lg9T",
        "outputId": "a2644448-7817-49dd-c2d3-d93835d89f56"
      },
      "execution_count": 21,
      "outputs": [
        {
          "output_type": "execute_result",
          "data": {
            "text/plain": [
              "{'name': 'John', 'courses': ['Math', 'CompSci']}"
            ]
          },
          "metadata": {},
          "execution_count": 21
        }
      ]
    },
    {
      "cell_type": "code",
      "source": [
        "student"
      ],
      "metadata": {
        "colab": {
          "base_uri": "https://localhost:8080/"
        },
        "id": "zoqZAfTjL2dL",
        "outputId": "b2bf9fd7-4cbf-4b8c-9f0d-428590dcf272"
      },
      "execution_count": 19,
      "outputs": [
        {
          "output_type": "execute_result",
          "data": {
            "text/plain": [
              "{'name': 'Jane', 'courses': ['Math', 'CompSci'], 'Phone_no': '555-5555'}"
            ]
          },
          "metadata": {},
          "execution_count": 19
        }
      ]
    },
    {
      "cell_type": "code",
      "source": [
        "#pop in a dict\n",
        "contact_no = student.pop('Phone_no')"
      ],
      "metadata": {
        "id": "Y0dw2mvhMvPw"
      },
      "execution_count": 22,
      "outputs": []
    },
    {
      "cell_type": "code",
      "source": [
        "contact_no"
      ],
      "metadata": {
        "colab": {
          "base_uri": "https://localhost:8080/",
          "height": 35
        },
        "id": "ua1FlwH2O9_I",
        "outputId": "0ffe4588-0542-4d9f-d2ab-b4eb41b31005"
      },
      "execution_count": 23,
      "outputs": [
        {
          "output_type": "execute_result",
          "data": {
            "text/plain": [
              "'555-5555'"
            ],
            "application/vnd.google.colaboratory.intrinsic+json": {
              "type": "string"
            }
          },
          "metadata": {},
          "execution_count": 23
        }
      ]
    },
    {
      "cell_type": "code",
      "source": [
        "student"
      ],
      "metadata": {
        "colab": {
          "base_uri": "https://localhost:8080/"
        },
        "id": "JAXhdvPnO_tn",
        "outputId": "da9be056-5800-4252-bc17-7e54fcd411d6"
      },
      "execution_count": 24,
      "outputs": [
        {
          "output_type": "execute_result",
          "data": {
            "text/plain": [
              "{'name': 'Jane', 'courses': ['Math', 'CompSci']}"
            ]
          },
          "metadata": {},
          "execution_count": 24
        }
      ]
    },
    {
      "cell_type": "code",
      "source": [
        "#looping through a dict\n",
        "student.update({'Phone-No':9803239930,'email':'rg5353070'})"
      ],
      "metadata": {
        "id": "qzSRUOm8PCGB"
      },
      "execution_count": 25,
      "outputs": []
    },
    {
      "cell_type": "code",
      "source": [
        "student"
      ],
      "metadata": {
        "colab": {
          "base_uri": "https://localhost:8080/"
        },
        "id": "fukIno-cPrmT",
        "outputId": "ce600cba-4b1c-4215-8f63-57c54bc9997f"
      },
      "execution_count": 26,
      "outputs": [
        {
          "output_type": "execute_result",
          "data": {
            "text/plain": [
              "{'name': 'Jane',\n",
              " 'courses': ['Math', 'CompSci'],\n",
              " 'Phone-No': 9803239930,\n",
              " 'email': 'rg5353070'}"
            ]
          },
          "metadata": {},
          "execution_count": 26
        }
      ]
    },
    {
      "cell_type": "code",
      "source": [
        "for key in student.items():\n",
        "  print(key)"
      ],
      "metadata": {
        "colab": {
          "base_uri": "https://localhost:8080/"
        },
        "id": "8tYDKWG1Psl6",
        "outputId": "c7d3a783-4fe1-4427-fef3-b750c14efc0a"
      },
      "execution_count": 29,
      "outputs": [
        {
          "output_type": "stream",
          "name": "stdout",
          "text": [
            "('name', 'Jane')\n",
            "('courses', ['Math', 'CompSci'])\n",
            "('Phone-No', 9803239930)\n",
            "('email', 'rg5353070')\n"
          ]
        }
      ]
    },
    {
      "cell_type": "code",
      "source": [
        "for key,value in student.items():\n",
        "  print(key,value)"
      ],
      "metadata": {
        "colab": {
          "base_uri": "https://localhost:8080/"
        },
        "id": "7Rgpwyz8QMpj",
        "outputId": "ae3621f4-dd00-4a79-f583-cbad6cf21dbd"
      },
      "execution_count": 30,
      "outputs": [
        {
          "output_type": "stream",
          "name": "stdout",
          "text": [
            "name Jane\n",
            "courses ['Math', 'CompSci']\n",
            "Phone-No 9803239930\n",
            "email rg5353070\n"
          ]
        }
      ]
    },
    {
      "cell_type": "code",
      "source": [],
      "metadata": {
        "id": "uHpVIJTwQe6B"
      },
      "execution_count": null,
      "outputs": []
    }
  ]
}