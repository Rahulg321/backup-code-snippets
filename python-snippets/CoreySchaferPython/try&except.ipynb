{
  "cells": [
    {
      "cell_type": "code",
      "execution_count": 1,
      "metadata": {
        "colab": {
          "base_uri": "https://localhost:8080/"
        },
        "id": "RKGpZY92Zg_C",
        "outputId": "68591f06-c45a-401b-96f9-bc17191a6ff8"
      },
      "outputs": [
        {
          "name": "stdout",
          "output_type": "stream",
          "text": [
            "sorry.this file does not exist!\n"
          ]
        }
      ],
      "source": [
        "\"\"\"\n",
        "  specific exceptions at the top\n",
        "   and general instructions at the Bottom\n",
        "\"\"\"\n",
        "\n",
        "try:\n",
        "  f = open('testfile.txt')\n",
        "# except FileNotFoundError:\n",
        "#   print('Not found!!')\n",
        "#this is a general or global error\n",
        "#treats all errors the same\n",
        "except Exception:\n",
        "  print('sorry.this file does not exist!')\n"
      ]
    },
    {
      "cell_type": "code",
      "execution_count": 2,
      "metadata": {
        "colab": {
          "base_uri": "https://localhost:8080/"
        },
        "id": "xotXTgIfZmDJ",
        "outputId": "25921b4e-9267-4635-b512-c5435ec3fbdf"
      },
      "outputs": [
        {
          "name": "stdout",
          "output_type": "stream",
          "text": [
            "[Errno 2] No such file or directory: 'testfile.txt'\n"
          ]
        }
      ],
      "source": [
        "\"\"\"\n",
        "  specific exceptions at the top\n",
        "   and general instructions at the Bottom\n",
        "\"\"\"\n",
        "\n",
        "try:\n",
        "  f = open('testfile.txt')\n",
        "except FileNotFoundError as e:  #if we want to print the error that it threw\n",
        "  print(e)\n",
        "#this is a general or global error\n",
        "\n",
        "#treats all errors the same\n",
        "except Exception:\n",
        "  print('sorry.this file does not exist!')\n"
      ]
    },
    {
      "cell_type": "code",
      "execution_count": 9,
      "metadata": {
        "colab": {
          "base_uri": "https://localhost:8080/"
        },
        "id": "CufXKS_jdbxi",
        "outputId": "14c78f2e-de47-4bb4-eb78-64effa184033"
      },
      "outputs": [
        {
          "name": "stdout",
          "output_type": "stream",
          "text": [
            "NO Error! You Win!\n"
          ]
        }
      ],
      "source": [
        "try:\n",
        " x = 2\n",
        "except FileNotFoundError as e:  #if we want to print the error that it threw\n",
        "  print(e)\n",
        "#this is a general or global error\n",
        "#treats all errors the same\n",
        "except Exception:\n",
        "  print('sorry.this file does not exist!')\n",
        "else:\n",
        "  print('NO Error! You Win!')"
      ]
    },
    {
      "cell_type": "code",
      "execution_count": 4,
      "metadata": {
        "colab": {
          "base_uri": "https://localhost:8080/"
        },
        "id": "bOCycMl1ehd_",
        "outputId": "c5881057-6569-4eb2-8cb1-19403496a3aa"
      },
      "outputs": [
        {
          "name": "stdout",
          "output_type": "stream",
          "text": [
            "name 'y' is not defined\n",
            "exceuting the finally\n"
          ]
        }
      ],
      "source": [
        "try:\n",
        " x = y\n",
        "except FileNotFoundError as e:  #if we want to print the error that it threw\n",
        "  print(e)\n",
        "#this is a general or global error\n",
        "#treats all errors the same\n",
        "except Exception as e:\n",
        "  print(e)\n",
        "else:\n",
        "  print('NO Error! You Win!')\n",
        "finally:\n",
        "   #runs no matter what happens\n",
        "   print('exceuting the finally')\n",
        "\n"
      ]
    },
    {
      "cell_type": "code",
      "execution_count": 8,
      "metadata": {
        "id": "l4dKFqenfqbE"
      },
      "outputs": [
        {
          "name": "stdout",
          "output_type": "stream",
          "text": [
            "\n",
            "after try and else\n"
          ]
        }
      ],
      "source": [
        "#creating our custom exception\n",
        "\n",
        "\n",
        "class Error(Exception):\n",
        "    pass\n",
        "\n",
        "class dobException(Exception):\n",
        "    pass\n",
        "\n",
        "year = int(input('enter the year of birth '))\n",
        "age = 2022 - year\n",
        "try:\n",
        "    if age <= 30 & age >= 20:\n",
        "        print('correct')\n",
        "    else:\n",
        "        raise dobException\n",
        "except dobException as e:\n",
        "    print('you are tooo much of a kid')\n",
        "\n",
        "print('after try and else')"
      ]
    },
    {
      "cell_type": "code",
      "execution_count": 10,
      "metadata": {},
      "outputs": [
        {
          "ename": "NameTooShortError",
          "evalue": "Name too short",
          "output_type": "error",
          "traceback": [
            "\u001b[1;31m---------------------------------------------------------------------------\u001b[0m",
            "\u001b[1;31mNameTooShortError\u001b[0m                         Traceback (most recent call last)",
            "\u001b[1;32m~\\AppData\\Local\\Temp\\ipykernel_3308\\285569370.py\u001b[0m in \u001b[0;36m<module>\u001b[1;34m\u001b[0m\n\u001b[0;32m      7\u001b[0m         \u001b[1;32mraise\u001b[0m \u001b[0mNameTooShortError\u001b[0m\u001b[1;33m(\u001b[0m\u001b[1;34m'Name too short'\u001b[0m\u001b[1;33m)\u001b[0m\u001b[1;33m\u001b[0m\u001b[1;33m\u001b[0m\u001b[0m\n\u001b[0;32m      8\u001b[0m \u001b[1;33m\u001b[0m\u001b[0m\n\u001b[1;32m----> 9\u001b[1;33m \u001b[0mvalidate\u001b[0m\u001b[1;33m(\u001b[0m\u001b[1;34m'hey'\u001b[0m\u001b[1;33m)\u001b[0m\u001b[1;33m\u001b[0m\u001b[1;33m\u001b[0m\u001b[0m\n\u001b[0m",
            "\u001b[1;32m~\\AppData\\Local\\Temp\\ipykernel_3308\\285569370.py\u001b[0m in \u001b[0;36mvalidate\u001b[1;34m(name)\u001b[0m\n\u001b[0;32m      5\u001b[0m \u001b[1;32mdef\u001b[0m \u001b[0mvalidate\u001b[0m\u001b[1;33m(\u001b[0m\u001b[0mname\u001b[0m\u001b[1;33m)\u001b[0m\u001b[1;33m:\u001b[0m\u001b[1;33m\u001b[0m\u001b[1;33m\u001b[0m\u001b[0m\n\u001b[0;32m      6\u001b[0m     \u001b[1;32mif\u001b[0m \u001b[0mlen\u001b[0m\u001b[1;33m(\u001b[0m\u001b[0mname\u001b[0m\u001b[1;33m)\u001b[0m\u001b[1;33m<\u001b[0m\u001b[1;36m10\u001b[0m\u001b[1;33m:\u001b[0m\u001b[1;33m\u001b[0m\u001b[1;33m\u001b[0m\u001b[0m\n\u001b[1;32m----> 7\u001b[1;33m         \u001b[1;32mraise\u001b[0m \u001b[0mNameTooShortError\u001b[0m\u001b[1;33m(\u001b[0m\u001b[1;34m'Name too short'\u001b[0m\u001b[1;33m)\u001b[0m\u001b[1;33m\u001b[0m\u001b[1;33m\u001b[0m\u001b[0m\n\u001b[0m\u001b[0;32m      8\u001b[0m \u001b[1;33m\u001b[0m\u001b[0m\n\u001b[0;32m      9\u001b[0m \u001b[0mvalidate\u001b[0m\u001b[1;33m(\u001b[0m\u001b[1;34m'hey'\u001b[0m\u001b[1;33m)\u001b[0m\u001b[1;33m\u001b[0m\u001b[1;33m\u001b[0m\u001b[0m\n",
            "\u001b[1;31mNameTooShortError\u001b[0m: Name too short"
          ]
        }
      ],
      "source": [
        "class NameTooShortError(ValueError):\n",
        "    pass\n",
        "\n",
        "\n",
        "def validate(name):\n",
        "    if len(name)<10:\n",
        "        raise NameTooShortError\n",
        "\n",
        "\n"
      ]
    },
    {
      "cell_type": "code",
      "execution_count": null,
      "metadata": {},
      "outputs": [],
      "source": []
    }
  ],
  "metadata": {
    "colab": {
      "provenance": []
    },
    "kernelspec": {
      "display_name": "base",
      "language": "python",
      "name": "python3"
    },
    "language_info": {
      "codemirror_mode": {
        "name": "ipython",
        "version": 3
      },
      "file_extension": ".py",
      "mimetype": "text/x-python",
      "name": "python",
      "nbconvert_exporter": "python",
      "pygments_lexer": "ipython3",
      "version": "3.9.13"
    },
    "vscode": {
      "interpreter": {
        "hash": "be3ecca1999832811818999c05b31956d6b0882ef6062a672d8759b2cb2225ec"
      }
    }
  },
  "nbformat": 4,
  "nbformat_minor": 0
}
