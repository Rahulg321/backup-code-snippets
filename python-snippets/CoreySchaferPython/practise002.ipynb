{
 "cells": [
  {
   "cell_type": "code",
   "execution_count": 6,
   "metadata": {},
   "outputs": [
    {
     "name": "stdout",
     "output_type": "stream",
     "text": [
      "there is an i or an u present\n"
     ]
    }
   ],
   "source": [
    "letters = ['vsdvdsvdsvdsvfffdjnaskndnaskiiuiuiui']\n",
    "for char in letters:\n",
    "    for word in char:\n",
    "        if word == 'i' or word == 'u':\n",
    "          print('there is an i or an u present')\n",
    "          break\n",
    "\n"
   ]
  },
  {
   "cell_type": "markdown",
   "metadata": {},
   "source": [
    "this is from mit ocw python course "
   ]
  },
  {
   "cell_type": "code",
   "execution_count": 8,
   "metadata": {},
   "outputs": [
    {
     "name": "stdout",
     "output_type": "stream",
     "text": [
      "give me a g! g\n",
      "give me an e! e\n",
      "give me a t! t\n",
      "give me an i! i\n",
      "give me a t! t\n",
      "what does that spell? \n",
      "getit !!!!!!!!!!\n",
      "getit !!!!!!!!!!\n",
      "getit !!!!!!!!!!\n",
      "getit !!!!!!!!!!\n",
      "getit !!!!!!!!!!\n"
     ]
    }
   ],
   "source": [
    "#cheerLeading Robots Example\n",
    "an_letters = 'aefhilmnorsxAEFHILMNORSX'\n",
    "word = input('enter a word ')\n",
    "times = int(input('enethusiasm level(1-10)/ '))\n",
    "\n",
    "\n",
    "for char in word:\n",
    "    if char in an_letters:\n",
    "        print(f'give me an {char}! {char}')\n",
    "    else:\n",
    "        print(f'give me a {char}! {char}')\n",
    "\n",
    "\n",
    "print('what does that spell? ')\n",
    "for i in range(times):\n",
    "    print(word,'!!!!!!!!!!')"
   ]
  },
  {
   "cell_type": "code",
   "execution_count": 12,
   "metadata": {},
   "outputs": [
    {
     "name": "stdout",
     "output_type": "stream",
     "text": [
      "we have found the cube 2\n"
     ]
    }
   ],
   "source": [
    "#algorithms\n",
    "#finding the cube root\n",
    "#first is \n",
    "#guess and check method\n",
    "#exhaustive innumeration\n",
    "cube = 8\n",
    "for x in range(1,cube+1):\n",
    "    if x**3 == cube:\n",
    "        print(f'we have found the cube {x}')\n",
    "        break\n"
   ]
  },
  {
   "cell_type": "code",
   "execution_count": 22,
   "metadata": {},
   "outputs": [
    {
     "name": "stdout",
     "output_type": "stream",
     "text": [
      "cube is not a perfect cube! 3\n"
     ]
    }
   ],
   "source": [
    "cube = 9\n",
    "for guess in range(abs(cube)+1):\n",
    "    if guess**3 == abs(cube):\n",
    "        if cube < 0 :\n",
    "            guess = -guess\n",
    "            print(f'the guess is {guess}')\n",
    "        print(f'we have found the cube {guess}')\n",
    "        break\n",
    "    elif guess**3 > abs(cube):\n",
    "        print(f'cube is not a perfect cube! {guess}')\n",
    "        break\n",
    "    "
   ]
  },
  {
   "cell_type": "code",
   "execution_count": 5,
   "metadata": {},
   "outputs": [
    {
     "name": "stdout",
     "output_type": "stream",
     "text": [
      "num of guesses are 300\n",
      "2.99999999999998 is close to the root\n"
     ]
    }
   ],
   "source": [
    "#getting a close enough answer \n",
    "#not caring whether a num is a cube or not\n",
    "#if the number is not a perfect cube then we enter an infinite loop\n",
    "cube = 27\n",
    "epsilon = 0.1\n",
    "guess = 0.0\n",
    "increment = 0.01\n",
    "num_guesses = 0\n",
    "\n",
    "#how far away we are from the epsilon\n",
    "#until we have reached a guess that is good enough\n",
    "#and is less than the epsilon\n",
    "while abs(guess**3 - cube) >= epsilon:\n",
    "    guess += increment\n",
    "    num_guesses += 1\n",
    "print(f'num of guesses are {num_guesses}')\n",
    "\n",
    "\n",
    "\n",
    "if abs(guess**3 - cube) >= epsilon:\n",
    "    print('failed on cube root of',cube)\n",
    "else:\n",
    "    print(f'{guess} is close to the root')"
   ]
  },
  {
   "cell_type": "code",
   "execution_count": 28,
   "metadata": {},
   "outputs": [
    {
     "name": "stdout",
     "output_type": "stream",
     "text": [
      "num of guesses are 1000000\n",
      "failed on cube root of 10000\n"
     ]
    }
   ],
   "source": [
    "#getting a close enough answer \n",
    "#not caring whether a num is a cube or not\n",
    "#if the number is not a perfect cube then we enter an infinite loop\n",
    "cube = 10000\n",
    "epsilon = 0.1\n",
    "guess = 0.0\n",
    "increment = 0.01\n",
    "num_guesses = 0\n",
    "\n",
    "while abs(guess**3 - cube) >= epsilon and guess <= cube:\n",
    "    guess += increment\n",
    "    num_guesses += 1\n",
    "print(f'num of guesses are {num_guesses}')\n",
    "\n",
    "#if the cube is not a perfect cube\n",
    "#then our guess value will exceed the actual value of the cube\n",
    "#and if it does \n",
    "#then our cube does not exist\n",
    "if abs(guess**3 - cube) >= epsilon:\n",
    "    print('failed on cube root of',cube)\n",
    "else:\n",
    "    print(f'{guess} is close to the cube root of {cube}')"
   ]
  },
  {
   "cell_type": "code",
   "execution_count": 29,
   "metadata": {},
   "outputs": [
    {
     "name": "stdout",
     "output_type": "stream",
     "text": [
      "2.999267578125 is close to the cube root of 27\n"
     ]
    }
   ],
   "source": [
    "#bisection search or Binary Search\n",
    "#finding the cube root using Bisection Search\n",
    "\n",
    "cube = 27\n",
    "epsilon = 0.1\n",
    "num_guesses = 0\n",
    "low = 0\n",
    "high = cube\n",
    "guess = (low+high)/2.0\n",
    "while abs(guess**3 - cube) >= epsilon and guess <= cube:\n",
    "    if guess**3 < cube: #if our guess is too low, then move on to the upper part of the range of the numbers\n",
    "        low = guess\n",
    "    else: #guess is too high, move to the lower range of numbers\n",
    "        high = guess\n",
    "    guess = (low+high)/2.0\n",
    "    num_guesses += 1\n",
    "\n",
    "print(f'{guess} is close to the cube root of {cube}')"
   ]
  },
  {
   "cell_type": "code",
   "execution_count": 6,
   "metadata": {},
   "outputs": [],
   "source": [
    "#decomposition is creating structure in ur code,breaking things down into smaller parts\n",
    "#abstraction is hiding down the data\n",
    "#we dont need to know what goes on behind the scenes\n",
    "#doc string explains the major conecpt behind ur code\n",
    "#how to use ur code, what inputs does it take etc.\n",
    "\n",
    "\n",
    "\n",
    "import pandas as pd\n",
    "my_dict = {\n",
    "    'name':['rahul','yashika'],\n",
    "    'last':['gupta','malhotra']\n",
    "}\n",
    "\n",
    "\n",
    "df = pd.DataFrame(my_dict)"
   ]
  },
  {
   "cell_type": "code",
   "execution_count": 7,
   "metadata": {},
   "outputs": [
    {
     "data": {
      "text/html": [
       "<div>\n",
       "<style scoped>\n",
       "    .dataframe tbody tr th:only-of-type {\n",
       "        vertical-align: middle;\n",
       "    }\n",
       "\n",
       "    .dataframe tbody tr th {\n",
       "        vertical-align: top;\n",
       "    }\n",
       "\n",
       "    .dataframe thead th {\n",
       "        text-align: right;\n",
       "    }\n",
       "</style>\n",
       "<table border=\"1\" class=\"dataframe\">\n",
       "  <thead>\n",
       "    <tr style=\"text-align: right;\">\n",
       "      <th></th>\n",
       "      <th>name</th>\n",
       "      <th>last</th>\n",
       "    </tr>\n",
       "  </thead>\n",
       "  <tbody>\n",
       "    <tr>\n",
       "      <th>0</th>\n",
       "      <td>rahul</td>\n",
       "      <td>gupta</td>\n",
       "    </tr>\n",
       "    <tr>\n",
       "      <th>1</th>\n",
       "      <td>yashika</td>\n",
       "      <td>malhotra</td>\n",
       "    </tr>\n",
       "  </tbody>\n",
       "</table>\n",
       "</div>"
      ],
      "text/plain": [
       "      name      last\n",
       "0    rahul     gupta\n",
       "1  yashika  malhotra"
      ]
     },
     "execution_count": 7,
     "metadata": {},
     "output_type": "execute_result"
    }
   ],
   "source": [
    "df"
   ]
  },
  {
   "cell_type": "code",
   "execution_count": 3,
   "metadata": {},
   "outputs": [
    {
     "name": "stdout",
     "output_type": "stream",
     "text": [
      "10\n",
      "12\n",
      "10\n"
     ]
    }
   ],
   "source": [
    "x= 10\n",
    "def printing():\n",
    "    x = 12\n",
    "    return x\n",
    "\n",
    "print(x)\n",
    "\n",
    "print(printing())\n",
    "print(x)"
   ]
  },
  {
   "cell_type": "code",
   "execution_count": null,
   "metadata": {},
   "outputs": [],
   "source": []
  }
 ],
 "metadata": {
  "kernelspec": {
   "display_name": "Python 3.9.13 64-bit ('anaconda3')",
   "language": "python",
   "name": "python3"
  },
  "language_info": {
   "codemirror_mode": {
    "name": "ipython",
    "version": 3
   },
   "file_extension": ".py",
   "mimetype": "text/x-python",
   "name": "python",
   "nbconvert_exporter": "python",
   "pygments_lexer": "ipython3",
   "version": "3.9.13"
  },
  "orig_nbformat": 4,
  "vscode": {
   "interpreter": {
    "hash": "20a9e06a1eee47c4abbed4ec8225ad91d78d9800d202b71b6b0a6e47016c6abd"
   }
  }
 },
 "nbformat": 4,
 "nbformat_minor": 2
}
