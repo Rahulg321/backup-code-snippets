{
  "cells": [
    {
      "cell_type": "code",
      "execution_count": 1,
      "metadata": {
        "colab": {
          "base_uri": "https://localhost:8080/"
        },
        "id": "5sSZv-JXuvQl",
        "outputId": "9029d728-960c-4c75-8edd-cb89c29abab2"
      },
      "outputs": [
        {
          "name": "stdout",
          "output_type": "stream",
          "text": [
            "25\n"
          ]
        }
      ],
      "source": [
        "\"\"\"\n",
        "first class functions\n",
        "\"\"\"\n",
        "def square(num):\n",
        "  return num*num\n",
        "\n",
        "f = square\n",
        "\n",
        "print(f(5))\n"
      ]
    },
    {
      "cell_type": "code",
      "execution_count": 3,
      "metadata": {
        "colab": {
          "base_uri": "https://localhost:8080/"
        },
        "id": "jmfESYhlwhjd",
        "outputId": "c3de35ab-54c5-48a8-c55d-4b9045c95765"
      },
      "outputs": [
        {
          "name": "stdout",
          "output_type": "stream",
          "text": [
            "[1, 4, 9, 16, 25]\n"
          ]
        }
      ],
      "source": [
        "\"\"\"\n",
        "A func that accepts other functions as arguements and returns\n",
        "another function is known as a \n",
        "HIGH ORDER FUNCTION \n",
        "\"\"\"\n",
        "def cube(x):\n",
        "  return x*x*x\n",
        "\n",
        "def my_map(func,arg_list):\n",
        "  list1 = []\n",
        "  for n in arg_list:\n",
        "    list1.append(func(n))\n",
        "  return list1\n",
        "\n",
        "\n",
        "squares = my_map(square,[1,2,3,4,5])\n",
        "cubes = my_map(cube,[1,2,3,4,5])\n",
        "\n",
        "\n",
        "print(squares)\n",
        "\n",
        "\n",
        "\n",
        "\n"
      ]
    },
    {
      "cell_type": "code",
      "execution_count": 2,
      "metadata": {
        "id": "U5iyX4Nly24A"
      },
      "outputs": [],
      "source": [
        "def define_name(name):\n",
        "\n",
        "  def log():\n",
        "    return (f'log: {name}')\n",
        "  return log()"
      ]
    },
    {
      "cell_type": "code",
      "execution_count": 3,
      "metadata": {
        "colab": {
          "base_uri": "https://localhost:8080/",
          "height": 36
        },
        "id": "Xapza1eZ0nfT",
        "outputId": "a9b7134a-41f8-45d4-e89c-6c418de9f650"
      },
      "outputs": [
        {
          "data": {
            "text/plain": [
              "'log: Rahul'"
            ]
          },
          "execution_count": 3,
          "metadata": {},
          "output_type": "execute_result"
        }
      ],
      "source": [
        "define_name(\"Rahul\")"
      ]
    },
    {
      "cell_type": "code",
      "execution_count": 13,
      "metadata": {
        "id": "FsibBG280ydr"
      },
      "outputs": [],
      "source": [
        "def message(msg):\n",
        "\n",
        "  def log():\n",
        "    print(f'Log: {msg}')\n",
        "  \n",
        "  return log"
      ]
    },
    {
      "cell_type": "code",
      "execution_count": 15,
      "metadata": {
        "colab": {
          "base_uri": "https://localhost:8080/"
        },
        "id": "gaaoTlJR00cY",
        "outputId": "5895cb92-5903-44ad-889c-bc228ffa0f28"
      },
      "outputs": [
        {
          "name": "stdout",
          "output_type": "stream",
          "text": [
            "Log: My name is Khan\n"
          ]
        }
      ],
      "source": [
        "logger = message(\"My name is Khan\")\n",
        "logger()"
      ]
    },
    {
      "cell_type": "code",
      "execution_count": null,
      "metadata": {
        "id": "sY8bdGdE162N"
      },
      "outputs": [],
      "source": []
    }
  ],
  "metadata": {
    "colab": {
      "collapsed_sections": [],
      "provenance": []
    },
    "kernelspec": {
      "display_name": "Python 3.9.13 64-bit ('anaconda3')",
      "language": "python",
      "name": "python3"
    },
    "language_info": {
      "codemirror_mode": {
        "name": "ipython",
        "version": 3
      },
      "file_extension": ".py",
      "mimetype": "text/x-python",
      "name": "python",
      "nbconvert_exporter": "python",
      "pygments_lexer": "ipython3",
      "version": "3.9.13"
    },
    "vscode": {
      "interpreter": {
        "hash": "20a9e06a1eee47c4abbed4ec8225ad91d78d9800d202b71b6b0a6e47016c6abd"
      }
    }
  },
  "nbformat": 4,
  "nbformat_minor": 0
}
