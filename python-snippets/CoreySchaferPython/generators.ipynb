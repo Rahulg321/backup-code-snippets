{
  "cells": [
    {
      "cell_type": "code",
      "execution_count": 8,
      "metadata": {
        "colab": {
          "base_uri": "https://localhost:8080/"
        },
        "id": "US8cx6t8l9Fy",
        "outputId": "bb042f0e-282e-4656-82cf-e43384f0e361"
      },
      "outputs": [
        {
          "name": "stdout",
          "output_type": "stream",
          "text": [
            "1\n",
            "4\n",
            "9\n",
            "16\n",
            "25\n",
            "[25, 16, 9, 4, 1]\n"
          ]
        }
      ],
      "source": [
        "def square_numbers(nums):\n",
        "  for i in nums:\n",
        "    yield i*i\n",
        "\n",
        "my_nums = square_numbers([1,2,3,4,5])\n",
        "#generators dont hold the entire result in memory\n",
        "#it yield one result at a time\n",
        "#thats why it wont print\n",
        "\n",
        "# print(next(my_nums))\n",
        "# print(next(my_nums))\n",
        "# print(next(my_nums))\n",
        "# print(next(my_nums))\n",
        "# print(next(my_nums))\n",
        "\n",
        "for num in my_nums:\n",
        "  print(num)\n",
        "\n",
        "square_list = [x*x for x in [5,4,3,2,1]]\n",
        "print(square_list)"
      ]
    },
    {
      "cell_type": "code",
      "execution_count": 9,
      "metadata": {
        "colab": {
          "base_uri": "https://localhost:8080/"
        },
        "id": "8UCxlmQ_nRW8",
        "outputId": "8a3495e2-e643-4897-a151-231c65b8a48d"
      },
      "outputs": [
        {
          "name": "stdout",
          "output_type": "stream",
          "text": [
            "<generator object <genexpr> at 0x7fd74f57b7d0>\n"
          ]
        }
      ],
      "source": [
        "#creating a generator comprehension\n",
        "#curly brackets for generator comprehension\n",
        "square_list1 = (x*x for x in [5,4,3,2,1])\n",
        "print(square_list1)"
      ]
    },
    {
      "cell_type": "code",
      "execution_count": 10,
      "metadata": {
        "id": "lNzEYa7KpUkU"
      },
      "outputs": [],
      "source": [
        "#genrators doesnt occupy space by itself but we can  \n",
        "#allocate space by using list\n",
        "\n",
        "square_list = list(square_list1)"
      ]
    },
    {
      "cell_type": "code",
      "execution_count": null,
      "metadata": {
        "id": "p-g6rO6PqqX3"
      },
      "outputs": [],
      "source": []
    }
  ],
  "metadata": {
    "colab": {
      "collapsed_sections": [],
      "provenance": []
    },
    "kernelspec": {
      "display_name": "Python 3.10.5 64-bit",
      "language": "python",
      "name": "python3"
    },
    "language_info": {
      "name": "python",
      "version": "3.10.5"
    },
    "vscode": {
      "interpreter": {
        "hash": "8c3d4d9970fc5c09c50d9318a9c7fbf4d0159e4b28833276f5678ee22bded273"
      }
    }
  },
  "nbformat": 4,
  "nbformat_minor": 0
}
