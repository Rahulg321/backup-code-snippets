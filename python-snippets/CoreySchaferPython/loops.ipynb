{
  "cells": [
    {
      "cell_type": "code",
      "execution_count": 1,
      "metadata": {
        "colab": {
          "base_uri": "https://localhost:8080/"
        },
        "id": "3olf7ZhQ_2iA",
        "outputId": "4dbe9350-82e2-40f8-cb19-dcdf52a670ef"
      },
      "outputs": [
        {
          "name": "stdout",
          "output_type": "stream",
          "text": [
            "1\n",
            "2\n",
            "3\n",
            "4\n",
            "5\n"
          ]
        }
      ],
      "source": [
        "nums = [1,2,3,4,5]\n",
        "\n",
        "for num in nums:\n",
        "  print(num)"
      ]
    },
    {
      "cell_type": "code",
      "execution_count": 4,
      "metadata": {
        "colab": {
          "base_uri": "https://localhost:8080/"
        },
        "id": "GTw3TKJXDJ1B",
        "outputId": "f5ae38a8-c4d5-4c2e-853a-9ebde8dad688"
      },
      "outputs": [
        {
          "name": "stdout",
          "output_type": "stream",
          "text": [
            "1\n",
            "2\n",
            "Found It!!\n"
          ]
        }
      ],
      "source": [
        "#break and continue keyword\n",
        "for num in nums:\n",
        "  if num == 3:\n",
        "    print('Found It!!')\n",
        "    break\n",
        "  print(num)"
      ]
    },
    {
      "cell_type": "code",
      "execution_count": 5,
      "metadata": {
        "colab": {
          "base_uri": "https://localhost:8080/"
        },
        "id": "XZ45ChGqDkhO",
        "outputId": "d388d212-fcdc-4d18-e5e9-d78f5788808d"
      },
      "outputs": [
        {
          "name": "stdout",
          "output_type": "stream",
          "text": [
            "1\n",
            "2\n",
            "Found It!!\n",
            "4\n",
            "5\n"
          ]
        }
      ],
      "source": [
        "#continue skips the iteration and moves on to the next iterable\n",
        "for num in nums:\n",
        "  if num == 3:\n",
        "    print('Found It!!')\n",
        "    continue\n",
        "  print(num)"
      ]
    },
    {
      "cell_type": "code",
      "execution_count": 6,
      "metadata": {
        "colab": {
          "base_uri": "https://localhost:8080/"
        },
        "id": "RreVxsWwEIhs",
        "outputId": "aad21595-eb1e-43ed-f7ef-683e2803d6b2"
      },
      "outputs": [
        {
          "name": "stdout",
          "output_type": "stream",
          "text": [
            "1 a\n",
            "1 b\n",
            "1 c\n",
            "2 a\n",
            "2 b\n",
            "2 c\n",
            "3 a\n",
            "3 b\n",
            "3 c\n",
            "4 a\n",
            "4 b\n",
            "4 c\n",
            "5 a\n",
            "5 b\n",
            "5 c\n"
          ]
        }
      ],
      "source": [
        "#nested loops\n",
        "for num in nums:\n",
        "  for letter in 'abc':\n",
        "    print(num,letter)"
      ]
    },
    {
      "cell_type": "code",
      "execution_count": 11,
      "metadata": {
        "colab": {
          "base_uri": "https://localhost:8080/"
        },
        "id": "WsOYSaFeEoVE",
        "outputId": "76a4fdc0-fdb0-4544-b249-d97983d2efed"
      },
      "outputs": [
        {
          "name": "stdout",
          "output_type": "stream",
          "text": [
            "1\n",
            "2\n",
            "3\n",
            "4\n",
            "5\n",
            "6\n",
            "7\n",
            "8\n",
            "9\n",
            "10\n"
          ]
        }
      ],
      "source": [
        "#going through loop a certain number of times\n",
        "for i in range(1,11):\n",
        "  print(i)"
      ]
    },
    {
      "cell_type": "code",
      "execution_count": 15,
      "metadata": {
        "colab": {
          "base_uri": "https://localhost:8080/"
        },
        "id": "f6-kxe1dFS-I",
        "outputId": "d5a69f51-6ccb-4637-e514-34b57156229b"
      },
      "outputs": [
        {
          "name": "stdout",
          "output_type": "stream",
          "text": [
            "1\n",
            "2\n",
            "3\n",
            "4\n",
            "5\n",
            "6\n",
            "7\n",
            "8\n",
            "9\n",
            "10\n"
          ]
        }
      ],
      "source": [
        "#while loop until a certain condition is met\n",
        "x = 1\n",
        "while x <= 10:\n",
        "  print(x)\n",
        "  x+=1"
      ]
    },
    {
      "cell_type": "code",
      "execution_count": 16,
      "metadata": {
        "colab": {
          "base_uri": "https://localhost:8080/"
        },
        "id": "1oDT3X3OFqb4",
        "outputId": "f4e1fe45-8014-40d8-f726-d19179f8e79a"
      },
      "outputs": [
        {
          "name": "stdout",
          "output_type": "stream",
          "text": [
            "1\n",
            "2\n",
            "3\n",
            "4\n",
            "5\n"
          ]
        }
      ],
      "source": [
        "#using break in while\n",
        "x = 1\n",
        "while x <= 10:\n",
        "  if x == 6:\n",
        "    break\n",
        "  print(x)\n",
        "  x+=1"
      ]
    },
    {
      "cell_type": "code",
      "execution_count": 18,
      "metadata": {
        "colab": {
          "base_uri": "https://localhost:8080/"
        },
        "id": "EnEdlj91F_nl",
        "outputId": "ec348d6d-ed98-4cc3-fa78-ba73bfe1dff3"
      },
      "outputs": [
        {
          "name": "stdout",
          "output_type": "stream",
          "text": [
            "1\n",
            "2\n",
            "3\n",
            "4\n",
            "5\n"
          ]
        }
      ],
      "source": [
        "#creating an infinite loop that never ends until we\n",
        "#get some input or break or according to the program\n",
        "x = 1\n",
        "while True:\n",
        "  if x == 6:\n",
        "    break\n",
        "  print(x)\n",
        "  x+=1"
      ]
    },
    {
      "cell_type": "code",
      "execution_count": null,
      "metadata": {
        "id": "eZXM2UTXGRZ6"
      },
      "outputs": [],
      "source": []
    }
  ],
  "metadata": {
    "colab": {
      "name": "loops.ipynb",
      "provenance": []
    },
    "kernelspec": {
      "display_name": "Python 3.10.5 64-bit",
      "language": "python",
      "name": "python3"
    },
    "language_info": {
      "name": "python",
      "version": "3.10.5"
    },
    "vscode": {
      "interpreter": {
        "hash": "8c3d4d9970fc5c09c50d9318a9c7fbf4d0159e4b28833276f5678ee22bded273"
      }
    }
  },
  "nbformat": 4,
  "nbformat_minor": 0
}
