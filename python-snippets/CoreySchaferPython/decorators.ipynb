{
  "cells": [
    {
      "cell_type": "markdown",
      "metadata": {
        "id": "WBn-lTsOyIal"
      },
      "source": [
        "*decorator is a function that takes another function as an arguement, adds some functionality to it, and then returns another function*"
      ]
    },
    {
      "cell_type": "code",
      "execution_count": 2,
      "metadata": {
        "colab": {
          "base_uri": "https://localhost:8080/"
        },
        "id": "q3uoyRB8x77P",
        "outputId": "f0af7137-ebf8-4963-fe1e-7c0f6b05a53d"
      },
      "outputs": [
        {
          "name": "stdout",
          "output_type": "stream",
          "text": [
            "display function ran\n"
          ]
        }
      ],
      "source": [
        "def decorator_func(original_func):\n",
        "  def wrapper_func():\n",
        "    return original_func()\n",
        "  return wrapper_func\n",
        "\n",
        "def display():\n",
        "  print(f'display function ran')\n",
        "\n",
        "decorated_display = decorator_func(display)\n",
        "\n",
        "\n",
        "decorated_display()"
      ]
    },
    {
      "cell_type": "code",
      "execution_count": null,
      "metadata": {
        "colab": {
          "base_uri": "https://localhost:8080/"
        },
        "id": "RRz2A8jIzPCw",
        "outputId": "cab50037-c8cf-4ff3-fb2e-0912cec9d8bf"
      },
      "outputs": [
        {
          "name": "stdout",
          "output_type": "stream",
          "text": [
            "wrapper executed this before display\n",
            "display function ran\n"
          ]
        }
      ],
      "source": [
        "#we added functionality\n",
        "#without altering our original function\n",
        "\n",
        "def decorator_func(original_func):\n",
        "  def wrapper_func():\n",
        "    print(f'wrapper executed this before {original_func.__name__}')\n",
        "    return original_func()\n",
        "  return wrapper_func\n",
        "\n",
        "def display():\n",
        "  print(f'display function ran')\n",
        "\n",
        "decorated_display = decorator_func(display)\n",
        "\n",
        "\n",
        "decorated_display()"
      ]
    },
    {
      "cell_type": "code",
      "execution_count": 2,
      "metadata": {
        "colab": {
          "base_uri": "https://localhost:8080/"
        },
        "id": "Aw68_FYSz0Qx",
        "outputId": "3d20ca52-5f40-498b-825b-8463d79a127b"
      },
      "outputs": [
        {
          "name": "stdout",
          "output_type": "stream",
          "text": [
            "wrapper executed this before display\n",
            "display function ran\n"
          ]
        }
      ],
      "source": [
        "def decorator_function(original_func):\n",
        "  def wrapper_func():\n",
        "    print(f'wrapper executed this before {original_func.__name__}')\n",
        "    return original_func()\n",
        "  return wrapper_func\n",
        "\n",
        "@decorator_function\n",
        "def display():\n",
        "  print(f'display function ran')\n",
        "\n",
        "display()\n",
        "\n"
      ]
    },
    {
      "cell_type": "code",
      "execution_count": null,
      "metadata": {
        "id": "uPURZcbI1EuZ"
      },
      "outputs": [],
      "source": [
        "# attheratesign decorator_function\n",
        "# def display():\n",
        "#   print(f'display function ran')\n",
        "\n",
        "# #the above code is equal to saying\n",
        "\n",
        "# display = decorator_function(display)"
      ]
    },
    {
      "cell_type": "code",
      "execution_count": 3,
      "metadata": {
        "colab": {
          "base_uri": "https://localhost:8080/"
        },
        "id": "E7GrIBbw2COk",
        "outputId": "6351d67d-a459-4d2c-e942-096461e36696"
      },
      "outputs": [
        {
          "name": "stdout",
          "output_type": "stream",
          "text": [
            "wrapper executed before display_info\n",
            "name is John\n",
            "and age is 19\n",
            "wrapper executed before display\n",
            "display function ran\n"
          ]
        }
      ],
      "source": [
        "def decorator_function(original_func):\n",
        "  def wrapper_func(*args,**kwargs):\n",
        "    print(f'wrapper executed before {original_func.__name__}')\n",
        "    return original_func(*args,**kwargs)\n",
        "  return wrapper_func\n",
        "\n",
        "@decorator_function\n",
        "def display():\n",
        "  print(f'display function ran')\n",
        "\n",
        "\n",
        "@decorator_function\n",
        "def display_info(name,age):\n",
        "  print(f'name is {name}\\nand age is {age}')\n",
        "\n",
        "\n",
        "display_info('John',19)\n",
        "display()\n"
      ]
    },
    {
      "cell_type": "code",
      "execution_count": null,
      "metadata": {
        "id": "BTy_3W7v2YDN"
      },
      "outputs": [],
      "source": [
        "#Studying class decorators\n",
        "def decorator_function(original_func):\n",
        "  def wrapper_func(*args,**kwargs):\n",
        "    print(f'wrapper executed this before {original_func.__name__}')\n",
        "    return original_func(*args,**kwargs)\n",
        "  return wrapper_func\n",
        "\n",
        "\n",
        "@decorator_function\n",
        "def display():\n",
        "  print(f'display function ran')\n",
        "\n",
        "\n",
        "@decorator_function\n",
        "def display_info(name,age):\n",
        "  print(f'name is {name}\\nand age is {age}')\n",
        "\n",
        "\n",
        "display_info('John',19)\n",
        "display()"
      ]
    },
    {
      "cell_type": "code",
      "execution_count": 5,
      "metadata": {},
      "outputs": [
        {
          "name": "stdout",
          "output_type": "stream",
          "text": [
            "{'Name': 'Rahul Gupta', 'Age': 21}\n"
          ]
        }
      ],
      "source": [
        "my_dict = {\n",
        "    'Name': 'Rahul Gupta',\n",
        "    'Age': 21\n",
        "}\n",
        "    \n",
        "\n",
        "print(my_dict)    "
      ]
    },
    {
      "cell_type": "code",
      "execution_count": null,
      "metadata": {},
      "outputs": [],
      "source": []
    }
  ],
  "metadata": {
    "colab": {
      "collapsed_sections": [],
      "provenance": []
    },
    "kernelspec": {
      "display_name": "Python 3.9.13 64-bit ('anaconda3')",
      "language": "python",
      "name": "python3"
    },
    "language_info": {
      "codemirror_mode": {
        "name": "ipython",
        "version": 3
      },
      "file_extension": ".py",
      "mimetype": "text/x-python",
      "name": "python",
      "nbconvert_exporter": "python",
      "pygments_lexer": "ipython3",
      "version": "3.9.13"
    },
    "vscode": {
      "interpreter": {
        "hash": "20a9e06a1eee47c4abbed4ec8225ad91d78d9800d202b71b6b0a6e47016c6abd"
      }
    }
  },
  "nbformat": 4,
  "nbformat_minor": 0
}
