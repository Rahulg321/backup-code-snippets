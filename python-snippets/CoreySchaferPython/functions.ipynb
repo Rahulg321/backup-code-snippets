{
  "cells": [
    {
      "cell_type": "code",
      "execution_count": 2,
      "metadata": {
        "id": "qgdbyJcEVFtS"
      },
      "outputs": [],
      "source": [
        "#pass keyowrd says we dont want to do anything with this\n",
        "#for now, but we also don't want any errors\n",
        "def hello_func():\n",
        "  pass\n",
        "hello_func()"
      ]
    },
    {
      "cell_type": "code",
      "execution_count": 3,
      "metadata": {
        "colab": {
          "base_uri": "https://localhost:8080/"
        },
        "id": "JuWQptcZWLbx",
        "outputId": "af24b823-0aeb-4595-ca60-5c619dcc15b2"
      },
      "outputs": [
        {
          "name": "stdout",
          "output_type": "stream",
          "text": [
            "Hello Function!! \n"
          ]
        }
      ],
      "source": [
        "def hello_func():\n",
        "  print('Hello Function!! ')\n",
        "hello_func()\n",
        "#keeping your code dry which means not repeating yourself"
      ]
    },
    {
      "cell_type": "code",
      "execution_count": 5,
      "metadata": {
        "colab": {
          "base_uri": "https://localhost:8080/"
        },
        "id": "U_OCf6c7WeY5",
        "outputId": "5021c444-a058-4d03-9636-ddc72b613efc"
      },
      "outputs": [
        {
          "name": "stdout",
          "output_type": "stream",
          "text": [
            "HELLO FUNCTION.!\n"
          ]
        }
      ],
      "source": [
        "def hello():\n",
        "  return 'Hello function.!'\n",
        "#when we execute\n",
        "#it is going to be equal to the return value\n",
        "#taking input and producing a result\n",
        "print(hello().upper())"
      ]
    },
    {
      "cell_type": "code",
      "execution_count": 8,
      "metadata": {
        "colab": {
          "base_uri": "https://localhost:8080/"
        },
        "id": "nxXEpkQNYFsW",
        "outputId": "f9ecc7bf-3409-4c15-c3e0-c60df23a545b"
      },
      "outputs": [
        {
          "name": "stdout",
          "output_type": "stream",
          "text": [
            "Hi,You!!\n"
          ]
        }
      ],
      "source": [
        "def hello_func(greeting,name = 'You'):  #passing a default value as parameters\n",
        "  return f'{greeting},{name}!!'\n",
        "print(hello_func('Hi'))"
      ]
    },
    {
      "cell_type": "code",
      "execution_count": 9,
      "metadata": {
        "colab": {
          "base_uri": "https://localhost:8080/"
        },
        "id": "ySN7u4myY26b",
        "outputId": "e5f21c5e-f4c1-4cd4-9ee1-a7ecd98691d5"
      },
      "outputs": [
        {
          "name": "stdout",
          "output_type": "stream",
          "text": [
            "Hi,Rahul!!\n"
          ]
        }
      ],
      "source": [
        "print(hello_func('Hi','Rahul'))"
      ]
    },
    {
      "cell_type": "code",
      "execution_count": 10,
      "metadata": {
        "id": "9A7bGK_MZngL"
      },
      "outputs": [],
      "source": [
        "def student_info(*args,**kwargs):\n",
        "  print(args)\n",
        "  print(kwargs)\n",
        "#arbitary no of arguements\n",
        "#args are positional arguements\n",
        "#kwargs are keyWord arguements"
      ]
    },
    {
      "cell_type": "code",
      "execution_count": 11,
      "metadata": {
        "colab": {
          "base_uri": "https://localhost:8080/"
        },
        "id": "iG0LjGLebIkQ",
        "outputId": "34c48def-66a9-4298-9e5d-18d801e426dc"
      },
      "outputs": [
        {
          "name": "stdout",
          "output_type": "stream",
          "text": [
            "('History', 'Math', 'Science')\n",
            "{'name': 'Rahul', 'Age': 19}\n"
          ]
        }
      ],
      "source": [
        "student_info('History','Math','Science',name = 'Rahul',Age = 19)\n",
        "\n",
        "#returns a tuple of our positional arguements\n",
        "#returns a dictionary of our keyword arguements"
      ]
    },
    {
      "cell_type": "code",
      "execution_count": 12,
      "metadata": {
        "id": "NR2XCImhbWZ6"
      },
      "outputs": [],
      "source": [
        "courses = ['History', 'Math', 'Science']\n",
        "info = {'name': 'Rahul', 'Age': 19}\n",
        "#student_info(couses,info)\n",
        "#instead of passing them individually\n",
        "#it instead passes them both as positional arguements"
      ]
    },
    {
      "cell_type": "code",
      "execution_count": 13,
      "metadata": {
        "colab": {
          "base_uri": "https://localhost:8080/"
        },
        "id": "o1QQ-lVXdc7L",
        "outputId": "3da114f6-77a0-491e-95ed-ec1f637d3a6c"
      },
      "outputs": [
        {
          "name": "stdout",
          "output_type": "stream",
          "text": [
            "('History', 'Math', 'Science')\n",
            "{'name': 'Rahul', 'Age': 19}\n"
          ]
        }
      ],
      "source": [
        "student_info(*courses,**info)\n",
        "# * and ** seprates them both"
      ]
    },
    {
      "cell_type": "code",
      "execution_count": 15,
      "metadata": {
        "colab": {
          "base_uri": "https://localhost:8080/",
          "height": 53
        },
        "id": "aqTRpeqEdlFZ",
        "outputId": "66b00e6a-6c9f-49e6-8218-827a910b6971"
      },
      "outputs": [
        {
          "data": {
            "application/vnd.google.colaboratory.intrinsic+json": {
              "type": "string"
            },
            "text/plain": [
              "'this is a doc string help document what a function or a class is supposed to do'"
            ]
          },
          "execution_count": 15,
          "metadata": {},
          "output_type": "execute_result"
        }
      ],
      "source": [
        "\"\"\"this is a doc string help document what a function or a class is supposed to do\"\"\""
      ]
    },
    {
      "cell_type": "code",
      "execution_count": 18,
      "metadata": {
        "id": "W3kBAolNfjkg"
      },
      "outputs": [],
      "source": [
        "month_days = [0,31,28,31,30,31,30,31,31,30,31,30,31]\n",
        "def is_leap(year):\n",
        "  \"\"\"Returns True/False respectively for leap years\"\"\"\n",
        "  return year % 4== 0 and (year % 100 != 0 or year % 400 == 0)\n",
        "\n",
        "def days_in_month(year,month):\n",
        "  \"\"\"returns number of days in a month\"\"\"\n",
        "  if not  1 <= month <= 12:\n",
        "    return 'Invalid Month Number'\n",
        "  elif month == 2 and is_leap(year):\n",
        "    return 29\n",
        "  return month_days[month]\n"
      ]
    },
    {
      "cell_type": "code",
      "execution_count": 19,
      "metadata": {
        "colab": {
          "base_uri": "https://localhost:8080/"
        },
        "id": "i7tpp5_ehn0l",
        "outputId": "924dc7e9-ddda-4464-b53d-a39165b27ae7"
      },
      "outputs": [
        {
          "name": "stdout",
          "output_type": "stream",
          "text": [
            "True\n"
          ]
        }
      ],
      "source": [
        "print(is_leap(2020))"
      ]
    },
    {
      "cell_type": "code",
      "execution_count": 21,
      "metadata": {
        "colab": {
          "base_uri": "https://localhost:8080/"
        },
        "id": "W6Kbaz8ah8qa",
        "outputId": "3ef15e8f-38cd-4eef-f831-aa1c3d057439"
      },
      "outputs": [
        {
          "name": "stdout",
          "output_type": "stream",
          "text": [
            "29\n",
            "28\n",
            "29\n"
          ]
        }
      ],
      "source": [
        "print(days_in_month(2020,2))\n",
        "print(days_in_month(2017,2))\n",
        "print(days_in_month(2016,2))"
      ]
    },
    {
      "cell_type": "code",
      "execution_count": null,
      "metadata": {
        "id": "7q5PQAEBiOWU"
      },
      "outputs": [],
      "source": [
        " "
      ]
    }
  ],
  "metadata": {
    "colab": {
      "collapsed_sections": [],
      "provenance": []
    },
    "kernelspec": {
      "display_name": "Python 3.10.5 64-bit",
      "language": "python",
      "name": "python3"
    },
    "language_info": {
      "name": "python",
      "version": "3.10.5"
    },
    "vscode": {
      "interpreter": {
        "hash": "8c3d4d9970fc5c09c50d9318a9c7fbf4d0159e4b28833276f5678ee22bded273"
      }
    }
  },
  "nbformat": 4,
  "nbformat_minor": 0
}
