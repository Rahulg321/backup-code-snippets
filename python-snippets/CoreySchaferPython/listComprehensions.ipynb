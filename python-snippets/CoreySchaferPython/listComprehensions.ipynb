{
  "nbformat": 4,
  "nbformat_minor": 0,
  "metadata": {
    "colab": {
      "provenance": [],
      "collapsed_sections": []
    },
    "kernelspec": {
      "name": "python3",
      "display_name": "Python 3"
    },
    "language_info": {
      "name": "python"
    }
  },
  "cells": [
    {
      "cell_type": "code",
      "source": [
        "\"\"\"\n",
        "List comprehensions\n",
        "basically whenever we want to reduce our syntax\n",
        "\"\"\"\n",
        "nums = [1,2,3,4,5,6,7,8,9,10]\n",
        "\n",
        "my_list = []\n",
        "for x in nums:\n",
        "  my_list.append(x)\n",
        "print(my_list)"
      ],
      "metadata": {
        "colab": {
          "base_uri": "https://localhost:8080/"
        },
        "id": "4agAXEwH8zaQ",
        "outputId": "709d7107-225d-4577-80c0-be21dfe2f6be"
      },
      "execution_count": 54,
      "outputs": [
        {
          "output_type": "stream",
          "name": "stdout",
          "text": [
            "[1, 2, 3, 4, 5, 6, 7, 8, 9, 10]\n"
          ]
        }
      ]
    },
    {
      "cell_type": "code",
      "source": [
        "my_list2 = [n for n in nums ]\n",
        "print(my_list2)"
      ],
      "metadata": {
        "colab": {
          "base_uri": "https://localhost:8080/"
        },
        "id": "KMij7fKd9F7F",
        "outputId": "91d6d0eb-36a4-49e1-f751-a423c5073b45"
      },
      "execution_count": 57,
      "outputs": [
        {
          "output_type": "stream",
          "name": "stdout",
          "text": [
            "[1, 2, 3, 4, 5, 6, 7, 8, 9, 10]\n"
          ]
        }
      ]
    },
    {
      "cell_type": "code",
      "source": [
        "my_list2 = [n*n for n in nums ]\n",
        "print(my_list2)"
      ],
      "metadata": {
        "colab": {
          "base_uri": "https://localhost:8080/"
        },
        "id": "z1DVTEXY9MXu",
        "outputId": "14089fa6-db10-45fc-9696-9d449f80ce65"
      },
      "execution_count": 59,
      "outputs": [
        {
          "output_type": "stream",
          "name": "stdout",
          "text": [
            "[1, 4, 9, 16, 25, 36, 49, 64, 81, 100]\n"
          ]
        }
      ]
    },
    {
      "cell_type": "code",
      "source": [
        "my_list3 = [n for n in nums if n%2 == 0]\n",
        "print(my_list3)"
      ],
      "metadata": {
        "colab": {
          "base_uri": "https://localhost:8080/"
        },
        "id": "8rxW3wUV9vRc",
        "outputId": "9b18e315-93f0-4a55-fbae-056bcf3a95e8"
      },
      "execution_count": 61,
      "outputs": [
        {
          "output_type": "stream",
          "name": "stdout",
          "text": [
            "[2, 4, 6, 8, 10]\n"
          ]
        }
      ]
    },
    {
      "cell_type": "code",
      "source": [
        "#nested for loops in list comprehensions\n",
        "\n",
        "my_list = [(letter,num) for letter in 'abcd' for num in range(4)]\n",
        "print(my_list)"
      ],
      "metadata": {
        "colab": {
          "base_uri": "https://localhost:8080/"
        },
        "id": "Z3StYKpV-2hT",
        "outputId": "65714d27-99bc-4607-d898-5c4529897ab4"
      },
      "execution_count": 62,
      "outputs": [
        {
          "output_type": "stream",
          "name": "stdout",
          "text": [
            "[('a', 0), ('a', 1), ('a', 2), ('a', 3), ('b', 0), ('b', 1), ('b', 2), ('b', 3), ('c', 0), ('c', 1), ('c', 2), ('c', 3), ('d', 0), ('d', 1), ('d', 2), ('d', 3)]\n"
          ]
        }
      ]
    },
    {
      "cell_type": "code",
      "source": [
        "\"\"\"\n",
        "DICITONARY COMPREHENSIONS\n",
        "\"\"\"\n",
        "names = ['Bruce','Clark','Peter','Logan']\n",
        "heros = ['Batman','Superman','SpiderMan','HomeLander']\n",
        "\n",
        "#zip function returns a list of tuples\n",
        "#taking two lists\n",
        "#with their adjoining indexes\n",
        "\n",
        "my_dict = {}\n",
        "for name,hero in zip(names,heros):\n",
        "  my_dict[name] = hero\n",
        "print(my_dict)\n",
        "\n"
      ],
      "metadata": {
        "colab": {
          "base_uri": "https://localhost:8080/"
        },
        "id": "BxpZpedZ_tCR",
        "outputId": "1c92239c-fb4b-42df-fd8b-e2173bd9fc58"
      },
      "execution_count": 67,
      "outputs": [
        {
          "output_type": "stream",
          "name": "stdout",
          "text": [
            "{'Bruce': 'Batman', 'Clark': 'Superman', 'Peter': 'SpiderMan', 'Logan': 'HomeLander'}\n"
          ]
        }
      ]
    },
    {
      "cell_type": "code",
      "source": [
        "my_dict = {name:hero for name,hero in zip(names,heros)}\n",
        "print(my_dict)"
      ],
      "metadata": {
        "colab": {
          "base_uri": "https://localhost:8080/"
        },
        "id": "2SkzY2LDArnB",
        "outputId": "907fc284-9cc8-427a-cf87-d2acdaddb28c"
      },
      "execution_count": 68,
      "outputs": [
        {
          "output_type": "stream",
          "name": "stdout",
          "text": [
            "{'Bruce': 'Batman', 'Clark': 'Superman', 'Peter': 'SpiderMan', 'Logan': 'HomeLander'}\n"
          ]
        }
      ]
    },
    {
      "cell_type": "code",
      "source": [
        "prime_no = [1,2,3,5,7,13,11,17]\n",
        "list_prime = [n for n in prime_no]\n",
        "print(list_prime)"
      ],
      "metadata": {
        "colab": {
          "base_uri": "https://localhost:8080/"
        },
        "id": "NzEw9RkXDUmf",
        "outputId": "4683c0c0-4bbe-46ca-af9e-b4774392cb61"
      },
      "execution_count": 70,
      "outputs": [
        {
          "output_type": "stream",
          "name": "stdout",
          "text": [
            "[1, 2, 3, 5, 7, 13, 11, 17]\n"
          ]
        }
      ]
    },
    {
      "cell_type": "code",
      "source": [
        "#if we want, we can easily add restrictions as well\n",
        "\n",
        "my_dict1 = {name:hero for name,hero in zip(names,heros) if name != 'Peter'}\n",
        "print(my_dict1)"
      ],
      "metadata": {
        "colab": {
          "base_uri": "https://localhost:8080/"
        },
        "id": "p-XNZdYbDfQ5",
        "outputId": "3e0f865f-4524-420b-f8c2-81d63f629ae9"
      },
      "execution_count": 84,
      "outputs": [
        {
          "output_type": "stream",
          "name": "stdout",
          "text": [
            "{'Rahul': 'Batman', 'Lakshya': 'Superman', 'Roshan': 'SpiderMan'}\n"
          ]
        }
      ]
    },
    {
      "cell_type": "code",
      "source": [
        "\"\"\"\n",
        "Set Comprehensions\n",
        "\"\"\"\n",
        "\n",
        "nums = [1,1,1,2,2,2,3,3,4,4,5,6,6,77,788,88,77,88,1,1]\n",
        "\n",
        "#my_set = {}\n",
        "#it will consider it just like an empty dictionary\n",
        "my_set = set()\n",
        "for num in nums:\n",
        "  my_set.add(num)\n",
        "print(my_set)"
      ],
      "metadata": {
        "colab": {
          "base_uri": "https://localhost:8080/"
        },
        "id": "v2Zh3YU9D-kO",
        "outputId": "30625d93-c584-4d8c-d67f-f5ba6b5588e8"
      },
      "execution_count": 73,
      "outputs": [
        {
          "output_type": "stream",
          "name": "stdout",
          "text": [
            "{1, 2, 3, 4, 5, 6, 77, 788, 88}\n"
          ]
        }
      ]
    },
    {
      "cell_type": "code",
      "source": [
        "my_set1 = set(num for num in nums)\n",
        "print(my_set)"
      ],
      "metadata": {
        "colab": {
          "base_uri": "https://localhost:8080/"
        },
        "id": "f1GJ5R4eEaDl",
        "outputId": "fae9a7f4-10ab-4900-a1f3-c22fd216682e"
      },
      "execution_count": 74,
      "outputs": [
        {
          "output_type": "stream",
          "name": "stdout",
          "text": [
            "{1, 2, 3, 4, 5, 6, 77, 788, 88}\n"
          ]
        }
      ]
    },
    {
      "cell_type": "code",
      "source": [
        "my_set2 = {n for n in nums}"
      ],
      "metadata": {
        "id": "Hsn9JJiaFozx"
      },
      "execution_count": 75,
      "outputs": []
    },
    {
      "cell_type": "code",
      "source": [
        "print(my_set2)"
      ],
      "metadata": {
        "colab": {
          "base_uri": "https://localhost:8080/"
        },
        "id": "hpgJy7IaF49X",
        "outputId": "e87bab3b-d968-4e6e-d960-a0811416f988"
      },
      "execution_count": 76,
      "outputs": [
        {
          "output_type": "stream",
          "name": "stdout",
          "text": [
            "{1, 2, 3, 4, 5, 6, 77, 788, 88}\n"
          ]
        }
      ]
    },
    {
      "cell_type": "code",
      "source": [
        "\"\"\"\n",
        "Generator Expressions\n",
        "\"\"\"\n",
        "\n",
        "nums = [9,8,7,6,5]\n",
        "my_generator = (n*n for n in nums)\n",
        "print(my_generator)"
      ],
      "metadata": {
        "colab": {
          "base_uri": "https://localhost:8080/"
        },
        "id": "rsFUGCcoF6TX",
        "outputId": "f141a6c0-0a13-4134-e194-40e2d69368c3"
      },
      "execution_count": 86,
      "outputs": [
        {
          "output_type": "stream",
          "name": "stdout",
          "text": [
            "<generator object <genexpr> at 0x7fe3a2378cd0>\n"
          ]
        }
      ]
    },
    {
      "cell_type": "code",
      "source": [
        "def simple_Gen():\n",
        "  yield 1\n",
        "  yield 2\n",
        "  return 12\n",
        "\n",
        "print(simple_Gen())\n",
        "for value in simple_Gen():\n",
        "  print(value)"
      ],
      "metadata": {
        "colab": {
          "base_uri": "https://localhost:8080/"
        },
        "id": "rlKwqAfEG5E_",
        "outputId": "3c7109f2-ea87-4806-cab3-7e8c1a06f293"
      },
      "execution_count": 81,
      "outputs": [
        {
          "output_type": "stream",
          "name": "stdout",
          "text": [
            "<generator object simple_Gen at 0x7fe3a237ba50>\n",
            "1\n",
            "2\n"
          ]
        }
      ]
    },
    {
      "cell_type": "code",
      "source": [
        "nums = [1,2,3]\n",
        "names =[\"Rahul\",\"Lakshya\",\"Roshan\"]\n",
        "my_dict = {index:name for index,name in zip(nums,names)}\n",
        "print(my_dict)"
      ],
      "metadata": {
        "colab": {
          "base_uri": "https://localhost:8080/"
        },
        "id": "H65NbwICHBnj",
        "outputId": "49dbc11d-54fc-406e-85f7-75b6059f5f20"
      },
      "execution_count": 82,
      "outputs": [
        {
          "output_type": "stream",
          "name": "stdout",
          "text": [
            "{1: 'Rahul', 2: 'Lakshya', 3: 'Roshan'}\n"
          ]
        }
      ]
    },
    {
      "cell_type": "code",
      "source": [],
      "metadata": {
        "id": "uxBHxIArr-by"
      },
      "execution_count": null,
      "outputs": []
    }
  ]
}