{
  "cells": [
    {
      "cell_type": "code",
      "execution_count": null,
      "metadata": {
        "colab": {
          "base_uri": "https://localhost:8080/"
        },
        "id": "T1zSF94wQ2Tj",
        "outputId": "dd87c35f-b9cd-4f0e-8ba5-ea6bdfd5227f"
      },
      "outputs": [
        {
          "name": "stdout",
          "output_type": "stream",
          "text": [
            "Conditional was true\n"
          ]
        }
      ],
      "source": [
        "#condition after if statement evaluates to True\n",
        "if True:\n",
        "  print('Conditional was true')"
      ]
    },
    {
      "cell_type": "code",
      "execution_count": null,
      "metadata": {
        "id": "vbhgvK90RaCM"
      },
      "outputs": [],
      "source": [
        "if False:\n",
        "  print('Conditional was true')"
      ]
    },
    {
      "cell_type": "code",
      "execution_count": null,
      "metadata": {
        "id": "tT-9nKOMRkRR"
      },
      "outputs": [],
      "source": [
        "language = 'Java'\n",
        "if language == 'Python':\n",
        "  print('Python is True')"
      ]
    },
    {
      "cell_type": "code",
      "execution_count": null,
      "metadata": {
        "colab": {
          "base_uri": "https://localhost:8080/"
        },
        "id": "OLghfBxNR0Qp",
        "outputId": "dc6913ee-0193-466a-9fc1-571e59632d76"
      },
      "outputs": [
        {
          "name": "stdout",
          "output_type": "stream",
          "text": [
            "No Match\n"
          ]
        }
      ],
      "source": [
        "# the is Keyword checks whether the values have the same Id or Not\n",
        "#same object in Memory\n",
        "if language == 'Pytho':\n",
        "  print('it is Python')\n",
        "else:\n",
        "  print('No Match')"
      ]
    },
    {
      "cell_type": "code",
      "execution_count": null,
      "metadata": {
        "colab": {
          "base_uri": "https://localhost:8080/"
        },
        "id": "SZ8wZXdpS5dZ",
        "outputId": "fa082cce-0ca8-4872-8298-3336b3744ead"
      },
      "outputs": [
        {
          "name": "stdout",
          "output_type": "stream",
          "text": [
            "Java It is!\n"
          ]
        }
      ],
      "source": [
        "if language == 'Python':\n",
        "  print('it is Python')\n",
        "elif language == 'Java':\n",
        "  print('Java It is!')\n",
        "else:\n",
        "  print('No Match')"
      ]
    },
    {
      "cell_type": "code",
      "execution_count": null,
      "metadata": {
        "colab": {
          "base_uri": "https://localhost:8080/"
        },
        "id": "cL2X12nGTTah",
        "outputId": "2500ff69-8bf0-4ac7-9370-c4d2f643ab1a"
      },
      "outputs": [
        {
          "name": "stdout",
          "output_type": "stream",
          "text": [
            "Admin Page\n"
          ]
        }
      ],
      "source": [
        "user = 'Admin'\n",
        "logged_in = True\n",
        "if user == 'Admin' and logged_in:\n",
        "  print('Admin Page')\n",
        "else:\n",
        "  print('Bad Creds')"
      ]
    },
    {
      "cell_type": "code",
      "execution_count": null,
      "metadata": {
        "colab": {
          "base_uri": "https://localhost:8080/"
        },
        "id": "MzXOzq6BUd8a",
        "outputId": "5e967a2f-4b58-4ebb-8e0f-9faa85cfe702"
      },
      "outputs": [
        {
          "name": "stdout",
          "output_type": "stream",
          "text": [
            "Bad Creds\n"
          ]
        }
      ],
      "source": [
        "user = 'Admin'\n",
        "logged_in = False\n",
        "if user == 'Admin' and logged_in:\n",
        "  print('Admin Page')\n",
        "else:\n",
        "  print('Bad Creds')"
      ]
    },
    {
      "cell_type": "code",
      "execution_count": null,
      "metadata": {
        "colab": {
          "base_uri": "https://localhost:8080/"
        },
        "id": "OEvh4Ni_Uvt4",
        "outputId": "d8b59d64-8d40-462d-86eb-026bc21cee9a"
      },
      "outputs": [
        {
          "name": "stdout",
          "output_type": "stream",
          "text": [
            "Admin Page\n"
          ]
        }
      ],
      "source": [
        "user = 'Admin'\n",
        "logged_in = False\n",
        "if user == 'Admin' or logged_in:\n",
        "  print('Admin Page')\n",
        "else:\n",
        "  print('Bad Creds')"
      ]
    },
    {
      "cell_type": "code",
      "execution_count": null,
      "metadata": {
        "colab": {
          "base_uri": "https://localhost:8080/"
        },
        "id": "KkEfEkieU2Jp",
        "outputId": "52ca62d9-e1f1-40d7-8417-68c069185075"
      },
      "outputs": [
        {
          "name": "stdout",
          "output_type": "stream",
          "text": [
            "Plz log in\n"
          ]
        }
      ],
      "source": [
        "#agar false hai toh True\n",
        "#not operator is just used to switch to a boolean\n",
        "#it will change True to a False\n",
        "#and False to a True\n",
        "user = 'Admin'\n",
        "logged_in = False\n",
        "if not logged_in: #agar logged in false hai toh\n",
        "  print('Plz log in')\n",
        "else:\n",
        "  print('Thank you for Logging In!')"
      ]
    },
    {
      "cell_type": "code",
      "execution_count": 1,
      "metadata": {
        "colab": {
          "base_uri": "https://localhost:8080/"
        },
        "id": "MFB3txMeVaGH",
        "outputId": "eeca44c8-6287-41b4-c26e-fa85536e3185"
      },
      "outputs": [
        {
          "output_type": "stream",
          "name": "stdout",
          "text": [
            "True\n"
          ]
        }
      ],
      "source": [
        "a = [1,2,3]\n",
        "b = [1,2,3]\n",
        "print(a == b) \n",
        "#these two lists are equal because the elements are same"
      ]
    },
    {
      "cell_type": "code",
      "execution_count": 2,
      "metadata": {
        "id": "b-TIOdTcVM_e",
        "colab": {
          "base_uri": "https://localhost:8080/"
        },
        "outputId": "0792e0cb-3ef1-4148-9b21-efd9b0cabd68"
      },
      "outputs": [
        {
          "output_type": "stream",
          "name": "stdout",
          "text": [
            "False\n"
          ]
        }
      ],
      "source": [
        "#False because these are two different objects in memory\n",
        "print(a is b)"
      ]
    },
    {
      "cell_type": "code",
      "source": [
        "print(id(a))\n",
        "print(id(b))"
      ],
      "metadata": {
        "colab": {
          "base_uri": "https://localhost:8080/"
        },
        "id": "N5h3BRDEtipl",
        "outputId": "cef963f5-fa34-4c4f-cec8-983fccfa7259"
      },
      "execution_count": 3,
      "outputs": [
        {
          "output_type": "stream",
          "name": "stdout",
          "text": [
            "140333464227424\n",
            "140333464214256\n"
          ]
        }
      ]
    },
    {
      "cell_type": "code",
      "source": [
        "a = [1,2,3]\n",
        "b = a\n",
        "print(id(a))\n",
        "print(id(b))\n",
        "print(a is b)"
      ],
      "metadata": {
        "colab": {
          "base_uri": "https://localhost:8080/"
        },
        "id": "hhNIp4s1t_5h",
        "outputId": "970a49a3-aba0-4fb4-d279-e71d39498a96"
      },
      "execution_count": 5,
      "outputs": [
        {
          "output_type": "stream",
          "name": "stdout",
          "text": [
            "140333463798080\n",
            "140333463798080\n",
            "True\n"
          ]
        }
      ]
    },
    {
      "cell_type": "code",
      "source": [
        "# False Values:\n",
        "#      false\n",
        "       #zero of any numeric type\n",
        "       #any empty sequence.ForEx- (),[],''\n",
        "       #empty mapping.For example, {}"
      ],
      "metadata": {
        "id": "FGYBYfcCuLfk"
      },
      "execution_count": 6,
      "outputs": []
    },
    {
      "cell_type": "code",
      "source": [
        "condition = False\n",
        "if condition:\n",
        "  print('Evaluated to True')\n",
        "else:\n",
        "  print('Evaluated to False')"
      ],
      "metadata": {
        "colab": {
          "base_uri": "https://localhost:8080/"
        },
        "id": "BuvGt9W0vQLr",
        "outputId": "6ffe19cb-f2cf-4364-cfbd-589bdc6ef1a4"
      },
      "execution_count": 8,
      "outputs": [
        {
          "output_type": "stream",
          "name": "stdout",
          "text": [
            "Evaluated to False\n"
          ]
        }
      ]
    },
    {
      "cell_type": "code",
      "source": [
        "condition = None\n",
        "if condition:\n",
        "  print('Evaluated to True')\n",
        "else:\n",
        "  print('Evaluated to False')"
      ],
      "metadata": {
        "colab": {
          "base_uri": "https://localhost:8080/"
        },
        "id": "ojbi4V-HvekJ",
        "outputId": "5c50ca11-151e-4a4a-bc35-0346ac9e9806"
      },
      "execution_count": 9,
      "outputs": [
        {
          "output_type": "stream",
          "name": "stdout",
          "text": [
            "Evaluated to False\n"
          ]
        }
      ]
    },
    {
      "cell_type": "code",
      "source": [
        "condition = 0\n",
        "if condition:\n",
        "  print('Evaluated to True')\n",
        "else:\n",
        "  print('Evaluated to False')"
      ],
      "metadata": {
        "colab": {
          "base_uri": "https://localhost:8080/"
        },
        "id": "al-LO-ZovrTk",
        "outputId": "d6dfa148-a47c-4715-8709-78943abe9304"
      },
      "execution_count": 10,
      "outputs": [
        {
          "output_type": "stream",
          "name": "stdout",
          "text": [
            "Evaluated to False\n"
          ]
        }
      ]
    },
    {
      "cell_type": "code",
      "source": [
        "condition = []\n",
        "if condition:\n",
        "  print('Evaluated to True')\n",
        "else:\n",
        "  print('Evaluated to False')"
      ],
      "metadata": {
        "colab": {
          "base_uri": "https://localhost:8080/"
        },
        "id": "36kLmuQWvwSy",
        "outputId": "d6310859-6dc3-424e-fb91-aebb2bff85d1"
      },
      "execution_count": 11,
      "outputs": [
        {
          "output_type": "stream",
          "name": "stdout",
          "text": [
            "Evaluated to False\n"
          ]
        }
      ]
    },
    {
      "cell_type": "code",
      "source": [
        "condition = {} #empty mapping which is an empty dictionary\n",
        "if condition:\n",
        "  print('Evaluated to True')\n",
        "else:\n",
        "  print('Evaluated to False')"
      ],
      "metadata": {
        "colab": {
          "base_uri": "https://localhost:8080/"
        },
        "id": "jIMsZ9i4v7cs",
        "outputId": "7d2bb696-9217-467e-b4a6-4e2a807a46b0"
      },
      "execution_count": 12,
      "outputs": [
        {
          "output_type": "stream",
          "name": "stdout",
          "text": [
            "Evaluated to False\n"
          ]
        }
      ]
    },
    {
      "cell_type": "code",
      "source": [],
      "metadata": {
        "id": "V-ukhMK4wB0g"
      },
      "execution_count": null,
      "outputs": []
    }
  ],
  "metadata": {
    "colab": {
      "provenance": []
    },
    "kernelspec": {
      "display_name": "Python 3",
      "name": "python3"
    },
    "language_info": {
      "name": "python"
    }
  },
  "nbformat": 4,
  "nbformat_minor": 0
}