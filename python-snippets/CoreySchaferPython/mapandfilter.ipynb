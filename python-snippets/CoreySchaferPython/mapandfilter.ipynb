{
 "cells": [
  {
   "cell_type": "code",
   "execution_count": 1,
   "metadata": {},
   "outputs": [
    {
     "name": "stdout",
     "output_type": "stream",
     "text": [
      "[1, 2, 3]\n"
     ]
    }
   ],
   "source": [
    "#map applies a function to a whole list\n",
    "\n",
    "numbers = ['1','2','3']\n",
    "\n",
    "#map(funcWhichHasToBeAppliedToTheWholeList,TheListItself)\n",
    "#map returns an object\n",
    "\n",
    "numbers = list(map(int,numbers))\n",
    "# numbers = list(map(float,numbers))\n",
    "\n",
    "print(numbers)\n",
    "\n"
   ]
  },
  {
   "cell_type": "code",
   "execution_count": 4,
   "metadata": {},
   "outputs": [
    {
     "data": {
      "text/plain": [
       "<map at 0x1873e3b0970>"
      ]
     },
     "execution_count": 4,
     "metadata": {},
     "output_type": "execute_result"
    }
   ],
   "source": [
    "map(int,numbers)"
   ]
  },
  {
   "cell_type": "code",
   "execution_count": 6,
   "metadata": {},
   "outputs": [
    {
     "name": "stdout",
     "output_type": "stream",
     "text": [
      "[9, 9, 144, 961, 16, 121, 144]\n"
     ]
    }
   ],
   "source": [
    "num = [3,3,12,31,4,11,12]\n",
    "\n",
    "\n",
    "#or we can use Lambda\n",
    "square_num = list(map(lambda x: x*x,num))\n",
    "\n",
    "\n",
    "print(square_num)"
   ]
  },
  {
   "cell_type": "code",
   "execution_count": 7,
   "metadata": {},
   "outputs": [
    {
     "name": "stdout",
     "output_type": "stream",
     "text": [
      "[9, 9, 144, 961, 16, 121, 144]\n"
     ]
    }
   ],
   "source": [
    "num = [3,3,12,31,4,11,12]\n",
    "\n",
    "def sq(n):\n",
    "    return n**2\n",
    "\n",
    "#we can create a func\n",
    "square_num = list(map(sq,num))\n",
    "\n",
    "\n",
    "print(square_num)"
   ]
  },
  {
   "cell_type": "code",
   "execution_count": 8,
   "metadata": {},
   "outputs": [
    {
     "name": "stdout",
     "output_type": "stream",
     "text": [
      "[0, 0]\n",
      "[1, 1]\n",
      "[4, 8]\n",
      "[9, 27]\n",
      "[16, 64]\n"
     ]
    }
   ],
   "source": [
    "def square(num):\n",
    "    return num**2\n",
    "\n",
    "def cube(num):\n",
    "    return num**3\n",
    "\n",
    "\n",
    "func = [square,cube]\n",
    "\n",
    "# nums = [3,3,12,31,4,11,12]\n",
    "\n",
    "#aLittle advanced Gotta say\n",
    "for i in range(5):\n",
    "    value = list(map(lambda x:x(i),func))\n",
    "    print(value)\n",
    "\n",
    "\n"
   ]
  },
  {
   "cell_type": "code",
   "execution_count": 9,
   "metadata": {},
   "outputs": [
    {
     "name": "stdout",
     "output_type": "stream",
     "text": [
      "[6, 7, 8, 9]\n"
     ]
    }
   ],
   "source": [
    "#filter method\n",
    "list_1 = [1,2,3,4,5,6,7,8,9]\n",
    "\n",
    "def is_greater_5(num):\n",
    "    return num > 5\n",
    "\n",
    "#filter returns those elements that return true \n",
    "#when passed as arguements to a function\n",
    "\n",
    "gt_than_5 = list(filter(is_greater_5,list_1))\n",
    "print(gt_than_5)"
   ]
  },
  {
   "cell_type": "code",
   "execution_count": null,
   "metadata": {},
   "outputs": [],
   "source": []
  }
 ],
 "metadata": {
  "kernelspec": {
   "display_name": "Python 3.9.13 64-bit ('anaconda3')",
   "language": "python",
   "name": "python3"
  },
  "language_info": {
   "codemirror_mode": {
    "name": "ipython",
    "version": 3
   },
   "file_extension": ".py",
   "mimetype": "text/x-python",
   "name": "python",
   "nbconvert_exporter": "python",
   "pygments_lexer": "ipython3",
   "version": "3.9.13"
  },
  "orig_nbformat": 4,
  "vscode": {
   "interpreter": {
    "hash": "20a9e06a1eee47c4abbed4ec8225ad91d78d9800d202b71b6b0a6e47016c6abd"
   }
  }
 },
 "nbformat": 4,
 "nbformat_minor": 2
}
