{
  "cells": [
    {
      "cell_type": "code",
      "execution_count": null,
      "metadata": {
        "id": "acYULD72369A"
      },
      "outputs": [],
      "source": [
        "\"\"\"\n",
        "a closure is basically inner function which has access to variables\n",
        "defined in the local scope in which it was created\n",
        "\"\"\""
      ]
    },
    {
      "cell_type": "code",
      "execution_count": null,
      "metadata": {
        "id": "5qHHkVOC2ulR"
      },
      "outputs": [],
      "source": [
        " def outer_greet():\n",
        "   greet = \"namaste\"\n",
        "   def inner_greet():\n",
        "     print(greet)\n",
        "   return inner_greet  #returning the function, not executing it"
      ]
    },
    {
      "cell_type": "code",
      "execution_count": null,
      "metadata": {
        "colab": {
          "base_uri": "https://localhost:8080/"
        },
        "id": "AW91456L3uCL",
        "outputId": "692d3a90-c0e6-4fde-d630-531f5c9729ac"
      },
      "outputs": [
        {
          "name": "stdout",
          "output_type": "stream",
          "text": [
            "namaste\n"
          ]
        }
      ],
      "source": [
        "outer_greet()"
      ]
    },
    {
      "cell_type": "code",
      "execution_count": 2,
      "metadata": {
        "id": "89wiXG3U5RLr"
      },
      "outputs": [],
      "source": [
        " def outer_func(msg):\n",
        "   message = msg\n",
        "   def inner_func():\n",
        "     print(message)\n",
        "   return inner_func"
      ]
    },
    {
      "cell_type": "code",
      "execution_count": 4,
      "metadata": {
        "id": "whkMoO1i5Raa"
      },
      "outputs": [],
      "source": [
        "hi_func = outer_func('hey my name is ....')"
      ]
    },
    {
      "cell_type": "code",
      "execution_count": 6,
      "metadata": {
        "colab": {
          "base_uri": "https://localhost:8080/"
        },
        "id": "R2UOfmCd5Rhi",
        "outputId": "5d8f9e4d-ce3e-4b7d-be6e-fba237ea901b"
      },
      "outputs": [
        {
          "name": "stdout",
          "output_type": "stream",
          "text": [
            "hey my name is ....\n"
          ]
        }
      ],
      "source": [
        "hi_func()"
      ]
    },
    {
      "cell_type": "code",
      "execution_count": 11,
      "metadata": {
        "id": "Zu6GKNcQsf6w"
      },
      "outputs": [],
      "source": [
        " def outer_func(msg):\n",
        "   message = msg\n",
        "   def inner_func(mag):\n",
        "     print(f'Outer: {message}\\nInner: {mag}')\n",
        "   return inner_func"
      ]
    },
    {
      "cell_type": "code",
      "execution_count": 12,
      "metadata": {
        "id": "2vgL7Zzwt5Ff"
      },
      "outputs": [],
      "source": [
        "hey_func = outer_func('hey everyone...')"
      ]
    },
    {
      "cell_type": "code",
      "execution_count": 13,
      "metadata": {
        "colab": {
          "base_uri": "https://localhost:8080/"
        },
        "id": "c2y85Vuat-vT",
        "outputId": "214bf427-7a6e-41c0-9ed5-e0e7a51c4de6"
      },
      "outputs": [
        {
          "data": {
            "text/plain": [
              "<function __main__.outer_func.<locals>.inner_func(mag)>"
            ]
          },
          "execution_count": 13,
          "metadata": {},
          "output_type": "execute_result"
        }
      ],
      "source": [
        "hey_func"
      ]
    },
    {
      "cell_type": "code",
      "execution_count": 14,
      "metadata": {
        "colab": {
          "base_uri": "https://localhost:8080/"
        },
        "id": "49dsf57auA0J",
        "outputId": "696f7156-d610-4bee-fc4c-c8b36aae0a6d"
      },
      "outputs": [
        {
          "name": "stdout",
          "output_type": "stream",
          "text": [
            "Outer: hey everyone...\n",
            "Inner: I am Peter By the way....\n"
          ]
        }
      ],
      "source": [
        "hey_func('I am Peter By the way....')"
      ]
    },
    {
      "cell_type": "code",
      "execution_count": 5,
      "metadata": {
        "id": "fzMfwx1zuG2A"
      },
      "outputs": [],
      "source": [
        " def outer_func(msg):\n",
        "   \n",
        "   def inner_func(message):\n",
        "     print(f'Printing outer arguement {msg}')\n",
        "     print(f'Printing inner arguement {message}')\n",
        "   return inner_func"
      ]
    },
    {
      "cell_type": "code",
      "execution_count": 6,
      "metadata": {},
      "outputs": [
        {
          "name": "stdout",
          "output_type": "stream",
          "text": [
            "Printing outer arguement hilo\n",
            "Printing inner arguement Our inner message\n"
          ]
        }
      ],
      "source": [
        "hey = outer_func('hilo')\n",
        "hey('Our inner message')"
      ]
    },
    {
      "cell_type": "code",
      "execution_count": null,
      "metadata": {},
      "outputs": [],
      "source": []
    },
    {
      "cell_type": "code",
      "execution_count": null,
      "metadata": {},
      "outputs": [],
      "source": []
    }
  ],
  "metadata": {
    "colab": {
      "collapsed_sections": [],
      "provenance": []
    },
    "kernelspec": {
      "display_name": "Python 3.10.5 64-bit",
      "language": "python",
      "name": "python3"
    },
    "language_info": {
      "codemirror_mode": {
        "name": "ipython",
        "version": 3
      },
      "file_extension": ".py",
      "mimetype": "text/x-python",
      "name": "python",
      "nbconvert_exporter": "python",
      "pygments_lexer": "ipython3",
      "version": "3.10.5"
    },
    "vscode": {
      "interpreter": {
        "hash": "8c3d4d9970fc5c09c50d9318a9c7fbf4d0159e4b28833276f5678ee22bded273"
      }
    }
  },
  "nbformat": 4,
  "nbformat_minor": 0
}
