{
  "nbformat": 4,
  "nbformat_minor": 0,
  "metadata": {
    "colab": {
      "name": "listsTuplesSets.ipynb",
      "provenance": []
    },
    "kernelspec": {
      "name": "python3",
      "display_name": "Python 3"
    },
    "language_info": {
      "name": "python"
    }
  },
  "cells": [
    {
      "cell_type": "code",
      "source": [
        "courses = ['History','Math','Physics']"
      ],
      "metadata": {
        "id": "JULZI5ee_CGa"
      },
      "execution_count": 1,
      "outputs": []
    },
    {
      "cell_type": "code",
      "source": [
        "print(courses)"
      ],
      "metadata": {
        "id": "ZFTWsfPR_d9F",
        "outputId": "7d59ae6e-24b9-4f3e-9099-4c4b8e2de407",
        "colab": {
          "base_uri": "https://localhost:8080/"
        }
      },
      "execution_count": 2,
      "outputs": [
        {
          "output_type": "stream",
          "name": "stdout",
          "text": [
            "['History', 'Math', 'Physics']\n"
          ]
        }
      ]
    },
    {
      "cell_type": "code",
      "source": [
        "len(courses)"
      ],
      "metadata": {
        "id": "KXYYrpKq_gTz",
        "outputId": "8874ecaf-7b31-4980-846c-186ec2d71155",
        "colab": {
          "base_uri": "https://localhost:8080/"
        }
      },
      "execution_count": 3,
      "outputs": [
        {
          "output_type": "execute_result",
          "data": {
            "text/plain": [
              "3"
            ]
          },
          "metadata": {},
          "execution_count": 3
        }
      ]
    },
    {
      "cell_type": "code",
      "source": [
        "#grab the last value from the list\n",
        "print(courses[len(courses)-1])"
      ],
      "metadata": {
        "id": "yzHpSXt4_iYj",
        "outputId": "234faade-7805-4cc2-8b27-70a9cceda8e1",
        "colab": {
          "base_uri": "https://localhost:8080/"
        }
      },
      "execution_count": 5,
      "outputs": [
        {
          "output_type": "stream",
          "name": "stdout",
          "text": [
            "Physics\n"
          ]
        }
      ]
    },
    {
      "cell_type": "code",
      "source": [
        "print(courses[0:2])"
      ],
      "metadata": {
        "id": "fZgUgZj2Aipa",
        "outputId": "7259af5d-54e5-41de-be38-411c5d9bde85",
        "colab": {
          "base_uri": "https://localhost:8080/"
        }
      },
      "execution_count": 6,
      "outputs": [
        {
          "output_type": "stream",
          "name": "stdout",
          "text": [
            "['History', 'Math']\n"
          ]
        }
      ]
    },
    {
      "cell_type": "code",
      "source": [
        "print(courses[:2])"
      ],
      "metadata": {
        "id": "EGBpIiKSBEdo",
        "outputId": "f7e0ef37-95f5-4053-989a-e7d515b83f4c",
        "colab": {
          "base_uri": "https://localhost:8080/"
        }
      },
      "execution_count": 7,
      "outputs": [
        {
          "output_type": "stream",
          "name": "stdout",
          "text": [
            "['History', 'Math']\n"
          ]
        }
      ]
    },
    {
      "cell_type": "code",
      "source": [
        "print(courses[1:])"
      ],
      "metadata": {
        "id": "juQ1jzl3BRU5",
        "outputId": "041028e1-8789-4920-ed14-b3c58b268189",
        "colab": {
          "base_uri": "https://localhost:8080/"
        }
      },
      "execution_count": 9,
      "outputs": [
        {
          "output_type": "stream",
          "name": "stdout",
          "text": [
            "['Math', 'Physics']\n"
          ]
        }
      ]
    },
    {
      "cell_type": "code",
      "source": [
        "#list methods\n",
        "courses.append(\"art\")"
      ],
      "metadata": {
        "id": "IU6Hxg2XBUMk"
      },
      "execution_count": 10,
      "outputs": []
    },
    {
      "cell_type": "code",
      "source": [
        "courses"
      ],
      "metadata": {
        "id": "cAmzhdaoBk2i",
        "outputId": "01177d55-f18c-4986-defb-3a62003a8f9f",
        "colab": {
          "base_uri": "https://localhost:8080/"
        }
      },
      "execution_count": 11,
      "outputs": [
        {
          "output_type": "execute_result",
          "data": {
            "text/plain": [
              "['History', 'Math', 'Physics', 'art']"
            ]
          },
          "metadata": {},
          "execution_count": 11
        }
      ]
    },
    {
      "cell_type": "code",
      "source": [
        "courses.insert(2,\"ComputerScience\") #insert does not removes but adds to the list"
      ],
      "metadata": {
        "id": "B184rxFgBl07"
      },
      "execution_count": 12,
      "outputs": []
    },
    {
      "cell_type": "code",
      "source": [
        "courses"
      ],
      "metadata": {
        "id": "poiyuhhpBvgk",
        "outputId": "2a111a40-919c-4ae8-e7be-a6acb11d286f",
        "colab": {
          "base_uri": "https://localhost:8080/"
        }
      },
      "execution_count": 13,
      "outputs": [
        {
          "output_type": "execute_result",
          "data": {
            "text/plain": [
              "['History', 'Math', 'ComputerScience', 'Physics', 'art']"
            ]
          },
          "metadata": {},
          "execution_count": 13
        }
      ]
    },
    {
      "cell_type": "code",
      "source": [
        "#we use extend method when we have multiple values to add to the list\n",
        "courses_2 = ['Art','Education']"
      ],
      "metadata": {
        "id": "8IC3um0ABw_Q"
      },
      "execution_count": 15,
      "outputs": []
    },
    {
      "cell_type": "code",
      "source": [
        "courses.insert(0,courses_2)"
      ],
      "metadata": {
        "id": "eO1LGMazB5fU"
      },
      "execution_count": 16,
      "outputs": []
    },
    {
      "cell_type": "code",
      "source": [
        "courses"
      ],
      "metadata": {
        "id": "W9jm9mG7CTig",
        "outputId": "c749004b-d707-4ca3-ae8f-956daa013f27",
        "colab": {
          "base_uri": "https://localhost:8080/"
        }
      },
      "execution_count": 17,
      "outputs": [
        {
          "output_type": "execute_result",
          "data": {
            "text/plain": [
              "[['Art', 'Education'], 'History', 'Math', 'ComputerScience', 'Physics', 'art']"
            ]
          },
          "metadata": {},
          "execution_count": 17
        }
      ]
    },
    {
      "cell_type": "code",
      "source": [
        "courses.extend(courses_2) #useful when we want to add a list to a list"
      ],
      "metadata": {
        "id": "6r57OWdkCUqe"
      },
      "execution_count": 18,
      "outputs": []
    },
    {
      "cell_type": "code",
      "source": [
        "courses"
      ],
      "metadata": {
        "id": "Np_K5CYOCiqE",
        "outputId": "0fbf6162-158c-4484-b67f-a512f907be4f",
        "colab": {
          "base_uri": "https://localhost:8080/"
        }
      },
      "execution_count": 19,
      "outputs": [
        {
          "output_type": "execute_result",
          "data": {
            "text/plain": [
              "[['Art', 'Education'],\n",
              " 'History',\n",
              " 'Math',\n",
              " 'ComputerScience',\n",
              " 'Physics',\n",
              " 'art',\n",
              " 'Art',\n",
              " 'Education']"
            ]
          },
          "metadata": {},
          "execution_count": 19
        }
      ]
    },
    {
      "cell_type": "code",
      "source": [
        "courses.remove('Math')"
      ],
      "metadata": {
        "id": "1i9QtttrCj1O"
      },
      "execution_count": 20,
      "outputs": []
    },
    {
      "cell_type": "code",
      "source": [
        "courses.pop()"
      ],
      "metadata": {
        "id": "c9twaLULDRiG",
        "outputId": "3dbda2b1-e3b6-49d1-94a9-a43e84eb40cc",
        "colab": {
          "base_uri": "https://localhost:8080/",
          "height": 35
        }
      },
      "execution_count": 21,
      "outputs": [
        {
          "output_type": "execute_result",
          "data": {
            "text/plain": [
              "'Education'"
            ],
            "application/vnd.google.colaboratory.intrinsic+json": {
              "type": "string"
            }
          },
          "metadata": {},
          "execution_count": 21
        }
      ]
    },
    {
      "cell_type": "code",
      "source": [
        "courses"
      ],
      "metadata": {
        "id": "pyxK7mqADU0k",
        "outputId": "6d02ebe9-9ee4-4bbf-ceac-7214e5c3e7cc",
        "colab": {
          "base_uri": "https://localhost:8080/"
        }
      },
      "execution_count": 22,
      "outputs": [
        {
          "output_type": "execute_result",
          "data": {
            "text/plain": [
              "[['Art', 'Education'], 'History', 'ComputerScience', 'Physics', 'art', 'Art']"
            ]
          },
          "metadata": {},
          "execution_count": 22
        }
      ]
    },
    {
      "cell_type": "code",
      "source": [
        "#to reverse a string\n",
        "courses.reverse()"
      ],
      "metadata": {
        "id": "YBrlIf69Dav3"
      },
      "execution_count": 23,
      "outputs": []
    },
    {
      "cell_type": "code",
      "source": [
        "courses"
      ],
      "metadata": {
        "id": "UG4ovdWZDsHJ",
        "outputId": "584518e5-2b5f-4c5e-b6ca-ea138659647f",
        "colab": {
          "base_uri": "https://localhost:8080/"
        }
      },
      "execution_count": 24,
      "outputs": [
        {
          "output_type": "execute_result",
          "data": {
            "text/plain": [
              "['Art', 'art', 'Physics', 'ComputerScience', 'History', ['Art', 'Education']]"
            ]
          },
          "metadata": {},
          "execution_count": 24
        }
      ]
    },
    {
      "cell_type": "code",
      "source": [
        "courses.remove(courses[5])"
      ],
      "metadata": {
        "id": "ukm0hMaDDtPy"
      },
      "execution_count": 28,
      "outputs": []
    },
    {
      "cell_type": "code",
      "source": [
        "courses"
      ],
      "metadata": {
        "id": "i8cS0V04D1Vd",
        "outputId": "06cef3f7-1417-44c6-cc47-af854d5bd0c7",
        "colab": {
          "base_uri": "https://localhost:8080/"
        }
      },
      "execution_count": 29,
      "outputs": [
        {
          "output_type": "execute_result",
          "data": {
            "text/plain": [
              "['Art', 'ComputerScience', 'History', 'Physics', 'art']"
            ]
          },
          "metadata": {},
          "execution_count": 29
        }
      ]
    },
    {
      "cell_type": "code",
      "source": [
        "courses.sort() #sorts in alphabetical order"
      ],
      "metadata": {
        "id": "PDlB0g2SEFZg"
      },
      "execution_count": 31,
      "outputs": []
    },
    {
      "cell_type": "code",
      "source": [
        "print(courses)"
      ],
      "metadata": {
        "id": "DEnrmIXsEUIF",
        "outputId": "f2ff3444-a40c-4725-b97f-029dcbf69b4f",
        "colab": {
          "base_uri": "https://localhost:8080/"
        }
      },
      "execution_count": 32,
      "outputs": [
        {
          "output_type": "stream",
          "name": "stdout",
          "text": [
            "['Art', 'ComputerScience', 'History', 'Physics', 'art']\n"
          ]
        }
      ]
    },
    {
      "cell_type": "code",
      "source": [
        "nums = [6,423,2432,432,566,23,123,32]\n",
        "nums.sort() #sorts in ascending order\n",
        "print(nums)"
      ],
      "metadata": {
        "id": "iKeRjrfuEZI4",
        "outputId": "06ec6b30-5fe8-4012-de44-c0276c9aed6b",
        "colab": {
          "base_uri": "https://localhost:8080/"
        }
      },
      "execution_count": 35,
      "outputs": [
        {
          "output_type": "stream",
          "name": "stdout",
          "text": [
            "[6, 23, 32, 123, 423, 432, 566, 2432]\n"
          ]
        }
      ]
    },
    {
      "cell_type": "code",
      "source": [
        "nums.sort(reverse=True)  #sorting in descending order\n",
        "print(nums)"
      ],
      "metadata": {
        "id": "7JwrYnkMEl_q",
        "outputId": "761d957e-487a-4671-8a4c-60f9f1631561",
        "colab": {
          "base_uri": "https://localhost:8080/"
        }
      },
      "execution_count": 38,
      "outputs": [
        {
          "output_type": "stream",
          "name": "stdout",
          "text": [
            "[2432, 566, 432, 423, 123, 32, 23, 6]\n"
          ]
        }
      ]
    },
    {
      "cell_type": "code",
      "source": [
        "courses"
      ],
      "metadata": {
        "id": "sP6kiy4KFMoi",
        "outputId": "4bbd642b-c4fa-482a-a26d-08e2bead8526",
        "colab": {
          "base_uri": "https://localhost:8080/"
        }
      },
      "execution_count": 39,
      "outputs": [
        {
          "output_type": "execute_result",
          "data": {
            "text/plain": [
              "['Art', 'ComputerScience', 'History', 'Physics', 'art']"
            ]
          },
          "metadata": {},
          "execution_count": 39
        }
      ]
    },
    {
      "cell_type": "code",
      "source": [
        "courses.sort(reverse = True)\n",
        "print(courses)"
      ],
      "metadata": {
        "id": "sIqvcbfkFaZ0",
        "outputId": "ea263899-ce43-4b0b-b72d-cda66dfeab18",
        "colab": {
          "base_uri": "https://localhost:8080/"
        }
      },
      "execution_count": 41,
      "outputs": [
        {
          "output_type": "stream",
          "name": "stdout",
          "text": [
            "['art', 'Physics', 'History', 'ComputerScience', 'Art']\n"
          ]
        }
      ]
    },
    {
      "cell_type": "code",
      "source": [
        "#if we dont sort the original list\n",
        "#instead of using sorted method\n",
        "#we can use sorted function\n",
        "sort_course = sorted(courses)\n",
        "print(sort_course)"
      ],
      "metadata": {
        "id": "aDGt-K-dFeUq",
        "outputId": "1a742eec-709d-4427-b4a2-877da3a83224",
        "colab": {
          "base_uri": "https://localhost:8080/"
        }
      },
      "execution_count": 42,
      "outputs": [
        {
          "output_type": "stream",
          "name": "stdout",
          "text": [
            "['Art', 'ComputerScience', 'History', 'Physics', 'art']\n"
          ]
        }
      ]
    },
    {
      "cell_type": "code",
      "source": [
        "#find index of an element\n",
        "courses.index('Art')"
      ],
      "metadata": {
        "id": "oIbesb-PGHYY",
        "outputId": "b861201f-9330-47cb-ff44-d7563d4c243a",
        "colab": {
          "base_uri": "https://localhost:8080/"
        }
      },
      "execution_count": 43,
      "outputs": [
        {
          "output_type": "execute_result",
          "data": {
            "text/plain": [
              "4"
            ]
          },
          "metadata": {},
          "execution_count": 43
        }
      ]
    },
    {
      "cell_type": "code",
      "source": [
        "print('Art' in courses)"
      ],
      "metadata": {
        "id": "LNWaMPy_GtnM",
        "outputId": "645fa91b-867f-4fc6-8b5a-2493cd611ef5",
        "colab": {
          "base_uri": "https://localhost:8080/"
        }
      },
      "execution_count": 44,
      "outputs": [
        {
          "output_type": "stream",
          "name": "stdout",
          "text": [
            "True\n"
          ]
        }
      ]
    },
    {
      "cell_type": "code",
      "source": [
        "for item in courses:\n",
        "  print(item)"
      ],
      "metadata": {
        "id": "4LcwQSzzG-0h",
        "outputId": "48d0d711-8daa-43de-ab9a-4b8a722656d2",
        "colab": {
          "base_uri": "https://localhost:8080/"
        }
      },
      "execution_count": 45,
      "outputs": [
        {
          "output_type": "stream",
          "name": "stdout",
          "text": [
            "art\n",
            "Physics\n",
            "History\n",
            "ComputerScience\n",
            "Art\n"
          ]
        }
      ]
    },
    {
      "cell_type": "code",
      "source": [
        "#enumerate(iterable,startIndex)\n",
        "list(enumerate(courses,100))"
      ],
      "metadata": {
        "id": "f9JeRBCCHPa_",
        "outputId": "96d0d358-c024-4ee5-b9db-6dc05fa4f5f3",
        "colab": {
          "base_uri": "https://localhost:8080/"
        }
      },
      "execution_count": 52,
      "outputs": [
        {
          "output_type": "execute_result",
          "data": {
            "text/plain": [
              "[(100, 'art'),\n",
              " (101, 'Physics'),\n",
              " (102, 'History'),\n",
              " (103, 'ComputerScience'),\n",
              " (104, 'Art')]"
            ]
          },
          "metadata": {},
          "execution_count": 52
        }
      ]
    },
    {
      "cell_type": "code",
      "source": [
        "#enumerate is a built in function which returns elements\n",
        "#along with their specific indexes\n",
        "#it returns a list of tuples"
      ],
      "metadata": {
        "id": "00YNWqoiH3Bl"
      },
      "execution_count": 53,
      "outputs": []
    },
    {
      "cell_type": "code",
      "source": [
        "for ind,course in enumerate(courses,1):\n",
        "  print(ind,course)"
      ],
      "metadata": {
        "id": "QH4-k1DKH9AS",
        "outputId": "d7a5167f-f49c-45bc-a01d-457395eab4ae",
        "colab": {
          "base_uri": "https://localhost:8080/"
        }
      },
      "execution_count": 57,
      "outputs": [
        {
          "output_type": "stream",
          "name": "stdout",
          "text": [
            "1 art\n",
            "2 Physics\n",
            "3 History\n",
            "4 ComputerScience\n",
            "5 Art\n"
          ]
        }
      ]
    },
    {
      "cell_type": "code",
      "source": [
        "#for key,value in courses.items():\n",
        " #print(key,va)  \n",
        " #item func is used in dictionaries only"
      ],
      "metadata": {
        "id": "CfB6rAeoJAcx"
      },
      "execution_count": 58,
      "outputs": []
    },
    {
      "cell_type": "code",
      "source": [
        "#return list into strings\n",
        "course_str = \". \".join(courses)"
      ],
      "metadata": {
        "id": "o9VbKS5tJHPI"
      },
      "execution_count": 65,
      "outputs": []
    },
    {
      "cell_type": "code",
      "source": [
        "#turning a string back into a list\n",
        "new_list = course_str.split(\". \")"
      ],
      "metadata": {
        "id": "uz3KgW_dKceX"
      },
      "execution_count": 68,
      "outputs": []
    },
    {
      "cell_type": "code",
      "source": [
        "new_list"
      ],
      "metadata": {
        "id": "HNWXXFqWKdgm",
        "outputId": "d0db3b5d-ff9d-468d-fea7-eeb2d9f21328",
        "colab": {
          "base_uri": "https://localhost:8080/"
        }
      },
      "execution_count": 69,
      "outputs": [
        {
          "output_type": "execute_result",
          "data": {
            "text/plain": [
              "['art', 'Physics', 'History', 'ComputerScience', 'Art']"
            ]
          },
          "metadata": {},
          "execution_count": 69
        }
      ]
    },
    {
      "cell_type": "code",
      "source": [
        "#sets are unordered lists\n",
        "#used to remove duplicate values\n",
        "#or whether a value is present in the set\n",
        "sets = {'hello','hello','travel','adventure','success'}\n",
        "print(sets)"
      ],
      "metadata": {
        "id": "4ivGSe07Ms7T",
        "outputId": "1602fc3f-597d-405a-b4cf-2fa333160073",
        "colab": {
          "base_uri": "https://localhost:8080/"
        }
      },
      "execution_count": 71,
      "outputs": [
        {
          "output_type": "stream",
          "name": "stdout",
          "text": [
            "{'success', 'hello', 'travel', 'adventure'}\n"
          ]
        }
      ]
    },
    {
      "cell_type": "code",
      "source": [
        "print('hello' in sets)"
      ],
      "metadata": {
        "id": "Nz_sWDucOL2Z",
        "outputId": "4f2734e7-7ddc-47a4-a75a-7c2d22e72e30",
        "colab": {
          "base_uri": "https://localhost:8080/"
        }
      },
      "execution_count": 73,
      "outputs": [
        {
          "output_type": "stream",
          "name": "stdout",
          "text": [
            "True\n"
          ]
        }
      ]
    },
    {
      "cell_type": "code",
      "source": [
        "sets_2 = {'hello','hello','love','adventure','money'}\n",
        "#what elements do two sets have in common\n",
        "#we can use an intersection method\n",
        "print(sets.intersection(sets_2))\n"
      ],
      "metadata": {
        "id": "2Roi5lNdO0dg",
        "outputId": "4af1d51a-8a08-4460-ff20-63b5a412a7f6",
        "colab": {
          "base_uri": "https://localhost:8080/"
        }
      },
      "execution_count": 74,
      "outputs": [
        {
          "output_type": "stream",
          "name": "stdout",
          "text": [
            "{'hello', 'adventure'}\n"
          ]
        }
      ]
    },
    {
      "cell_type": "code",
      "source": [
        "#what elements are in one set but not in the other\n",
        "print(sets.difference(sets_2))"
      ],
      "metadata": {
        "id": "wxydQrfqPdNw",
        "outputId": "6b9c7118-6889-4299-ad46-50b9517b4d98",
        "colab": {
          "base_uri": "https://localhost:8080/"
        }
      },
      "execution_count": 75,
      "outputs": [
        {
          "output_type": "stream",
          "name": "stdout",
          "text": [
            "{'travel', 'success'}\n"
          ]
        }
      ]
    },
    {
      "cell_type": "code",
      "source": [
        "sets_3 = sets.union(sets_2) \n",
        "#union joining two sets together"
      ],
      "metadata": {
        "id": "QWt_9E8yPp09"
      },
      "execution_count": 78,
      "outputs": []
    },
    {
      "cell_type": "code",
      "source": [
        "sets_3"
      ],
      "metadata": {
        "id": "45Fhgo7eP5Qv",
        "outputId": "3621e154-be3a-431e-d518-565de9eda946",
        "colab": {
          "base_uri": "https://localhost:8080/"
        }
      },
      "execution_count": 79,
      "outputs": [
        {
          "output_type": "execute_result",
          "data": {
            "text/plain": [
              "{'adventure', 'hello', 'love', 'money', 'success', 'travel'}"
            ]
          },
          "metadata": {},
          "execution_count": 79
        }
      ]
    },
    {
      "cell_type": "code",
      "source": [],
      "metadata": {
        "id": "rk9LelocP6C-"
      },
      "execution_count": null,
      "outputs": []
    }
  ]
}