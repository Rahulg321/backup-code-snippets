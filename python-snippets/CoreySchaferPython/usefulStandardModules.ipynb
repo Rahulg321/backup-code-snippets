{
  "cells": [
    {
      "cell_type": "code",
      "execution_count": 23,
      "metadata": {
        "colab": {
          "base_uri": "https://localhost:8080/"
        },
        "id": "Z9oPSMIsLnCf",
        "outputId": "f5ba38bf-0f09-47ee-eac4-2bf74ce99c35"
      },
      "outputs": [
        {
          "name": "stdout",
          "output_type": "stream",
          "text": [
            "Physics\n"
          ]
        }
      ],
      "source": [
        "import random\n",
        "courses = ['History','Math','Physics','Science']\n",
        "random_course = random.choice(courses)\n",
        "print(random_course)"
      ]
    },
    {
      "cell_type": "code",
      "execution_count": 24,
      "metadata": {
        "colab": {
          "base_uri": "https://localhost:8080/"
        },
        "id": "1N2vGBjeLzWW",
        "outputId": "6a318069-5ebd-4cc1-8025-207978b7b692"
      },
      "outputs": [
        {
          "name": "stdout",
          "output_type": "stream",
          "text": [
            "2022-09-04\n"
          ]
        }
      ],
      "source": [
        "import datetime\n",
        "import calendar\n",
        "\n",
        "today = datetime.date.today()\n",
        "print(today)"
      ]
    },
    {
      "cell_type": "code",
      "execution_count": 25,
      "metadata": {
        "colab": {
          "base_uri": "https://localhost:8080/"
        },
        "id": "qY9fVWKJMWAg",
        "outputId": "88e7a930-6d0f-455a-c832-388929dd8741"
      },
      "outputs": [
        {
          "name": "stdout",
          "output_type": "stream",
          "text": [
            "False\n"
          ]
        }
      ],
      "source": [
        "\"\"\"to find whether a year is leap or not\"\"\"\n",
        "print(calendar.isleap(2017))"
      ]
    },
    {
      "cell_type": "code",
      "execution_count": 26,
      "metadata": {
        "colab": {
          "base_uri": "https://localhost:8080/"
        },
        "id": "hdfJ5eDHNIsZ",
        "outputId": "ebd22649-1e46-4290-e934-5fc88fe0757f"
      },
      "outputs": [
        {
          "name": "stdout",
          "output_type": "stream",
          "text": [
            "/content\n"
          ]
        }
      ],
      "source": [
        "import os\n",
        "#gives us access to the underLying operating system\n",
        "print(os.getcwd()) #currentWorkingDirectory"
      ]
    },
    {
      "cell_type": "code",
      "execution_count": 27,
      "metadata": {
        "colab": {
          "base_uri": "https://localhost:8080/"
        },
        "id": "TaeBdjl7Ndr7",
        "outputId": "79520292-3e2e-4031-d3cd-bc6844103eb7"
      },
      "outputs": [
        {
          "name": "stdout",
          "output_type": "stream",
          "text": [
            "/usr/lib/python3.7/os.py\n"
          ]
        }
      ],
      "source": [
        "print(os.__file__)"
      ]
    },
    {
      "cell_type": "code",
      "execution_count": 29,
      "metadata": {
        "id": "w2LVwmmrOTAn"
      },
      "outputs": [],
      "source": [
        "import antigravity"
      ]
    },
    {
      "cell_type": "code",
      "execution_count": null,
      "metadata": {
        "id": "NYtPgAh9Omd5"
      },
      "outputs": [],
      "source": []
    }
  ],
  "metadata": {
    "colab": {
      "collapsed_sections": [],
      "provenance": []
    },
    "kernelspec": {
      "display_name": "Python 3.10.5 64-bit",
      "language": "python",
      "name": "python3"
    },
    "language_info": {
      "name": "python",
      "version": "3.10.5"
    },
    "vscode": {
      "interpreter": {
        "hash": "8c3d4d9970fc5c09c50d9318a9c7fbf4d0159e4b28833276f5678ee22bded273"
      }
    }
  },
  "nbformat": 4,
  "nbformat_minor": 0
}
