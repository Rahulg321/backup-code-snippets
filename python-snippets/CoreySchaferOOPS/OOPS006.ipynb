{
  "cells": [
    {
      "cell_type": "markdown",
      "metadata": {
        "id": "Fus0EU_GoHkH"
      },
      "source": [
        "# MULTIPLE AND MULTILEVEL INHERITANCE"
      ]
    },
    {
      "cell_type": "code",
      "execution_count": 41,
      "metadata": {
        "colab": {
          "base_uri": "https://localhost:8080/",
          "height": 91
        },
        "id": "5HQ3e-beZyRz",
        "outputId": "28eedcff-b160-461d-8ba6-0e17fece1e56"
      },
      "outputs": [
        {
          "name": "stdout",
          "output_type": "stream",
          "text": [
            "Base 1\n",
            "Base 2\n",
            "Derived from Base Class\n"
          ]
        },
        {
          "data": {
            "application/vnd.google.colaboratory.intrinsic+json": {
              "type": "string"
            },
            "text/plain": [
              "'GeeksFOR GEEKS'"
            ]
          },
          "execution_count": 41,
          "metadata": {},
          "output_type": "execute_result"
        }
      ],
      "source": [
        "class Base1:\n",
        "  def __init__(self):\n",
        "    self.str1 = 'Geeks'\n",
        "    print('Base 1')\n",
        "\n",
        "class Base2:\n",
        "  def __init__(self):\n",
        "    self.str2 = ' FOR GEEKS'\n",
        "    print('Base 2')\n",
        "\n",
        "class Derived1(Base1,Base2):\n",
        "  def __init__(self):  \n",
        "    Base1.__init__(self) #Calling Constructors of the Parent Classes\n",
        "    Base2.__init__(self)\n",
        "    print('Derived from Base Class')\n",
        "  \n",
        "  \n",
        "  def print_info(self):\n",
        "    return f'{self.str1}{self.str2}'\n",
        "\n",
        "ob1 = Derived1()\n",
        "ob1.print_info()"
      ]
    },
    {
      "cell_type": "code",
      "execution_count": 12,
      "metadata": {},
      "outputs": [
        {
          "ename": "TypeError",
          "evalue": "__init__() takes 2 positional arguments but 3 were given",
          "output_type": "error",
          "traceback": [
            "\u001b[1;31m---------------------------------------------------------------------------\u001b[0m",
            "\u001b[1;31mTypeError\u001b[0m                                 Traceback (most recent call last)",
            "\u001b[1;32m~\\AppData\\Local\\Temp\\ipykernel_13668\\1086687180.py\u001b[0m in \u001b[0;36m<module>\u001b[1;34m\u001b[0m\n\u001b[0;32m     18\u001b[0m \u001b[1;33m\u001b[0m\u001b[0m\n\u001b[0;32m     19\u001b[0m \u001b[1;33m\u001b[0m\u001b[0m\n\u001b[1;32m---> 20\u001b[1;33m \u001b[0mder_1\u001b[0m \u001b[1;33m=\u001b[0m \u001b[0mDerived\u001b[0m\u001b[1;33m(\u001b[0m\u001b[1;34m'Rahul'\u001b[0m\u001b[1;33m,\u001b[0m\u001b[1;34m'Last'\u001b[0m\u001b[1;33m)\u001b[0m\u001b[1;33m\u001b[0m\u001b[1;33m\u001b[0m\u001b[0m\n\u001b[0m\u001b[0;32m     21\u001b[0m \u001b[1;33m\u001b[0m\u001b[0m\n\u001b[0;32m     22\u001b[0m \u001b[0mprint\u001b[0m\u001b[1;33m(\u001b[0m\u001b[0mder_1\u001b[0m\u001b[1;33m.\u001b[0m\u001b[0memail\u001b[0m\u001b[1;33m)\u001b[0m\u001b[1;33m\u001b[0m\u001b[1;33m\u001b[0m\u001b[0m\n",
            "\u001b[1;32m~\\AppData\\Local\\Temp\\ipykernel_13668\\1086687180.py\u001b[0m in \u001b[0;36m__init__\u001b[1;34m(self, first, last)\u001b[0m\n\u001b[0;32m     12\u001b[0m \u001b[1;32mclass\u001b[0m \u001b[0mDerived\u001b[0m\u001b[1;33m(\u001b[0m\u001b[0mA\u001b[0m\u001b[1;33m,\u001b[0m\u001b[0mB\u001b[0m\u001b[1;33m)\u001b[0m\u001b[1;33m:\u001b[0m\u001b[1;33m\u001b[0m\u001b[1;33m\u001b[0m\u001b[0m\n\u001b[0;32m     13\u001b[0m     \u001b[1;32mdef\u001b[0m \u001b[0m__init__\u001b[0m\u001b[1;33m(\u001b[0m\u001b[0mself\u001b[0m\u001b[1;33m,\u001b[0m\u001b[0mfirst\u001b[0m\u001b[1;33m,\u001b[0m\u001b[0mlast\u001b[0m\u001b[1;33m)\u001b[0m\u001b[1;33m:\u001b[0m\u001b[1;33m\u001b[0m\u001b[1;33m\u001b[0m\u001b[0m\n\u001b[1;32m---> 14\u001b[1;33m         \u001b[0msuper\u001b[0m\u001b[1;33m(\u001b[0m\u001b[1;33m)\u001b[0m\u001b[1;33m.\u001b[0m\u001b[0m__init__\u001b[0m\u001b[1;33m(\u001b[0m\u001b[0mfirst\u001b[0m\u001b[1;33m,\u001b[0m\u001b[0mlast\u001b[0m\u001b[1;33m)\u001b[0m\u001b[1;33m\u001b[0m\u001b[1;33m\u001b[0m\u001b[0m\n\u001b[0m\u001b[0;32m     15\u001b[0m         \u001b[1;31m# A.__init__(self,first)\u001b[0m\u001b[1;33m\u001b[0m\u001b[1;33m\u001b[0m\u001b[0m\n\u001b[0;32m     16\u001b[0m         \u001b[1;31m# B.__init__(self,last)\u001b[0m\u001b[1;33m\u001b[0m\u001b[1;33m\u001b[0m\u001b[0m\n",
            "\u001b[1;31mTypeError\u001b[0m: __init__() takes 2 positional arguments but 3 were given"
          ]
        }
      ],
      "source": [
        "class A:\n",
        "    def __init__(self,first):\n",
        "        self.first = first\n",
        "\n",
        "\n",
        "class B:\n",
        "    def __init__(self,last):\n",
        "        self.last = last\n",
        "\n",
        "\n",
        "\n",
        "class Derived(A,B):\n",
        "    def __init__(self,first,last):\n",
        "        A.__init__(self,first)\n",
        "        B.__init__(self,last)\n",
        "        self.email = f'{self.first}.{self.last}@email.com'\n",
        "\n",
        "\n",
        "der_1 = Derived('Rahul','Last')\n",
        "\n",
        "print(der_1.email)"
      ]
    },
    {
      "cell_type": "code",
      "execution_count": 47,
      "metadata": {
        "colab": {
          "base_uri": "https://localhost:8080/"
        },
        "id": "VNgQrK1PbsP8",
        "outputId": "e5ed87f2-e642-4753-c314-b59c6786ecdc"
      },
      "outputs": [
        {
          "name": "stdout",
          "output_type": "stream",
          "text": [
            "your name is Eehaan\n",
            "your age is 4\n",
            "your gender is Male\n",
            "None\n"
          ]
        }
      ],
      "source": [
        "#MultiLevel Inheritance\n",
        "\n",
        "class Base:\n",
        "  def __init__(self,name):\n",
        "    self.name = name\n",
        "  def getName(self):\n",
        "    return f'your name is {self.name}'\n",
        "\n",
        "\n",
        "class Child(Base):\n",
        "  def __init__(self,name,age):\n",
        "    super().__init__(name)\n",
        "    self.age=age\n",
        "  \n",
        "\n",
        "  def get_age(self):\n",
        "    return f'your age is {self.age}'\n",
        "\n",
        "class GrandChild(Child):\n",
        "  def __init__(self,name,age,gender):\n",
        "    super().__init__(name,age)\n",
        "    self.gender=gender\n",
        "  \n",
        "\n",
        "  def get_info(self):\n",
        "    print(f'your name is {self.name}')\n",
        "    print(f'your age is {self.age}')\n",
        "    print(f'your gender is {self.gender}')\n",
        "\n",
        "g = GrandChild('Eehaan',4,'Male')\n",
        "\n",
        "print(g.get_info())"
      ]
    },
    {
      "cell_type": "markdown",
      "metadata": {
        "id": "qowkaPHistVq"
      },
      "source": [
        "# PYTHON PROGRAM TO MAKE VARIBALES PRIVATE"
      ]
    },
    {
      "cell_type": "code",
      "execution_count": 49,
      "metadata": {
        "colab": {
          "base_uri": "https://localhost:8080/",
          "height": 335
        },
        "id": "Pk-TH0Gerpnh",
        "outputId": "1091268c-8a8a-40f1-d2d7-cbfd15ec68ef"
      },
      "outputs": [
        {
          "ename": "AttributeError",
          "evalue": "ignored",
          "output_type": "error",
          "traceback": [
            "\u001b[0;31m---------------------------------------------------------------------------\u001b[0m",
            "\u001b[0;31mAttributeError\u001b[0m                            Traceback (most recent call last)",
            "\u001b[0;32m<ipython-input-49-f3376d8ecc93>\u001b[0m in \u001b[0;36m<module>\u001b[0;34m\u001b[0m\n\u001b[1;32m     14\u001b[0m \u001b[0;34m\u001b[0m\u001b[0m\n\u001b[1;32m     15\u001b[0m \u001b[0md\u001b[0m \u001b[0;34m=\u001b[0m \u001b[0mDerived\u001b[0m\u001b[0;34m(\u001b[0m\u001b[0;34m'RAHHUL'\u001b[0m\u001b[0;34m,\u001b[0m\u001b[0;36m9\u001b[0m\u001b[0;34m,\u001b[0m\u001b[0;34m'maleee'\u001b[0m\u001b[0;34m)\u001b[0m\u001b[0;34m\u001b[0m\u001b[0;34m\u001b[0m\u001b[0m\n\u001b[0;32m---> 16\u001b[0;31m \u001b[0md\u001b[0m\u001b[0;34m.\u001b[0m\u001b[0mprint_info\u001b[0m\u001b[0;34m(\u001b[0m\u001b[0;34m)\u001b[0m\u001b[0;34m\u001b[0m\u001b[0;34m\u001b[0m\u001b[0m\n\u001b[0m",
            "\u001b[0;32m<ipython-input-49-f3376d8ecc93>\u001b[0m in \u001b[0;36mprint_info\u001b[0;34m(self)\u001b[0m\n\u001b[1;32m     11\u001b[0m \u001b[0;34m\u001b[0m\u001b[0m\n\u001b[1;32m     12\u001b[0m   \u001b[0;32mdef\u001b[0m \u001b[0mprint_info\u001b[0m\u001b[0;34m(\u001b[0m\u001b[0mself\u001b[0m\u001b[0;34m)\u001b[0m\u001b[0;34m:\u001b[0m\u001b[0;34m\u001b[0m\u001b[0;34m\u001b[0m\u001b[0m\n\u001b[0;32m---> 13\u001b[0;31m     \u001b[0;32mreturn\u001b[0m \u001b[0;34mf'age is {self.age}'\u001b[0m\u001b[0;34m\u001b[0m\u001b[0;34m\u001b[0m\u001b[0m\n\u001b[0m\u001b[1;32m     14\u001b[0m \u001b[0;34m\u001b[0m\u001b[0m\n\u001b[1;32m     15\u001b[0m \u001b[0md\u001b[0m \u001b[0;34m=\u001b[0m \u001b[0mDerived\u001b[0m\u001b[0;34m(\u001b[0m\u001b[0;34m'RAHHUL'\u001b[0m\u001b[0;34m,\u001b[0m\u001b[0;36m9\u001b[0m\u001b[0;34m,\u001b[0m\u001b[0;34m'maleee'\u001b[0m\u001b[0;34m)\u001b[0m\u001b[0;34m\u001b[0m\u001b[0;34m\u001b[0m\u001b[0m\n",
            "\u001b[0;31mAttributeError\u001b[0m: 'Derived' object has no attribute 'age'"
          ]
        }
      ],
      "source": [
        "class Base:\n",
        "  def __init__(self,name,age):\n",
        "    self.name = name\n",
        "    self.__age=age\n",
        "\n",
        "\n",
        "class Derived(Base):\n",
        "  def __init__(self,name,age,gender):\n",
        "    super().__init__(name,age)\n",
        "    self.gender=gender\n",
        "\n",
        "  def print_info(self):\n",
        "    return f'age is {self.age}'\n",
        "\n",
        "d = Derived('RAHHUL',9,'maleee')\n",
        "d.print_info()"
      ]
    },
    {
      "cell_type": "markdown",
      "metadata": {
        "id": "WiYD9k8w5fHx"
      },
      "source": [
        "# SPECIAL MAGIC AND DUNDER METHODS "
      ]
    },
    {
      "cell_type": "code",
      "execution_count": 53,
      "metadata": {
        "colab": {
          "base_uri": "https://localhost:8080/"
        },
        "id": "cwxIoR81tfp8",
        "outputId": "9604d945-3a60-4d48-fb88-9439934e11e0"
      },
      "outputs": [
        {
          "name": "stdout",
          "output_type": "stream",
          "text": [
            "corey.schafer - corey.schafer@gmail.com\n",
            "Employee(corey,schafer,50000)\n",
            "corey.schafer - corey.schafer@gmail.com\n"
          ]
        }
      ],
      "source": [
        "\n",
        "class Employee:\n",
        "  raise_amount = 1.04  \n",
        " \n",
        "  def __init__(self,first,last,pay):\n",
        "    self.first = first     \n",
        "    self.last = last    \n",
        "    self.pay = pay\n",
        "    self.email = f'{first}.{last}@gmail.com'\n",
        "    \n",
        "  def fullName(self):\n",
        "    return f'{self.first}.{self.last}'\n",
        "\n",
        "  def apply_raise(self):\n",
        "    self.pay = int(self.pay* self.raise_amount)  \n",
        "    return self.pay\n",
        "  \n",
        "  def __repr__(self):\n",
        "    return f'Employee({self.first},{self.last},{self.pay})'\n",
        "\n",
        "  def __str__(self):\n",
        "    return f'{self.fullName()} - {self.email}'\n",
        "\n",
        "\n",
        "\n",
        "emp1 = Employee('corey','schafer',50000)\n",
        "emp2 = Employee('rahul','gupta',50000)\n",
        "\n",
        "print(emp1)\n",
        "\n",
        "#repr is an unambigious representation of an object\n",
        "#used for debugging and logging\n",
        "\n",
        "#str is a redable representation of an object\n",
        "#showing to an end user\n",
        "\n",
        "\n",
        "#if str is defined then it will only print str\n",
        "\n",
        "print(repr(emp1))\n",
        "print(str(emp1))\n"
      ]
    },
    {
      "cell_type": "code",
      "execution_count": 20,
      "metadata": {
        "colab": {
          "base_uri": "https://localhost:8080/"
        },
        "id": "sWIPedM_7ea6",
        "outputId": "ae6c6765-a680-4f40-c0e9-05db185b663a"
      },
      "outputs": [
        {
          "name": "stdout",
          "output_type": "stream",
          "text": [
            "100000\n"
          ]
        }
      ],
      "source": [
        "#aitmetic methods\n",
        "\n",
        "\n",
        "class Employee:\n",
        "  raise_amount = 1.04  \n",
        " \n",
        "  def __init__(self,first,last,pay):\n",
        "    self.first = first     \n",
        "    self.last = last    \n",
        "    self.pay = pay\n",
        "    self.email = f'{first}.{last}@gmail.com'\n",
        "    \n",
        "  def fullName(self):\n",
        "    return f'{self.first}.{self.last}'\n",
        "\n",
        "  def apply_raise(self):\n",
        "    self.pay = int(self.pay* self.raise_amount)  \n",
        "    return self.pay\n",
        "  \n",
        "  def __repr__(self):\n",
        "    return f'Employee({self.first},{self.last},{self.pay})'\n",
        "\n",
        "  def __str__(self):\n",
        "    return f'{self.fullName()} - {self.email}'\n",
        "  \n",
        "  def __add__(self,other):\n",
        "    return self.pay + other.pay\n",
        "     #self is on the right side of the addition\n",
        "\n",
        "\n",
        "emp1 = Employee('corey','schafer',50000)\n",
        "emp2 = Employee('rahul','gupta',50000)\n",
        "\n",
        "print(emp1+emp2)\n",
        "\n",
        "# print(emp1)\n",
        "\n",
        "\n",
        "# print(repr(emp1))\n",
        "# print(str(emp1))\n"
      ]
    },
    {
      "cell_type": "code",
      "execution_count": 56,
      "metadata": {
        "colab": {
          "base_uri": "https://localhost:8080/"
        },
        "id": "cZIl7cCs9ThH",
        "outputId": "9e258dbf-424b-4a63-f035-52e0f663be3d"
      },
      "outputs": [
        {
          "name": "stdout",
          "output_type": "stream",
          "text": [
            "100000\n",
            "13\n"
          ]
        }
      ],
      "source": [
        "#basically we can create our background dunder methods\n",
        "\n",
        "\n",
        "class Employee:\n",
        "  raise_amount = 1.04  \n",
        " \n",
        "  def __init__(self,first,last,pay):\n",
        "    self.first = first     \n",
        "    self.last = last    \n",
        "    self.pay = pay\n",
        "    self.email = f'{first}.{last}@gmail.com'\n",
        "    \n",
        "  def fullName(self):\n",
        "    return f'{self.first}.{self.last}'\n",
        "\n",
        "  def apply_raise(self):\n",
        "    self.pay = int(self.pay* self.raise_amount)  \n",
        "    return self.pay\n",
        "  \n",
        "  def __repr__(self):\n",
        "    return f'Employee({self.first},{self.last},{self.pay})'\n",
        "\n",
        "  def __str__(self):\n",
        "    return f'{self.fullName()} - {self.email}'\n",
        "  \n",
        "  def __add__(self,other):\n",
        "    return self.pay + other.pay\n",
        "    \n",
        "  def __len__(self):\n",
        "    return len(self.fullName())\n",
        "\n",
        "\n",
        "emp1 = Employee('corey','schafer',50000)\n",
        "emp2 = Employee('rahul','gupta',50000)\n",
        "\n",
        "print(emp1+emp2)\n",
        "\n",
        "print(len(emp1))\n",
        "# print(emp1)\n",
        "\n",
        "\n",
        "# print(repr(emp1))\n",
        "# print(str(emp1))\n"
      ]
    },
    {
      "cell_type": "code",
      "execution_count": 19,
      "metadata": {
        "id": "wnhWlO-Y-I4T"
      },
      "outputs": [
        {
          "name": "stdout",
          "output_type": "stream",
          "text": [
            "A: First name is Micheal\n",
            "last name is Scott\n",
            "Full name of A is Micheal Scott\n"
          ]
        }
      ],
      "source": [
        "#defining my own repr and str method\n",
        "\n",
        "class A:\n",
        "    def __init__(self,first,last):\n",
        "        self.first = first\n",
        "        self.last = last\n",
        "    \n",
        "    def __repr__(self):\n",
        "        return f'A: First name is {self.first}\\nlast name is {self.last}'\n",
        "    def __str__(self):\n",
        "        return f'Full name of A is {self.first} {self.last}'\n",
        "\n",
        "obj1 = A('Micheal','Scott')\n",
        "\n",
        "print(repr(obj1))\n",
        "print(str(obj1))"
      ]
    },
    {
      "cell_type": "code",
      "execution_count": null,
      "metadata": {},
      "outputs": [],
      "source": []
    }
  ],
  "metadata": {
    "colab": {
      "provenance": []
    },
    "kernelspec": {
      "display_name": "Python 3.9.13",
      "language": "python",
      "name": "python3"
    },
    "language_info": {
      "codemirror_mode": {
        "name": "ipython",
        "version": 3
      },
      "file_extension": ".py",
      "mimetype": "text/x-python",
      "name": "python",
      "nbconvert_exporter": "python",
      "pygments_lexer": "ipython3",
      "version": "3.9.13"
    },
    "vscode": {
      "interpreter": {
        "hash": "20a9e06a1eee47c4abbed4ec8225ad91d78d9800d202b71b6b0a6e47016c6abd"
      }
    }
  },
  "nbformat": 4,
  "nbformat_minor": 0
}
