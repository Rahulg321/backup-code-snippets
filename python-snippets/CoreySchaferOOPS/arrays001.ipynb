{
 "cells": [
  {
   "cell_type": "code",
   "execution_count": 2,
   "metadata": {},
   "outputs": [
    {
     "name": "stdout",
     "output_type": "stream",
     "text": [
      "1 2 3 "
     ]
    }
   ],
   "source": [
    "from array import *\n",
    "arr1 = array('i',[1,2,3])\n",
    "for x in range(len(arr1)):\n",
    "    print(arr1[x],end=' ')"
   ]
  },
  {
   "cell_type": "code",
   "execution_count": 9,
   "metadata": {},
   "outputs": [
    {
     "name": "stdout",
     "output_type": "stream",
     "text": [
      "1\n",
      "2\n",
      "3\n",
      "4\n",
      "5\n",
      "6\n"
     ]
    }
   ],
   "source": [
    "arr2 = array('i',[1,2,3,4,5,6])\n",
    "for x in range(len(arr2)):\n",
    "    print(arr2[x])\n",
    "# for x in range(2):\n",
    "#     arr2[x] = int(input('enter 2 elements to the array '))"
   ]
  },
  {
   "cell_type": "markdown",
   "metadata": {},
   "source": [
    "inserting elements in an array \n",
    "we can insert elements in an array using the index function"
   ]
  },
  {
   "cell_type": "code",
   "execution_count": 11,
   "metadata": {},
   "outputs": [
    {
     "name": "stdout",
     "output_type": "stream",
     "text": [
      "1\n",
      "2\n",
      "3\n",
      "4\n",
      "5\n"
     ]
    }
   ],
   "source": [
    "arr2 = array('i',[])\n",
    "#dynamic memory allocation\n",
    "for x in range(5):\n",
    "    a = int(input('enter a value'))\n",
    "    arr2.append(a)\n",
    "\n",
    "for x in range(len(arr2)):\n",
    "    print(arr2[x])\n"
   ]
  },
  {
   "cell_type": "code",
   "execution_count": 13,
   "metadata": {},
   "outputs": [
    {
     "name": "stdout",
     "output_type": "stream",
     "text": [
      "1\n",
      "2\n",
      "3\n",
      "69\n",
      "4\n",
      "5\n"
     ]
    }
   ],
   "source": [
    "#if we want to insert element at a specific position\n",
    "arr2.insert(3,69)\n",
    "for x in range(len(arr2)):\n",
    "    print(arr2[x])"
   ]
  },
  {
   "cell_type": "code",
   "execution_count": 14,
   "metadata": {},
   "outputs": [
    {
     "name": "stdout",
     "output_type": "stream",
     "text": [
      "99\n",
      "1\n",
      "2\n",
      "3\n",
      "69\n",
      "4\n",
      "5\n"
     ]
    }
   ],
   "source": [
    "#taking input from user \n",
    "index = int(input('the index at which you want to insert'))\n",
    "value1 = int(input('the value which you want to insert'))\n",
    "arr2.insert(index,value1)\n",
    "\n",
    "for x in range(len(arr2)):\n",
    "    print(arr2[x])\n",
    "\n",
    "\n"
   ]
  },
  {
   "cell_type": "code",
   "execution_count": 17,
   "metadata": {},
   "outputs": [
    {
     "name": "stdout",
     "output_type": "stream",
     "text": [
      "2\n"
     ]
    }
   ],
   "source": [
    "# pop():- This function removes the element at the position mentioned in its argument and returns it.\n",
    "# remove():- This function is used to remove the first occurrence of the value mentioned in its arguments.\n",
    "\n",
    "element1= arr2.pop(0)\n",
    "print(element1)"
   ]
  },
  {
   "cell_type": "code",
   "execution_count": 19,
   "metadata": {},
   "outputs": [
    {
     "name": "stdout",
     "output_type": "stream",
     "text": [
      "3\n",
      "4\n",
      "5\n"
     ]
    }
   ],
   "source": [
    "arr2.remove(69)\n",
    "for x in range(len(arr2)):\n",
    "    print(arr2[x])"
   ]
  },
  {
   "cell_type": "code",
   "execution_count": 24,
   "metadata": {},
   "outputs": [
    {
     "name": "stdout",
     "output_type": "stream",
     "text": [
      "2\n",
      "5\n",
      "4\n",
      "3\n"
     ]
    }
   ],
   "source": [
    "#reverse and index functions in python\n",
    "\n",
    "print(arr2.index(5))\n",
    "arr2.reverse()\n",
    "for x in range(len(arr2)):\n",
    "    print(arr2[x])"
   ]
  },
  {
   "cell_type": "code",
   "execution_count": 31,
   "metadata": {},
   "outputs": [
    {
     "name": "stdout",
     "output_type": "stream",
     "text": [
      "3\n"
     ]
    }
   ],
   "source": [
    "#1. typecode :- This function returns the data type by which array is initialised.\n",
    "\n",
    "# itemsize :- This function returns size in bytes of a single array element.\n",
    "\n",
    "# buffer_info() :- Returns a tuple representing the address in which array is stored and number of elements in it.\n",
    "\n",
    "\n",
    "#count for checking the occurences of a specific element\n",
    "# for x in range(len(arr2)):\n",
    "#     print(arr2[x])\n",
    "# arr2.append(5)\n",
    "# for x in range(len(arr2)):\n",
    "#     print(arr2[x])\n",
    "print(arr2.count(5))"
   ]
  },
  {
   "cell_type": "code",
   "execution_count": null,
   "metadata": {},
   "outputs": [],
   "source": [
    "class Solution\n",
    "def find_sub_array(self,arr,n,s):\n",
    "    "
   ]
  },
  {
   "cell_type": "code",
   "execution_count": 49,
   "metadata": {},
   "outputs": [
    {
     "name": "stdout",
     "output_type": "stream",
     "text": [
      "0 1\n",
      "4 1\n",
      "5 1\n"
     ]
    },
    {
     "ename": "IndexError",
     "evalue": "list index out of range",
     "output_type": "error",
     "traceback": [
      "\u001b[1;31m---------------------------------------------------------------------------\u001b[0m",
      "\u001b[1;31mIndexError\u001b[0m                                Traceback (most recent call last)",
      "\u001b[1;32m~\\AppData\\Local\\Temp\\ipykernel_13224\\3436165049.py\u001b[0m in \u001b[0;36m<module>\u001b[1;34m\u001b[0m\n\u001b[0;32m     17\u001b[0m \u001b[0mc1\u001b[0m \u001b[1;33m=\u001b[0m \u001b[0mSolution\u001b[0m\u001b[1;33m(\u001b[0m\u001b[1;33m)\u001b[0m\u001b[1;33m\u001b[0m\u001b[1;33m\u001b[0m\u001b[0m\n\u001b[0;32m     18\u001b[0m \u001b[0marr1\u001b[0m \u001b[1;33m=\u001b[0m\u001b[0marray\u001b[0m\u001b[1;33m(\u001b[0m\u001b[1;34m'i'\u001b[0m\u001b[1;33m,\u001b[0m\u001b[1;33m[\u001b[0m\u001b[1;36m1\u001b[0m\u001b[1;33m,\u001b[0m\u001b[1;36m2\u001b[0m\u001b[1;33m,\u001b[0m\u001b[1;36m3\u001b[0m\u001b[1;33m,\u001b[0m\u001b[1;36m4\u001b[0m\u001b[1;33m,\u001b[0m\u001b[1;36m5\u001b[0m\u001b[1;33m]\u001b[0m\u001b[1;33m)\u001b[0m\u001b[1;33m\u001b[0m\u001b[1;33m\u001b[0m\u001b[0m\n\u001b[1;32m---> 19\u001b[1;33m \u001b[0mc1\u001b[0m\u001b[1;33m.\u001b[0m\u001b[0msubArraySum\u001b[0m\u001b[1;33m(\u001b[0m\u001b[1;33m[\u001b[0m\u001b[1;36m0\u001b[0m\u001b[1;33m,\u001b[0m\u001b[1;36m1\u001b[0m\u001b[1;33m,\u001b[0m\u001b[1;36m2\u001b[0m\u001b[1;33m,\u001b[0m\u001b[1;36m3\u001b[0m\u001b[1;33m,\u001b[0m\u001b[1;36m4\u001b[0m\u001b[1;33m]\u001b[0m\u001b[1;33m,\u001b[0m\u001b[1;36m5\u001b[0m\u001b[1;33m,\u001b[0m\u001b[1;36m12\u001b[0m\u001b[1;33m)\u001b[0m\u001b[1;33m\u001b[0m\u001b[1;33m\u001b[0m\u001b[0m\n\u001b[0m\u001b[0;32m     20\u001b[0m \u001b[1;33m\u001b[0m\u001b[0m\n",
      "\u001b[1;32m~\\AppData\\Local\\Temp\\ipykernel_13224\\3436165049.py\u001b[0m in \u001b[0;36msubArraySum\u001b[1;34m(self, arr, n, s)\u001b[0m\n\u001b[0;32m      8\u001b[0m        \u001b[1;32mwhile\u001b[0m \u001b[0mi\u001b[0m \u001b[1;33m<\u001b[0m \u001b[0mn\u001b[0m\u001b[1;33m:\u001b[0m\u001b[1;33m\u001b[0m\u001b[1;33m\u001b[0m\u001b[0m\n\u001b[0;32m      9\u001b[0m         \u001b[1;32mif\u001b[0m \u001b[0msum1\u001b[0m \u001b[1;33m>\u001b[0m \u001b[0ms\u001b[0m\u001b[1;33m:\u001b[0m\u001b[1;33m\u001b[0m\u001b[1;33m\u001b[0m\u001b[0m\n\u001b[1;32m---> 10\u001b[1;33m             \u001b[0msum1\u001b[0m \u001b[1;33m-=\u001b[0m \u001b[0marr\u001b[0m\u001b[1;33m[\u001b[0m\u001b[0mstart\u001b[0m\u001b[1;33m]\u001b[0m\u001b[1;33m\u001b[0m\u001b[1;33m\u001b[0m\u001b[0m\n\u001b[0m\u001b[0;32m     11\u001b[0m             \u001b[0mstart\u001b[0m\u001b[1;33m+=\u001b[0m\u001b[1;36m1\u001b[0m\u001b[1;33m\u001b[0m\u001b[1;33m\u001b[0m\u001b[0m\n\u001b[0;32m     12\u001b[0m         \u001b[1;32melif\u001b[0m \u001b[0msum1\u001b[0m \u001b[1;33m==\u001b[0m \u001b[0ms\u001b[0m\u001b[1;33m:\u001b[0m\u001b[1;33m\u001b[0m\u001b[1;33m\u001b[0m\u001b[0m\n",
      "\u001b[1;31mIndexError\u001b[0m: list index out of range"
     ]
    }
   ],
   "source": [
    "class Solution:\n",
    "    def MissingNumber(self,array,n):\n",
    "        # code here\n",
    "        list1 = []\n",
    "        for x in range(1,n+1):\n",
    "            list1.append(x)\n",
    "        \n",
    "        for item in list1:\n",
    "            if item not\n",
    "c1 = Solution()\n",
    "arr1 =array('i',[1,2,3,4,5])\n",
    "c1.subArraySum([0,1,2,3,4],5,12)\n",
    "\n"
   ]
  },
  {
   "cell_type": "code",
   "execution_count": 51,
   "metadata": {},
   "outputs": [
    {
     "name": "stdout",
     "output_type": "stream",
     "text": [
      "5\n",
      "4\n",
      "3\n",
      "5\n",
      "5\n"
     ]
    }
   ],
   "source": [
    "for x in arr2:\n",
    "    print(x)"
   ]
  },
  {
   "cell_type": "code",
   "execution_count": 57,
   "metadata": {},
   "outputs": [
    {
     "name": "stdout",
     "output_type": "stream",
     "text": [
      "2\n",
      "0 0 1 2 2 "
     ]
    }
   ],
   "source": [
    "arr = [0,2,1,2,0]\n",
    "n = len(arr)\n",
    "zero_count = 0\n",
    "one_count = 0\n",
    "two_count = 0\n",
    "for i in range(n):\n",
    "    if arr[i] == 0:\n",
    "     zero_count += 1\n",
    "    elif arr[i]== 1:\n",
    "        one_count += 1\n",
    "    elif arr[i]== 2:\n",
    "        two_count += 1\n",
    "\n",
    "print(zero_count)\n",
    "\n",
    "for x in range(0,zero_count):\n",
    "    print(0,end=' ')\n",
    "for x in range(0,one_count):\n",
    "    print(1,end=' ')\n",
    "for x in range(0,two_count):\n",
    "    print(2,end=' ')"
   ]
  },
  {
   "cell_type": "code",
   "execution_count": 1,
   "metadata": {},
   "outputs": [
    {
     "name": "stdout",
     "output_type": "stream",
     "text": [
      "hello\n"
     ]
    }
   ],
   "source": [
    "print('hello')"
   ]
  },
  {
   "cell_type": "code",
   "execution_count": null,
   "metadata": {},
   "outputs": [],
   "source": []
  }
 ],
 "metadata": {
  "kernelspec": {
   "display_name": "Python 3.9.13 ('base')",
   "language": "python",
   "name": "python3"
  },
  "language_info": {
   "codemirror_mode": {
    "name": "ipython",
    "version": 3
   },
   "file_extension": ".py",
   "mimetype": "text/x-python",
   "name": "python",
   "nbconvert_exporter": "python",
   "pygments_lexer": "ipython3",
   "version": "3.9.13"
  },
  "orig_nbformat": 4,
  "vscode": {
   "interpreter": {
    "hash": "20a9e06a1eee47c4abbed4ec8225ad91d78d9800d202b71b6b0a6e47016c6abd"
   }
  }
 },
 "nbformat": 4,
 "nbformat_minor": 2
}
