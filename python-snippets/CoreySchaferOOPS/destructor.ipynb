{
 "cells": [
  {
   "cell_type": "code",
   "execution_count": 13,
   "metadata": {},
   "outputs": [
    {
     "name": "stdout",
     "output_type": "stream",
     "text": [
      "craeted first object\n",
      "destructor called for Jim\n",
      "created a second object\n",
      "destructor called for Hello\n"
     ]
    }
   ],
   "source": [
    "\"\"\"\n",
    "Learning Destructors in Python\n",
    "these methods are called automatically when all refrences to an object has been deleted\n",
    "\n",
    "\"\"\"\n",
    "class A:\n",
    "    def __init__(self,first,last):\n",
    "        self.first = first\n",
    "        self.last = last\n",
    "\n",
    "    \n",
    "    def __del__(self):\n",
    "        print(f'destructor called for {self.first}')\n",
    "\n",
    "\n",
    "obj_1 = A('Jim','Carrey')\n",
    "print('craeted first object')\n",
    "del obj_1 \n",
    "\n",
    "obj_3 = A('Hello','Carrey')\n",
    "print('created a second object')\n",
    "del obj_3\n",
    "\n"
   ]
  },
  {
   "cell_type": "code",
   "execution_count": 20,
   "metadata": {},
   "outputs": [
    {
     "name": "stdout",
     "output_type": "stream",
     "text": [
      "object has been created\n",
      "function has ended\n",
      "destructor called\n"
     ]
    }
   ],
   "source": [
    "class Base:\n",
    "    def __init__(self):\n",
    "        print('object has been created')\n",
    "    \n",
    "    def __del__(self):\n",
    "        print('destructor called')\n",
    "    \n",
    "\n",
    "    \n",
    "def create_obj():\n",
    "        b = Base()\n",
    "        print('function has ended')\n",
    "        return b\n",
    "\n",
    "    \n",
    "\n",
    "\n",
    "obj_1 = create_obj()"
   ]
  },
  {
   "cell_type": "code",
   "execution_count": 18,
   "metadata": {},
   "outputs": [
    {
     "name": "stdout",
     "output_type": "stream",
     "text": [
      "destructor called\n"
     ]
    }
   ],
   "source": [
    "#creating a circular reference\n",
    "\n",
    "\n",
    "class A:\n",
    "    def __init__(self,bb):\n",
    "        self.b = bb\n",
    "\n",
    "class B:\n",
    "    def __init__(self):\n",
    "        self.a = A(self)\n",
    "\n",
    "\n",
    "\n",
    "def fun():\n",
    "     b = B()\n",
    "     return b\n",
    "\n",
    "obj_1 = fun()\n"
   ]
  },
  {
   "cell_type": "code",
   "execution_count": null,
   "metadata": {},
   "outputs": [],
   "source": []
  }
 ],
 "metadata": {
  "kernelspec": {
   "display_name": "Python 3.9.13",
   "language": "python",
   "name": "python3"
  },
  "language_info": {
   "codemirror_mode": {
    "name": "ipython",
    "version": 3
   },
   "file_extension": ".py",
   "mimetype": "text/x-python",
   "name": "python",
   "nbconvert_exporter": "python",
   "pygments_lexer": "ipython3",
   "version": "3.9.13"
  },
  "orig_nbformat": 4,
  "vscode": {
   "interpreter": {
    "hash": "20a9e06a1eee47c4abbed4ec8225ad91d78d9800d202b71b6b0a6e47016c6abd"
   }
  }
 },
 "nbformat": 4,
 "nbformat_minor": 2
}
