{
  "cells": [
    {
      "cell_type": "code",
      "execution_count": 18,
      "metadata": {
        "colab": {
          "base_uri": "https://localhost:8080/"
        },
        "id": "XW06puS3S9M0",
        "outputId": "f93e13e9-df0f-4651-d17b-440bc8ff305e"
      },
      "outputs": [
        {
          "name": "stdout",
          "output_type": "stream",
          "text": [
            "calling out constructor\n",
            "destructor called\n",
            "destructor called\n"
          ]
        }
      ],
      "source": [
        "#learning deconstructors \n",
        "\n",
        "class Employee:\n",
        "  def __init__(self):\n",
        "    print('calling out constructor')\n",
        "\n",
        "  def print_info(self):\n",
        "    return ('printing out a method once')\n",
        "    \n",
        "  def print_info2(self):\n",
        "    return ('printing out a method twice')\n",
        "  \n",
        "  def __del__(self):\n",
        "    print('destructor called')\n",
        "\n",
        "obj1 = Employee()\n",
        "del obj1"
      ]
    },
    {
      "cell_type": "code",
      "execution_count": 20,
      "metadata": {
        "colab": {
          "base_uri": "https://localhost:8080/"
        },
        "id": "0bvR3zrSXOL2",
        "outputId": "ff41dafe-d94b-470d-f51e-00225b0a4fd6"
      },
      "outputs": [
        {
          "name": "stdout",
          "output_type": "stream",
          "text": [
            "function start\n",
            "employee created\n",
            "function end\n",
            "program end\n",
            "destructor called\n"
          ]
        }
      ],
      "source": [
        "class A:\n",
        "  def __init__(self):\n",
        "    print('employee created')\n",
        "  def __del__(self):\n",
        "    print('destructor called')\n",
        "\n",
        "def create_obj():\n",
        "  print('function start')\n",
        "  obj = A()\n",
        "  print(f'function end')\n",
        "  return obj\n",
        "\n",
        "def delete_obj(object):\n",
        "  del object\n",
        "obj = create_obj()\n",
        "\n",
        "delete_obj(obj)\n",
        "print('program end')"
      ]
    },
    {
      "cell_type": "code",
      "execution_count": 8,
      "metadata": {
        "colab": {
          "base_uri": "https://localhost:8080/"
        },
        "id": "KTIQycaaQK_d",
        "outputId": "04843a2e-c046-4f56-87ea-6a5b0532fc36"
      },
      "outputs": [
        {
          "name": "stdout",
          "output_type": "stream",
          "text": [
            "hey the count is 3\n"
          ]
        }
      ],
      "source": [
        "class GodOfWar:\n",
        "  count = 0\n",
        "  def __init__(self):\n",
        "    GodOfWar.count +=1\n",
        "\n",
        "  def print_info(self):\n",
        "    print(f'hey the count is {self.count}')\n",
        "\n",
        "kratos = GodOfWar()\n",
        "Thor = GodOfWar()\n",
        "\n",
        "Atreus = GodOfWar()\n",
        "\n",
        "Atreus.print_info()"
      ]
    },
    {
      "cell_type": "code",
      "execution_count": 1,
      "metadata": {
        "colab": {
          "base_uri": "https://localhost:8080/"
        },
        "id": "_elBT3kXRAs6",
        "outputId": "5e4483e1-28fe-4ba5-9fdb-1813b0c8d5cb"
      },
      "outputs": [
        {
          "name": "stdout",
          "output_type": "stream",
          "text": [
            "We are playing God Of War 2018 \n"
          ]
        }
      ],
      "source": [
        "class GodOfWar:\n",
        "  count = 0\n",
        "  year = 0\n",
        "  def __init__(self):\n",
        "    GodOfWar.count +=1\n",
        "\n",
        "  def print_info(self):\n",
        "    print(f'hey the count is {self.count}')\n",
        "\n",
        "  def play_game(self):\n",
        "    if GodOfWar.year == 2018:\n",
        "      print('We are playing God Of War 2018 ')\n",
        "    elif GodOfWar.year == 2010:\n",
        "      print('God oF War 3 Remastered')\n",
        "\n",
        "  \n",
        "  @classmethod\n",
        "  def set_year(cls,year):\n",
        "    cls.year = year\n",
        "\n",
        "kratos = GodOfWar()\n",
        "\n",
        "GodOfWar.set_year(2018)\n",
        "kratos.play_game()\n"
      ]
    },
    {
      "cell_type": "code",
      "execution_count": null,
      "metadata": {
        "id": "3h_ZYQCvU85X"
      },
      "outputs": [],
      "source": []
    }
  ],
  "metadata": {
    "colab": {
      "provenance": []
    },
    "kernelspec": {
      "display_name": "Python 3.9.13 ('base')",
      "language": "python",
      "name": "python3"
    },
    "language_info": {
      "codemirror_mode": {
        "name": "ipython",
        "version": 3
      },
      "file_extension": ".py",
      "mimetype": "text/x-python",
      "name": "python",
      "nbconvert_exporter": "python",
      "pygments_lexer": "ipython3",
      "version": "3.9.13"
    },
    "vscode": {
      "interpreter": {
        "hash": "20a9e06a1eee47c4abbed4ec8225ad91d78d9800d202b71b6b0a6e47016c6abd"
      }
    }
  },
  "nbformat": 4,
  "nbformat_minor": 0
}
