{
  "cells": [
    {
      "cell_type": "markdown",
      "metadata": {
        "id": "myii9DkVNQHW"
      },
      "source": [
        "# learning inheritance"
      ]
    },
    {
      "cell_type": "code",
      "execution_count": 2,
      "metadata": {
        "colab": {
          "base_uri": "https://localhost:8080/"
        },
        "id": "J1f1DbneNSze",
        "outputId": "edcc6139-fce9-42c3-8d69-36c53da3cbcc"
      },
      "outputs": [
        {
          "name": "stdout",
          "output_type": "stream",
          "text": [
            "before applying raise\n",
            "50000\n",
            "after applying raise\n",
            "55000\n"
          ]
        }
      ],
      "source": [
        "\n",
        "class Employee:\n",
        "  raise_amount = 1.04  \n",
        " \n",
        "\n",
        "  def __init__(self,first,last,pay):\n",
        "    self.first = first     \n",
        "    self.last = last    \n",
        "    self.pay = pay\n",
        "    self.email = f'{first}.{last}@gmail.com'\n",
        "    \n",
        "\n",
        "\n",
        "  def fullName(self):\n",
        "    return f'{self.first}.{self.last}'\n",
        "\n",
        "  def apply_raise(self):\n",
        "    self.pay = int(self.pay* self.raise_amount)  \n",
        "    return self.pay\n",
        "  \n",
        "  #syntax for inheriting\n",
        "class Developer(Employee):\n",
        "  raise_amount = 1.10\n",
        "#changing values or methods in sub class does not have any effect on \n",
        "#our parent class\n",
        "#it just updates it for its specific use only\n",
        "\n",
        "\n",
        "dev_1 = Developer('Rahul','Gupta',50000)\n",
        "emp_1 = Employee('Corey','Schafer',50000)\n",
        "\n",
        "\n",
        "print('before applying raise')\n",
        "print(dev_1.pay)\n",
        "\n",
        "print('after applying raise')\n",
        "dev_1.apply_raise()\n",
        "print(dev_1.pay)\n",
        "\n",
        "\n",
        "\n",
        "\n",
        "\n",
        "# print(dev_1.email)\n",
        "# print(dev_2.email)\n",
        "\n"
      ]
    },
    {
      "cell_type": "code",
      "execution_count": null,
      "metadata": {
        "colab": {
          "base_uri": "https://localhost:8080/"
        },
        "id": "EJ75REYwN9Pa",
        "outputId": "1045ddb3-dab7-49a7-a64c-16aebc0f2ad8"
      },
      "outputs": [
        {
          "name": "stdout",
          "output_type": "stream",
          "text": [
            "Rahul.Gupta@gmail.com\n",
            "Python\n"
          ]
        }
      ],
      "source": [
        "\n",
        "class Employee:\n",
        "  raise_amount = 1.04  \n",
        " \n",
        "  def __init__(self,first,last,pay):\n",
        "    self.first = first     \n",
        "    self.last = last    \n",
        "    self.pay = pay\n",
        "    self.email = f'{first}.{last}@gmail.com'\n",
        "    \n",
        "  def fullName(self):\n",
        "    return f'{self.first}.{self.last}'\n",
        "\n",
        "  def apply_raise(self):\n",
        "    self.pay = int(self.pay* self.raise_amount)  \n",
        "    return self.pay\n",
        "  \n",
        "class Developer(Employee):\n",
        "  raise_amount = 1.10\n",
        "\n",
        "#instead of defining the constructor again for developer class\n",
        "#we can let our employee class init method handle the first,last and pay\n",
        "#by using super\n",
        "\n",
        "  def __init__(self,first,last,pay,prog_lang):\n",
        "    super().__init__(first,last,pay)\n",
        "    self.prog_lang = prog_lang\n",
        "\n",
        "\n",
        "dev_1 = Developer('Rahul','Gupta',50000,'Python')\n",
        "dev_2 = Developer('Corey','Schafer',50000,'Java-Script')\n",
        "\n",
        "\n",
        "print(dev_1.email)\n",
        "print(dev_1.prog_lang)\n",
        "\n",
        "\n"
      ]
    },
    {
      "cell_type": "code",
      "execution_count": 2,
      "metadata": {
        "colab": {
          "base_uri": "https://localhost:8080/"
        },
        "id": "pGb_DDvUTB1R",
        "outputId": "43f17dd9-7ac2-4700-a557-f9cced961b4c"
      },
      "outputs": [
        {
          "name": "stdout",
          "output_type": "stream",
          "text": [
            "Sue.Smith@gmail.com\n",
            "adding\n",
            "--> Rahul.Gupta\n",
            "--> Corey.Schafer\n",
            "deleting\n",
            "--> Rahul.Gupta\n"
          ]
        }
      ],
      "source": [
        "class Employee:\n",
        "  raise_amount = 1.04  \n",
        " \n",
        "  def __init__(self,first,last,pay):\n",
        "    self.first = first     \n",
        "    self.last = last    \n",
        "    self.pay = pay\n",
        "    self.email = f'{first}.{last}@gmail.com'\n",
        "    \n",
        "  def fullName(self):\n",
        "    return f'{self.first}.{self.last}'\n",
        "\n",
        "  def apply_raise(self):\n",
        "    self.pay = int(self.pay* self.raise_amount)  \n",
        "    return self.pay\n",
        "  \n",
        "class Developer(Employee):\n",
        "  raise_amount = 1.10\n",
        "\n",
        "  def __init__(self,first,last,pay,prog_lang):\n",
        "    super().__init__(first,last,pay)\n",
        "    self.prog_lang = prog_lang\n",
        "\n",
        "class Manager(Employee):\n",
        "    def __init__(self,first,last,pay,employees=None):  #we wrote none, because we never want to assume an iterable such as an empty dict or a list as a default value\n",
        "       super().__init__(first,last,pay)\n",
        "       if employees == None:\n",
        "         self.employees = []\n",
        "       else:\n",
        "        self.employees = employees\n",
        "\n",
        "    def add_emp(self,emp):\n",
        "      if emp not in self.employees:\n",
        "        self.employees.append(emp)\n",
        "      else:\n",
        "        print(f'{emp} already in list')\n",
        "    \n",
        "    def remove_emp(self,emp):\n",
        "      if emp in self.employees:\n",
        "        self.employees.remove(emp)\n",
        "    \n",
        "    def display_emp(self):\n",
        "      for emp in self.employees:\n",
        "        print('-->',emp.fullName()) #this is if we are assuming to pass an object not just a person's name\n",
        "\n",
        "dev_1 = Developer('Rahul','Gupta',50000,'Python')\n",
        "dev_2 = Developer('Corey','Schafer',50000,'Java-Script')\n",
        "\n",
        "mgr_1 = Manager('Sue','Smith',90000,[dev_1])\n",
        "class Employee:\n",
        "\n",
        "print(mgr_1.email)\n",
        "print('adding')\n",
        "mgr_1.add_emp(dev_2)\n",
        "mgr_1.display_emp()\n",
        "print('deleting')\n",
        "mgr_1.remove_emp(dev_2)\n",
        "mgr_1.display_emp()\n",
        "\n"
      ]
    },
    {
      "cell_type": "code",
      "execution_count": 7,
      "metadata": {
        "id": "tuDBQLScUmfB"
      },
      "outputs": [],
      "source": [
        "list1 = [dev_1,dev_2]"
      ]
    },
    {
      "cell_type": "code",
      "execution_count": null,
      "metadata": {
        "colab": {
          "base_uri": "https://localhost:8080/"
        },
        "id": "jvtDkGPxWgYF",
        "outputId": "db765e31-cb17-42af-c8f1-1f3eac8cfbf8"
      },
      "outputs": [
        {
          "name": "stdout",
          "output_type": "stream",
          "text": [
            "Rahul.Gupta\n",
            "Corey.Schafer\n"
          ]
        }
      ],
      "source": [
        "class Person:\n",
        "  def __init__(self,name,id,number):\n",
        "   self.name = name\n",
        "   self.id = id\n",
        "   self.number = number\n",
        "  def display_name(self):\n",
        "    return f'the name is {self.name}'\n",
        "\n",
        "class Employee(Person):\n",
        "  def __init__(self,name,id,number,department):\n",
        "   super.__init__(name,id,number)\n",
        "   self.department\n",
        "\n",
        "   def display_department(self):\n",
        "    return f'the department is {self.department}'\n",
        "\n",
        "emp_1 = Employee('Rahul','wgx385',987693,'ComputerSci')\n",
        "\n",
        "emp_1.display_department()\n",
        "\n"
      ]
    },
    {
      "cell_type": "code",
      "execution_count": 1,
      "metadata": {
        "colab": {
          "base_uri": "https://localhost:8080/"
        },
        "id": "hXITrFSqWk3y",
        "outputId": "f6d7f5c1-6aac-4871-e889-eeda57de152d"
      },
      "outputs": [
        {
          "name": "stdout",
          "output_type": "stream",
          "text": [
            "hello\n"
          ]
        }
      ],
      "source": [
        "print('hello')"
      ]
    },
    {
      "cell_type": "code",
      "execution_count": 5,
      "metadata": {
        "colab": {
          "base_uri": "https://localhost:8080/"
        },
        "id": "vyDYV6w3iQ-O",
        "outputId": "35348b9a-d2ba-4890-e1f5-6c4d1d35472c"
      },
      "outputs": [
        {
          "name": "stdout",
          "output_type": "stream",
          "text": [
            "Name is Rahul.Gupta\n"
          ]
        }
      ],
      "source": [
        "#practising classes\n",
        "\n",
        "class Athlete:\n",
        "  bonus_amount = 1.04\n",
        "\n",
        "  def __init__(self,first,last,age,pay,gender):\n",
        "    self.first=first\n",
        "    self.last=last\n",
        "    self.age=age\n",
        "    self.gender=gender\n",
        "    self.pay = pay\n",
        "\n",
        "\n",
        "  def display_name(self):\n",
        "    print(f'Name is {self.first}.{self.last}')\n",
        "  def apply_bonus(self):\n",
        "    return int(self.pay*self.bonus)\n",
        "\n",
        "class Badminton_athlete(Athlete):\n",
        "  bonus_amount = 1.07\n",
        "\n",
        "  def __init__(self,first,last,age,pay,gender,category):\n",
        "    super().__init__(first,last,age,pay,gender)\n",
        "    self.category = category\n",
        "\n",
        "    \n",
        "player_1 = Badminton_athlete('Rahul','Gupta',19,240000,'Male','Singles')\n",
        "\n",
        "player_1.display_name()\n",
        "\n",
        "\n"
      ]
    },
    {
      "cell_type": "code",
      "execution_count": null,
      "metadata": {
        "id": "4jHJ87JcmtrF"
      },
      "outputs": [],
      "source": []
    }
  ],
  "metadata": {
    "colab": {
      "collapsed_sections": [],
      "provenance": []
    },
    "kernelspec": {
      "display_name": "Python 3.9.13 ('base')",
      "language": "python",
      "name": "python3"
    },
    "language_info": {
      "codemirror_mode": {
        "name": "ipython",
        "version": 3
      },
      "file_extension": ".py",
      "mimetype": "text/x-python",
      "name": "python",
      "nbconvert_exporter": "python",
      "pygments_lexer": "ipython3",
      "version": "3.9.13"
    },
    "vscode": {
      "interpreter": {
        "hash": "20a9e06a1eee47c4abbed4ec8225ad91d78d9800d202b71b6b0a6e47016c6abd"
      }
    }
  },
  "nbformat": 4,
  "nbformat_minor": 0
}
