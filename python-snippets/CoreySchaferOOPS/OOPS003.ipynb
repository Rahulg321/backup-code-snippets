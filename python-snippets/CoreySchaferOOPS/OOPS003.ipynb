{
  "cells": [
    {
      "cell_type": "markdown",
      "metadata": {
        "id": "5o3lLD9quo86"
      },
      "source": [
        "# REGULAR,CLASS AND STATIC METHODS"
      ]
    },
    {
      "cell_type": "code",
      "execution_count": 1,
      "metadata": {
        "colab": {
          "base_uri": "https://localhost:8080/"
        },
        "id": "yLI297u9uPfz",
        "outputId": "af6b47bb-340a-4c50-e5df-1605b97fbb2b"
      },
      "outputs": [
        {
          "name": "stdout",
          "output_type": "stream",
          "text": [
            "1.04\n",
            "1.05\n",
            "1.05\n"
          ]
        }
      ],
      "source": [
        "\n",
        "class Employee:\n",
        "  raise_amount = 1.04  \n",
        "  no_of_emps = 0\n",
        "\n",
        "  #Constructor\n",
        "  def __init__(self,first,last,pay):\n",
        "    self.first = first     \n",
        "    self.last = last    \n",
        "    self.pay = pay\n",
        "    self.email = f'{first}.{last}@gmail.com'\n",
        "    Employee.no_of_emps += 1\n",
        "\n",
        "\n",
        "  def fullName(self):\n",
        "    return f'{self.first}.{self.last}'\n",
        "\n",
        "  def apply_raise(self):\n",
        "    self.pay = int(self.pay* self.raise_amount)  \n",
        "    return self.pay\n",
        "  \n",
        "  @classmethod\n",
        "  def set_raise_amt(cls,amount):\n",
        "    cls.raise_amount = amount\n",
        "\n",
        "\n",
        "emp_1 = Employee('Rahul','Gupta',50000)\n",
        "emp_2 = Employee('Corey','Schafer',180000)\n",
        "\n",
        "\n",
        "print(Employee.raise_amount)\n",
        "#automatically accepts the class as a function\n",
        "Employee.set_raise_amt(1.05)\n",
        "\n",
        "\n",
        "print(emp_1.raise_amount)\n",
        "print(emp_2.raise_amount)\n"
      ]
    },
    {
      "cell_type": "code",
      "execution_count": 1,
      "metadata": {
        "id": "brPgrUaW_VYh"
      },
      "outputs": [],
      "source": [
        "\n",
        "#class methods as alternative constructors\n",
        "#alternative way to define an instance\n",
        "class Employee:\n",
        "  raise_amount = 1.04  \n",
        "  no_of_emps = 0\n",
        "\n",
        "  def __init__(self,first,last,pay):\n",
        "    self.first = first     \n",
        "    self.last = last    \n",
        "    self.pay = pay\n",
        "    self.email = f'{first}.{last}@gmail.com'\n",
        "    Employee.no_of_emps += 1\n",
        "\n",
        "\n",
        "  def fullName(self):\n",
        "    return f'{self.first}.{self.last}'\n",
        "\n",
        "  def apply_raise(self):\n",
        "    self.pay = int(self.pay* self.raise_amount)  \n",
        "    return self.pay\n",
        "  \n",
        "  @classmethod\n",
        "  def set_raise_amt(cls,amount):\n",
        "    cls.raise_amount = amount\n",
        "  \n",
        "  @classmethod\n",
        "  def from_string(cls,emp_str):\n",
        "    first,last,pay = emp_str.split('-') \n",
        "    return cls(first,last,pay)   \n",
        "    #class methods can also be used when we want an alternative way of passing values to a constructor\n",
        "    #this will create that new employee and return it to the user\n",
        "#this will pass those varibles to the init method\n",
        "\n",
        "\n",
        "emp_1 = Employee('Rahul','Gupta',50000)\n",
        "emp_2 = Employee('Corey','Schafer',180000)\n",
        "\n",
        " \n",
        "\n",
        "emp_3 = Employee.from_string('Steven-Smith-89000')\n"
      ]
    },
    {
      "cell_type": "markdown",
      "metadata": {
        "id": "uzrkrZNhDXO6"
      },
      "source": [
        "*static methods dont pass in anything automatically\n",
        "regular methods take in self as an input \n",
        "class methods take in the whole class as an input like cls\n",
        "\n",
        "static methods are just normal methods\n",
        "*"
      ]
    },
    {
      "cell_type": "code",
      "execution_count": 21,
      "metadata": {
        "colab": {
          "base_uri": "https://localhost:8080/"
        },
        "id": "EKDAP-QZDJ0E",
        "outputId": "4ae471f4-ad24-4725-8d8c-5bca144091ed"
      },
      "outputs": [
        {
          "name": "stdout",
          "output_type": "stream",
          "text": [
            "True\n"
          ]
        }
      ],
      "source": [
        "#they have a logical connection to the class\n",
        "#but dont specifically depend upon any instance of that class\n",
        "#in this case we would use a static method\n",
        "\n",
        "class Employee:\n",
        "  raise_amount = 1.04  \n",
        "  no_of_emps = 0\n",
        "\n",
        "  def __init__(self,first,last,pay):\n",
        "    self.first = first     \n",
        "    self.last = last    \n",
        "    self.pay = pay\n",
        "    self.email = f'{first}.{last}@gmail.com'\n",
        "    Employee.no_of_emps += 1\n",
        "\n",
        "\n",
        "  def fullName(self):\n",
        "    return f'{self.first}.{self.last}'\n",
        "\n",
        "  def apply_raise(self):\n",
        "    self.pay = int(self.pay* self.raise_amount)  \n",
        "    return self.pay\n",
        "  \n",
        "  @classmethod\n",
        "  def set_raise_amt(cls,amount):\n",
        "    cls.raise_amount = amount\n",
        "  \n",
        "  @classmethod\n",
        "  def from_string(cls,emp_str):\n",
        "    first,last,pay = emp_str.split('-')\n",
        "    return cls(first,last,pay) \n",
        "\n",
        "  @staticmethod\n",
        "  def is_workday(day):\n",
        "    if day.weekday() == 5 or day.weekday() == 6:\n",
        "      return False\n",
        "    return True\n",
        "\n",
        "\n",
        "emp_1 = Employee('Rahul','Gupta',50000)\n",
        "emp_2 = Employee('Corey','Schafer',180000)\n",
        "\n",
        " \n",
        "import datetime\n",
        "my_date = datetime.date(2022,10,20)\n",
        "\n",
        "print(Employee.is_workday(my_date))"
      ]
    },
    {
      "cell_type": "code",
      "execution_count": 3,
      "metadata": {
        "colab": {
          "base_uri": "https://localhost:8080/"
        },
        "id": "sKu2iPuAuynP",
        "outputId": "e3f5a9da-74e0-401c-bf60-74bb3dc90f15"
      },
      "outputs": [
        {
          "name": "stdout",
          "output_type": "stream",
          "text": [
            "the name is Hippie\n",
            "the author is Paulo Coelho\n",
            "number of pages is 370\n",
            "the price of book is 240\n",
            "96.0\n"
          ]
        }
      ],
      "source": [
        "#creating a book class\n",
        "\n",
        "#a practise book class\n",
        "class Book:\n",
        "  discount_percent = 0.4\n",
        "  \n",
        "  def __init__(self,name,author,pages,price):\n",
        "    self.name = name\n",
        "    self.author = author\n",
        "    self.pages = pages\n",
        "    self.price = price\n",
        "\n",
        "\n",
        "  def display_info(self):\n",
        "    print(f'the name is {self.name}')\n",
        "    print(f'the author is {self.author}')\n",
        "    print(f'number of pages is {self.pages}')\n",
        "    print(f'the price of book is {self.price}')\n",
        "  def discount_amn(self):\n",
        "    discount_amount = float(self.price*self.discount_percent)\n",
        "    return discount_amount\n",
        "\n",
        "\n",
        "\n",
        "Book1 = Book('Hippie','Paulo Coelho',370,240)\n",
        "Book1.display_info()\n",
        "print(Book1.discount_amn())"
      ]
    },
    {
      "cell_type": "code",
      "execution_count": 5,
      "metadata": {
        "colab": {
          "base_uri": "https://localhost:8080/"
        },
        "id": "uK-4uW0h5Mb5",
        "outputId": "a1874d38-94a1-4ce3-e0f3-8f7f8fc20526"
      },
      "outputs": [
        {
          "name": "stdout",
          "output_type": "stream",
          "text": [
            "the name is Hippie\n",
            "the author is Paulo Coelho\n",
            "number of pages is 370\n",
            "the price of book is 240\n"
          ]
        }
      ],
      "source": [
        "Book1.display_info()"
      ]
    },
    {
      "cell_type": "code",
      "execution_count": 2,
      "metadata": {
        "colab": {
          "base_uri": "https://localhost:8080/"
        },
        "id": "6zPgeXir5Plk",
        "outputId": "4507248a-581c-4bd3-ca1b-96ee81368689"
      },
      "outputs": [
        {
          "name": "stdout",
          "output_type": "stream",
          "text": [
            "Collecting chatterbot_corpus\n",
            "  Using cached chatterbot_corpus-1.2.0-py2.py3-none-any.whl (117 kB)\n",
            "Collecting PyYAML<4.0,>=3.12\n",
            "  Using cached PyYAML-3.13.tar.gz (270 kB)\n",
            "  Preparing metadata (setup.py): started\n",
            "  Preparing metadata (setup.py): finished with status 'done'\n",
            "Building wheels for collected packages: PyYAML\n",
            "  Building wheel for PyYAML (setup.py): started\n",
            "  Building wheel for PyYAML (setup.py): finished with status 'done'\n",
            "  Created wheel for PyYAML: filename=PyYAML-3.13-cp39-cp39-win_amd64.whl size=43096 sha256=a6003e0a6bff5c4224527fd20d59f6478559a6dcabea1f8e39665e18cbebedc9\n",
            "  Stored in directory: c:\\users\\lenovo\\appdata\\local\\pip\\cache\\wheels\\81\\6e\\87\\725bed1db7f86e1c7091ef5f4a4f11b0fcf7023c2be4fc29db\n",
            "Successfully built PyYAML\n",
            "Installing collected packages: PyYAML, chatterbot_corpus\n",
            "  Attempting uninstall: PyYAML\n",
            "    Found existing installation: PyYAML 6.0\n",
            "    Uninstalling PyYAML-6.0:\n",
            "      Successfully uninstalled PyYAML-6.0\n",
            "Successfully installed PyYAML-3.13 chatterbot_corpus-1.2.0\n",
            "Note: you may need to restart the kernel to use updated packages.\n"
          ]
        },
        {
          "name": "stderr",
          "output_type": "stream",
          "text": [
            "ERROR: pip's dependency resolver does not currently take into account all the packages that are installed. This behaviour is the source of the following dependency conflicts.\n",
            "dask 2022.7.0 requires pyyaml>=5.3.1, but you have pyyaml 3.13 which is incompatible.\n",
            "conda-repo-cli 1.0.20 requires clyent==1.2.1, but you have clyent 1.2.2 which is incompatible.\n",
            "conda-repo-cli 1.0.20 requires nbformat==5.4.0, but you have nbformat 5.5.0 which is incompatible.\n",
            "conda-repo-cli 1.0.20 requires PyYAML==6.0, but you have pyyaml 3.13 which is incompatible.\n"
          ]
        }
      ],
      "source": [
        "%pip install chatterbot_corpus"
      ]
    },
    {
      "cell_type": "code",
      "execution_count": 19,
      "metadata": {
        "colab": {
          "base_uri": "https://localhost:8080/"
        },
        "id": "39LKkQzbJK2a",
        "outputId": "d4b5a427-9ffa-4b03-cc5b-322c6b702def"
      },
      "outputs": [
        {
          "data": {
            "text/plain": [
              "3"
            ]
          },
          "execution_count": 19,
          "metadata": {},
          "output_type": "execute_result"
        }
      ],
      "source": [
        "my_date.weekday()"
      ]
    },
    {
      "cell_type": "code",
      "execution_count": 20,
      "metadata": {
        "colab": {
          "base_uri": "https://localhost:8080/",
          "height": 171
        },
        "id": "oPil1N7wJejw",
        "outputId": "4fd24fb3-06df-430e-a523-a0f9c74918a0"
      },
      "outputs": [
        {
          "ename": "NameError",
          "evalue": "ignored",
          "output_type": "error",
          "traceback": [
            "\u001b[0;31m---------------------------------------------------------------------------\u001b[0m",
            "\u001b[0;31mNameError\u001b[0m                                 Traceback (most recent call last)",
            "\u001b[0;32m<ipython-input-20-932b18fa2165>\u001b[0m in \u001b[0;36m<module>\u001b[0;34m\u001b[0m\n\u001b[0;32m----> 1\u001b[0;31m \u001b[0mweekday\u001b[0m\u001b[0;34m(\u001b[0m\u001b[0;34m)\u001b[0m\u001b[0;34m\u001b[0m\u001b[0;34m\u001b[0m\u001b[0m\n\u001b[0m",
            "\u001b[0;31mNameError\u001b[0m: name 'weekday' is not defined"
          ]
        }
      ],
      "source": []
    },
    {
      "cell_type": "code",
      "execution_count": 6,
      "metadata": {
        "id": "PHvqEcvZJip6"
      },
      "outputs": [
        {
          "name": "stdout",
          "output_type": "stream",
          "text": [
            "[1, 2, 3, 4, 5, 6]\n"
          ]
        }
      ],
      "source": [
        "list1 = [1,2,3]\n",
        "list2 = [4,5,6]\n",
        "\n",
        "print(list1 + list2)"
      ]
    },
    {
      "cell_type": "code",
      "execution_count": null,
      "metadata": {},
      "outputs": [],
      "source": []
    }
  ],
  "metadata": {
    "colab": {
      "provenance": []
    },
    "kernelspec": {
      "display_name": "Python 3.9.13",
      "language": "python",
      "name": "python3"
    },
    "language_info": {
      "codemirror_mode": {
        "name": "ipython",
        "version": 3
      },
      "file_extension": ".py",
      "mimetype": "text/x-python",
      "name": "python",
      "nbconvert_exporter": "python",
      "pygments_lexer": "ipython3",
      "version": "3.9.13"
    },
    "vscode": {
      "interpreter": {
        "hash": "20a9e06a1eee47c4abbed4ec8225ad91d78d9800d202b71b6b0a6e47016c6abd"
      }
    }
  },
  "nbformat": 4,
  "nbformat_minor": 0
}
