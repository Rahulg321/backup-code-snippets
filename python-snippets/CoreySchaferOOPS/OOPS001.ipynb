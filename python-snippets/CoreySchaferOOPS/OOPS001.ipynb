{
  "nbformat": 4,
  "nbformat_minor": 0,
  "metadata": {
    "colab": {
      "provenance": [],
      "collapsed_sections": []
    },
    "kernelspec": {
      "name": "python3",
      "display_name": "Python 3"
    },
    "language_info": {
      "name": "python"
    }
  },
  "cells": [
    {
      "cell_type": "markdown",
      "source": [
        "*Instance Variables contains data which is unique to each instance*"
      ],
      "metadata": {
        "id": "ECs4nCkPA0aG"
      }
    },
    {
      "cell_type": "code",
      "execution_count": 3,
      "metadata": {
        "colab": {
          "base_uri": "https://localhost:8080/"
        },
        "id": "HiKyzL5n-B4x",
        "outputId": "43cc90e2-ee06-487d-f3e3-6d39e9e23a2a"
      },
      "outputs": [
        {
          "output_type": "stream",
          "name": "stdout",
          "text": [
            "<__main__.Employee object at 0x7fc69f7387d0>\n",
            "<__main__.Employee object at 0x7fc69f738590>\n",
            "rg5353070@gmail.com\n",
            "rg5332070@gmail.com\n"
          ]
        }
      ],
      "source": [
        "#Python Object Oriented Programming\n",
        "#Method-Func that is associated with a class\n",
        "\n",
        "class Employee:\n",
        "  pass\n",
        "\n",
        "emp_1 = Employee()\n",
        "emp_2 = Employee()\n",
        "\n",
        "print(emp_1)\n",
        "print(emp_2)\n",
        "\n",
        "#manually creating instance variables\n",
        "\n",
        "emp_1.first = \"Corey\"\n",
        "emp_1.last = \"Schafer\"\n",
        "emp_1.pay = 50000\n",
        "emp_1.email = \"rg5353070@gmail.com\"\n",
        "\n",
        "\n",
        "emp_2.first = \"CoNOR\"\n",
        "emp_2.last = \"MMA\"\n",
        "emp_2.pay = 50940\n",
        "emp_2.email = \"rg5332070@gmail.com\"\n",
        "\n",
        "\n",
        "print(emp_1.email)\n",
        "print(emp_2.email)"
      ]
    },
    {
      "cell_type": "markdown",
      "source": [
        "*init method is to use to intialise variables\n",
        "**ALSO KNOWN AS CONSTRUCTORS**\n",
        "\n",
        "*"
      ],
      "metadata": {
        "id": "zU4DakXGCITJ"
      }
    },
    {
      "cell_type": "code",
      "source": [
        "#A constructor receives an instance itself as the first arguement\n",
        "\n",
        "class Employee:\n",
        "  def __init__(self,first,last,pay):\n",
        "    self.first = first     #we are defining member variables\n",
        "    self.last = last    \n",
        "    self.pay = pay\n",
        "    self.email = f'{first}.{last}@gmail.com' \n",
        "  def fullName(self):\n",
        "    return f'{self.first}.{self.last}'\n",
        " \n",
        "emp_1 = Employee('Rahul','Gupta',90000)\n",
        "emp_2 = Employee('Corey','Schafer',180000)\n",
        "\n",
        "print(emp_1.fullName()) #dont need to pass an instance\n",
        "print(Employee.fullName(emp_2)) #passing an instance\n",
        "\n",
        "\n",
        "\n"
      ],
      "metadata": {
        "colab": {
          "base_uri": "https://localhost:8080/"
        },
        "id": "d9-i0XF-Acfw",
        "outputId": "850da359-032b-48e0-ea63-eba6f4bec43d"
      },
      "execution_count": 14,
      "outputs": [
        {
          "output_type": "stream",
          "name": "stdout",
          "text": [
            "Rahul.Gupta\n",
            "Corey.Schafer\n"
          ]
        }
      ]
    },
    {
      "cell_type": "code",
      "source": [],
      "metadata": {
        "id": "-7tVCTaDZeyA"
      },
      "execution_count": null,
      "outputs": []
    }
  ]
}