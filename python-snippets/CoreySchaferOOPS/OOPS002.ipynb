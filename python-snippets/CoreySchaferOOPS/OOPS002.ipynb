{
  "nbformat": 4,
  "nbformat_minor": 0,
  "metadata": {
    "colab": {
      "provenance": []
    },
    "kernelspec": {
      "name": "python3",
      "display_name": "Python 3"
    },
    "language_info": {
      "name": "python"
    }
  },
  "cells": [
    {
      "cell_type": "markdown",
      "source": [
        "# CLASS VARIABLES"
      ],
      "metadata": {
        "id": "LMlz0QbthD5O"
      }
    },
    {
      "cell_type": "code",
      "source": [
        "#CLASS VARIABLES  \n",
        "#these are shared among all instances of a class\n",
        "\n",
        "class Employee:\n",
        "  raise_amount = 1.04   #defining a class variable\n",
        "\n",
        "\n",
        "  def __init__(self,first,last,pay):\n",
        "    self.first = first     \n",
        "    self.last = last    \n",
        "    self.pay = pay\n",
        "    self.email = f'{first}.{last}@gmail.com' \n",
        "  def fullName(self):\n",
        "    return f'{self.first}.{self.last}'\n",
        "  def apply_raise(self):\n",
        "    self.pay = int(self.pay* self.raise_amount)  #can be accessed through the class itself or an instance of a class\n",
        "    return self.pay\n",
        "\n",
        "\n",
        "emp_1 = Employee('Rahul','Gupta',50000)\n",
        "emp_2 = Employee('Corey','Schafer',180000)\n",
        "\n",
        "\n",
        "print(emp_1.apply_raise())"
      ],
      "metadata": {
        "colab": {
          "base_uri": "https://localhost:8080/"
        },
        "id": "verOeMhG8uCw",
        "outputId": "f7fc16d4-44cd-4c67-e3af-495a26236ee6"
      },
      "execution_count": 19,
      "outputs": [
        {
          "output_type": "stream",
          "name": "stdout",
          "text": [
            "52000\n"
          ]
        }
      ]
    },
    {
      "cell_type": "code",
      "source": [
        "class Employee:\n",
        "  raise_amount = 1.04  \n",
        "\n",
        "\n",
        "  def __init__(self,first,last,pay):\n",
        "    self.first = first     \n",
        "    self.last = last    \n",
        "    self.pay = pay\n",
        "    self.email = f'{first}.{last}@gmail.com' \n",
        "  def fullName(self):\n",
        "    return f'{self.first}.{self.last}'\n",
        "  def apply_raise(self):\n",
        "    self.pay = int(self.pay* self.raise_amount)  \n",
        "    return self.pay\n",
        "\n",
        "\n",
        "emp_1 = Employee('Rahul','Gupta',50000)\n",
        "emp_2 = Employee('Corey','Schafer',180000)\n",
        "\n",
        "#accessed through instances or the class itself\n",
        "# print(emp_1.raise_amount)\n",
        "# print(emp_2.raise_amount)\n",
        "# print(Employee.raise_amount)\n",
        "\n",
        "# print(emp_1.__dict__)\n",
        "# print(Employee.__dict__)\n"
      ],
      "metadata": {
        "colab": {
          "base_uri": "https://localhost:8080/"
        },
        "id": "Gx_aoCFwkaMp",
        "outputId": "0a4f37e1-684e-4d82-fcef-ed179ea1dd75"
      },
      "execution_count": 22,
      "outputs": [
        {
          "output_type": "stream",
          "name": "stdout",
          "text": [
            "{'__module__': '__main__', 'raise_amount': 1.04, '__init__': <function Employee.__init__ at 0x7f249bce88c0>, 'fullName': <function Employee.fullName at 0x7f249bce8dd0>, 'apply_raise': <function Employee.apply_raise at 0x7f249bce8710>, '__dict__': <attribute '__dict__' of 'Employee' objects>, '__weakref__': <attribute '__weakref__' of 'Employee' objects>, '__doc__': None}\n"
          ]
        }
      ]
    },
    {
      "cell_type": "code",
      "source": [
        "class Employee:\n",
        "  raise_amount = 1.04  \n",
        "\n",
        "\n",
        "  def __init__(self,first,last,pay):\n",
        "    self.first = first     \n",
        "    self.last = last    \n",
        "    self.pay = pay\n",
        "    self.email = f'{first}.{last}@gmail.com' \n",
        "  def fullName(self):\n",
        "    return f'{self.first}.{self.last}'\n",
        "  def apply_raise(self):\n",
        "    self.pay = int(self.pay* self.raise_amount)  \n",
        "    return self.pay\n",
        "\n",
        "\n",
        "emp_1 = Employee('Rahul','Gupta',50000)\n",
        "emp_2 = Employee('Corey','Schafer',180000)\n",
        "\n",
        "# changed the value of the class variable outside the class\n",
        "\n",
        "#changes the value of raise_amount for the entire class\n",
        "Employee.raise_amount = 1.05\n",
        "\n",
        "#changes the value for that specific class\n",
        "emp_1.raise_amount = 1.06\n",
        "\n",
        "\n",
        "print(Employee.raise_amount)\n",
        "print(emp_1.raise_amount)\n",
        "print(emp_2.raise_amount)\n",
        "print(emp_1.apply_raise())\n",
        "print(emp_2.apply_raise())\n"
      ],
      "metadata": {
        "colab": {
          "base_uri": "https://localhost:8080/"
        },
        "id": "fbxWj4AZmOFC",
        "outputId": "248f6cfa-8320-4dc1-c3f1-20651c043bd6"
      },
      "execution_count": 29,
      "outputs": [
        {
          "output_type": "stream",
          "name": "stdout",
          "text": [
            "1.05\n",
            "1.06\n",
            "1.05\n",
            "53000\n",
            "189000\n"
          ]
        }
      ]
    },
    {
      "cell_type": "code",
      "source": [
        "#in this example we want to keep track of how many employees we have\n",
        "\n",
        "class Employee:\n",
        "  raise_amount = 1.04  \n",
        "  no_of_emps = 0\n",
        "\n",
        "  #Constructor\n",
        "  def __init__(self,first,last,pay):\n",
        "    self.first = first     \n",
        "    self.last = last    \n",
        "    self.pay = pay\n",
        "    self.email = f'{first}.{last}@gmail.com'\n",
        "    Employee.no_of_emps += 1\n",
        "\n",
        "\n",
        "  def fullName(self):\n",
        "    return f'{self.first}.{self.last}'\n",
        "\n",
        "\n",
        "  def apply_raise(self):\n",
        "    self.pay = int(self.pay* self.raise_amount)  \n",
        "    return self.pay\n",
        "\n",
        "\n",
        "emp_1 = Employee('Rahul','Gupta',50000)\n",
        "emp_2 = Employee('Corey','Schafer',180000)\n",
        "\n",
        "\n",
        "print(Employee.no_of_emps)\n"
      ],
      "metadata": {
        "colab": {
          "base_uri": "https://localhost:8080/"
        },
        "id": "Y_3bxz7ZpWsJ",
        "outputId": "39b2f57b-cbde-4bbb-ecb8-9b86672d834a"
      },
      "execution_count": 30,
      "outputs": [
        {
          "output_type": "stream",
          "name": "stdout",
          "text": [
            "2\n"
          ]
        }
      ]
    },
    {
      "cell_type": "markdown",
      "source": [
        "# Practise"
      ],
      "metadata": {
        "id": "E7b8srLDfjTJ"
      }
    },
    {
      "cell_type": "code",
      "source": [
        "class Book:\n",
        "  def __init__(self):\n",
        "    self.name = 'Harry Potter'\n",
        "    self.author = 'Jk Rowling'\n",
        "\n",
        "Book1 = Book()"
      ],
      "metadata": {
        "id": "zPQM_0NMelei"
      },
      "execution_count": 6,
      "outputs": []
    },
    {
      "cell_type": "markdown",
      "source": [],
      "metadata": {
        "id": "KpXcEDaCg4GK"
      }
    },
    {
      "cell_type": "code",
      "source": [
        "print(Book1.name)"
      ],
      "metadata": {
        "colab": {
          "base_uri": "https://localhost:8080/"
        },
        "id": "RUKH1IDMe20F",
        "outputId": "4cadc754-9696-4cb6-de9e-5e968b266d85"
      },
      "execution_count": 7,
      "outputs": [
        {
          "output_type": "stream",
          "name": "stdout",
          "text": [
            "Harry Potter\n"
          ]
        }
      ]
    },
    {
      "cell_type": "code",
      "source": [
        "class Book:\n",
        "  def __init__(self,name = 'How to win friends',author = 'Dale carneige'):\n",
        "    self.name = name\n",
        "    self.author = author\n",
        "\n",
        "Book1 = Book('Harry Potter','J.k rOWLING')\n",
        "print(Book1.author)"
      ],
      "metadata": {
        "colab": {
          "base_uri": "https://localhost:8080/"
        },
        "id": "HMERtBLGe-oz",
        "outputId": "0ff4ad9c-176e-48fe-f9d9-20a3411df84e"
      },
      "execution_count": 9,
      "outputs": [
        {
          "output_type": "stream",
          "name": "stdout",
          "text": [
            "J.k rOWLING\n"
          ]
        }
      ]
    },
    {
      "cell_type": "code",
      "source": [
        "class Book:\n",
        "  def __init__(self,name = 'How to win friends',author = 'Dale carneige'):\n",
        "    self.name = name\n",
        "    self.author = author\n",
        "  def print_info(self,num):\n",
        "    print(f'the name is {self.name}')\n",
        "    print(f'the author is {self.author}')\n",
        "    print(f'the num is {num}')\n",
        "Book1 = Book('Harry','Jk')\n",
        "print(Book1.author)\n",
        "\n",
        "Book1.print_info(123)"
      ],
      "metadata": {
        "colab": {
          "base_uri": "https://localhost:8080/"
        },
        "id": "o7rC-FYdf8Ju",
        "outputId": "5a4175f9-af1f-44af-9d1b-80f0b8b44531"
      },
      "execution_count": 14,
      "outputs": [
        {
          "output_type": "stream",
          "name": "stdout",
          "text": [
            "Jk\n",
            "the name is Harry\n",
            "the author is Jk\n",
            "the num is 123\n"
          ]
        }
      ]
    },
    {
      "cell_type": "code",
      "source": [
        "class Dog:\n",
        "  attr1 = 'mammal'\n",
        "  attr2 = 'dog'\n",
        "\n",
        "  def fun(self):\n",
        "    print(f'{self.attr1}')\n",
        "    print(f'{self.attr2}')\n",
        "\n",
        "\n",
        "Dog1 = Dog()\n",
        "Dog1.attr1 = 'Fish'\n",
        "\n",
        "Dog1.fun()"
      ],
      "metadata": {
        "colab": {
          "base_uri": "https://localhost:8080/"
        },
        "id": "MSm-Fl88f1BP",
        "outputId": "f0227619-1332-40a4-b846-be06c219c240"
      },
      "execution_count": 35,
      "outputs": [
        {
          "output_type": "stream",
          "name": "stdout",
          "text": [
            "Fish\n",
            "dog\n"
          ]
        }
      ]
    },
    {
      "cell_type": "code",
      "source": [],
      "metadata": {
        "id": "VhjR0u4Mr-gb"
      },
      "execution_count": null,
      "outputs": []
    }
  ]
}