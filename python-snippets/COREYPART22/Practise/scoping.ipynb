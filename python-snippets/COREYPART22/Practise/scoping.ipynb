{
 "cells": [
  {
   "cell_type": "code",
   "execution_count": 2,
   "metadata": {},
   "outputs": [
    {
     "name": "stdout",
     "output_type": "stream",
     "text": [
      "Local Y\n"
     ]
    }
   ],
   "source": [
    "x  = 'global x'\n",
    "\n",
    "def print_info():\n",
    "    x = 'Local Y'\n",
    "    print(x)\n",
    "\n",
    "print_info()"
   ]
  },
  {
   "cell_type": "code",
   "execution_count": 11,
   "metadata": {},
   "outputs": [
    {
     "name": "stdout",
     "output_type": "stream",
     "text": [
      "Local x\n",
      "Local x\n"
     ]
    }
   ],
   "source": [
    "x  = 'global x'\n",
    "\n",
    "def print_info():\n",
    "    global x #global overrides the global x created  above\n",
    "    x = 'Local x'\n",
    "    z = 'Local Y'\n",
    "    print(x)\n",
    "\n",
    "\n",
    "print_info()\n",
    "print(x)\n",
    "# print(z)"
   ]
  },
  {
   "cell_type": "code",
   "execution_count": 12,
   "metadata": {},
   "outputs": [
    {
     "name": "stdout",
     "output_type": "stream",
     "text": [
      "Local x\n",
      "Local x\n"
     ]
    }
   ],
   "source": [
    "def print_info():\n",
    "    x = 'Local x'\n",
    "    print(x)\n",
    "\n",
    "print_info()\n",
    "print(x)\n"
   ]
  },
  {
   "cell_type": "code",
   "execution_count": null,
   "metadata": {},
   "outputs": [],
   "source": []
  }
 ],
 "metadata": {
  "kernelspec": {
   "display_name": "base",
   "language": "python",
   "name": "python3"
  },
  "language_info": {
   "codemirror_mode": {
    "name": "ipython",
    "version": 3
   },
   "file_extension": ".py",
   "mimetype": "text/x-python",
   "name": "python",
   "nbconvert_exporter": "python",
   "pygments_lexer": "ipython3",
   "version": "3.9.13 (main, Aug 25 2022, 23:51:50) [MSC v.1916 64 bit (AMD64)]"
  },
  "orig_nbformat": 4,
  "vscode": {
   "interpreter": {
    "hash": "be3ecca1999832811818999c05b31956d6b0882ef6062a672d8759b2cb2225ec"
   }
  }
 },
 "nbformat": 4,
 "nbformat_minor": 2
}
