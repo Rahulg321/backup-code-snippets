{
 "cells": [
  {
   "cell_type": "code",
   "execution_count": 3,
   "metadata": {},
   "outputs": [
    {
     "name": "stdout",
     "output_type": "stream",
     "text": [
      "corey\n",
      "address of a is 2190507766960\n",
      "john\n",
      "address of a is 2190507808304\n"
     ]
    }
   ],
   "source": [
    "a = 'corey'\n",
    "print(a)\n",
    "print(f'address of a is {id(a)}')\n",
    "\n",
    "\n",
    "a = 'john'\n",
    "print(a)\n",
    "print(f'address of a is {id(a)}')"
   ]
  },
  {
   "cell_type": "code",
   "execution_count": 4,
   "metadata": {},
   "outputs": [
    {
     "name": "stdout",
     "output_type": "stream",
     "text": [
      "corey\n",
      "address of a is 2190507867824\n"
     ]
    },
    {
     "ename": "TypeError",
     "evalue": "'str' object does not support item assignment",
     "output_type": "error",
     "traceback": [
      "\u001b[1;31m---------------------------------------------------------------------------\u001b[0m",
      "\u001b[1;31mTypeError\u001b[0m                                 Traceback (most recent call last)",
      "\u001b[1;32m~\\AppData\\Local\\Temp\\ipykernel_8936\\1884773720.py\u001b[0m in \u001b[0;36m<module>\u001b[1;34m\u001b[0m\n\u001b[0;32m      4\u001b[0m \u001b[1;33m\u001b[0m\u001b[0m\n\u001b[0;32m      5\u001b[0m \u001b[1;33m\u001b[0m\u001b[0m\n\u001b[1;32m----> 6\u001b[1;33m \u001b[0ma\u001b[0m\u001b[1;33m[\u001b[0m\u001b[1;36m0\u001b[0m\u001b[1;33m]\u001b[0m \u001b[1;33m=\u001b[0m \u001b[1;34m'C'\u001b[0m\u001b[1;33m\u001b[0m\u001b[1;33m\u001b[0m\u001b[0m\n\u001b[0m\u001b[0;32m      7\u001b[0m \u001b[0mprint\u001b[0m\u001b[1;33m(\u001b[0m\u001b[0ma\u001b[0m\u001b[1;33m)\u001b[0m\u001b[1;33m\u001b[0m\u001b[1;33m\u001b[0m\u001b[0m\n\u001b[0;32m      8\u001b[0m \u001b[0mprint\u001b[0m\u001b[1;33m(\u001b[0m\u001b[1;34mf'address of a is {id(a)}'\u001b[0m\u001b[1;33m)\u001b[0m\u001b[1;33m\u001b[0m\u001b[1;33m\u001b[0m\u001b[0m\n",
      "\u001b[1;31mTypeError\u001b[0m: 'str' object does not support item assignment"
     ]
    }
   ],
   "source": [
    "a = 'corey'\n",
    "print(a)\n",
    "print(f'address of a is {id(a)}')\n",
    "\n",
    "#--------------------------------------------------\n",
    "#Strings are immutable\n",
    "#--------------------------------------------------\n",
    "\n",
    "a[0] = 'C'\n",
    "print(a)\n",
    "print(f'address of a is {id(a)}')"
   ]
  },
  {
   "cell_type": "code",
   "execution_count": 7,
   "metadata": {},
   "outputs": [
    {
     "name": "stdout",
     "output_type": "stream",
     "text": [
      "[1, 2, 3, 4, 5]\n",
      "address of a is 2190518988608\n",
      "['C', 2, 3, 4, 5]\n",
      "address of a is 2190518988608\n"
     ]
    }
   ],
   "source": [
    "a = [1,2,3,4,5]\n",
    "print(a)\n",
    "print(f'address of a is {id(a)}')\n",
    "\n",
    "#--------------------------------------------------\n",
    "#Lists are mutable\n",
    "#--------------------------------------------------\n",
    "\n",
    "a[0] = 'C'\n",
    "print(a)\n",
    "print(f'address of a is {id(a)}')"
   ]
  },
  {
   "cell_type": "code",
   "execution_count": 12,
   "metadata": {},
   "outputs": [
    {
     "name": "stdout",
     "output_type": "stream",
     "text": [
      "<ul>\n",
      "\t <li>Rahul</li>\n",
      "\t <li>rishab</li>\n",
      "\t <li>Shivam</li>\n",
      "\t <li>Misha</li>\n",
      "</ul>\n"
     ]
    }
   ],
   "source": [
    "# \\n is for next line \n",
    "# \\t is for giving a space in text\n",
    "\n",
    "employees = ['Rahul','rishab','Shivam','Misha']\n",
    "\n",
    "result = '<ul>\\n'\n",
    "\n",
    "for employee in employees:\n",
    "    result += f'\\t <li>{employee}</li>\\n'\n",
    "\n",
    "#for each list object it is assigning new memory\n",
    "#consider performance when going for mutable or immutable\n",
    "\n",
    "result += '</ul>'\n",
    "\n",
    "print(result)\n"
   ]
  },
  {
   "cell_type": "code",
   "execution_count": null,
   "metadata": {},
   "outputs": [],
   "source": []
  }
 ],
 "metadata": {
  "kernelspec": {
   "display_name": "Python 3.9.13",
   "language": "python",
   "name": "python3"
  },
  "language_info": {
   "codemirror_mode": {
    "name": "ipython",
    "version": 3
   },
   "file_extension": ".py",
   "mimetype": "text/x-python",
   "name": "python",
   "nbconvert_exporter": "python",
   "pygments_lexer": "ipython3",
   "version": "3.9.13"
  },
  "orig_nbformat": 4,
  "vscode": {
   "interpreter": {
    "hash": "20a9e06a1eee47c4abbed4ec8225ad91d78d9800d202b71b6b0a6e47016c6abd"
   }
  }
 },
 "nbformat": 4,
 "nbformat_minor": 2
}
