{
 "cells": [
  {
   "cell_type": "code",
   "execution_count": 1,
   "metadata": {},
   "outputs": [
    {
     "name": "stdout",
     "output_type": "stream",
     "text": [
      "Computing 4........\n",
      "16\n",
      "Computing 10........\n",
      "100\n",
      "Computing 4........\n",
      "16\n",
      "Computing 10........\n",
      "100\n"
     ]
    }
   ],
   "source": [
    "# Memoization allows you to optimize a Python function by caching its output based on the parameters you supply to it. Once you memoize a function, it will only compute its output once for each set of parameters you call it with. Every call after the first will be quickly retrieved from a cache.\n",
    "# a cache is a high-speed data storage layer which stores a subset of data, typically transient in nature, so that future requests for that data are served up faster than is possible by accessing the data's primary storage location.\n",
    "import time\n",
    "\n",
    "def expensive_func(num):\n",
    "    print(f'Computing {num}........')\n",
    "    time.sleep(1)  #sleeps for 1 second\n",
    "    return num**2\n",
    "\n",
    "result = expensive_func(4)\n",
    "print(result)\n",
    "result = expensive_func(10)\n",
    "print(result)\n",
    "\n",
    "result = expensive_func(4)\n",
    "print(result)\n",
    "result = expensive_func(10)\n",
    "print(result)"
   ]
  },
  {
   "cell_type": "code",
   "execution_count": 3,
   "metadata": {},
   "outputs": [
    {
     "name": "stdout",
     "output_type": "stream",
     "text": [
      "Computing 4........\n",
      "16\n",
      "Computing 10........\n",
      "100\n",
      "16\n",
      "100\n"
     ]
    }
   ],
   "source": [
    "#memoization is basically remembering the answer from a func call\n",
    "#so that it can be used again\n",
    "\n",
    "import time\n",
    "\n",
    "ef_cache = {}\n",
    "\n",
    "def expensive_func(num):\n",
    "    if num in ef_cache:\n",
    "        return ef_cache[num]\n",
    "\n",
    "        \n",
    "    print(f'Computing {num}........')\n",
    "    time.sleep(1)  #sleeps for 1 second\n",
    "    result = num**2\n",
    "    ef_cache[num] = result\n",
    "    return result\n",
    "\n",
    "result = expensive_func(4)\n",
    "print(result)\n",
    "result = expensive_func(10)\n",
    "print(result)\n",
    "\n",
    "result = expensive_func(4)\n",
    "print(result)\n",
    "result = expensive_func(10)\n",
    "print(result)\n",
    "\n"
   ]
  },
  {
   "cell_type": "code",
   "execution_count": null,
   "metadata": {},
   "outputs": [],
   "source": []
  }
 ],
 "metadata": {
  "kernelspec": {
   "display_name": "Python 3.9.13",
   "language": "python",
   "name": "python3"
  },
  "language_info": {
   "codemirror_mode": {
    "name": "ipython",
    "version": 3
   },
   "file_extension": ".py",
   "mimetype": "text/x-python",
   "name": "python",
   "nbconvert_exporter": "python",
   "pygments_lexer": "ipython3",
   "version": "3.9.13"
  },
  "orig_nbformat": 4,
  "vscode": {
   "interpreter": {
    "hash": "20a9e06a1eee47c4abbed4ec8225ad91d78d9800d202b71b6b0a6e47016c6abd"
   }
  }
 },
 "nbformat": 4,
 "nbformat_minor": 2
}
