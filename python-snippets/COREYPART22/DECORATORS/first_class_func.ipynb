{
 "cells": [
  {
   "cell_type": "code",
   "execution_count": 7,
   "metadata": {},
   "outputs": [
    {
     "name": "stdout",
     "output_type": "stream",
     "text": [
      "<function square at 0x000001D790609160>\n",
      "4\n"
     ]
    }
   ],
   "source": [
    "#first class func can be passed as an arguement and can return a func and be assigned a variable\n",
    "\n",
    "def square(x):\n",
    "    return x**2\n",
    "\n",
    "#function being assigned to a variable\n",
    "f = square  \n",
    "# g = square() this is executing the func not assigning \n",
    "print(f)\n",
    "print(f(2))"
   ]
  },
  {
   "cell_type": "code",
   "execution_count": 5,
   "metadata": {},
   "outputs": [
    {
     "name": "stdout",
     "output_type": "stream",
     "text": [
      "25\n",
      "25\n"
     ]
    }
   ],
   "source": [
    "def square(x):\n",
    "    return x**2\n",
    "\n",
    "\n",
    "#functions being assigned to a variable\n",
    "f = square(5)  \n",
    "\n",
    "print(f)\n",
    "print(f)"
   ]
  },
  {
   "cell_type": "code",
   "execution_count": 10,
   "metadata": {},
   "outputs": [
    {
     "name": "stdout",
     "output_type": "stream",
     "text": [
      "[1, 4, 9, 16, 25]\n",
      "[1, 8, 27, 64, 125, 216, 343, 512, 729]\n"
     ]
    }
   ],
   "source": [
    "#learning HIGHER OREDER FUNCTIONS\n",
    "#CUSTOM MAP FUNCTION\n",
    "\n",
    "\n",
    "def my_map(func,arg_list):\n",
    "    result = []\n",
    "\n",
    "    for i in arg_list:\n",
    "        result.append(func(i))\n",
    "\n",
    "    return result\n",
    "\n",
    "\n",
    "print(my_map(f,[1,2,3,4,5]))\n",
    "\n",
    "\n",
    "def cube(num):\n",
    "    return num**3\n",
    "\n",
    "cubes = my_map(cube,[1,2,3,4,5,6,7,8,9])\n",
    "print(cubes)"
   ]
  },
  {
   "cell_type": "code",
   "execution_count": 15,
   "metadata": {},
   "outputs": [
    {
     "name": "stdout",
     "output_type": "stream",
     "text": [
      "LOG:- Hi!\n"
     ]
    }
   ],
   "source": [
    "#return a func from another func\n",
    "\n",
    "def logger(msg):\n",
    "    def log():\n",
    "        print('LOG:-',msg)\n",
    "    return log\n",
    "\n",
    "\n",
    "message = logger('Hi!')\n",
    "message()"
   ]
  },
  {
   "cell_type": "code",
   "execution_count": 20,
   "metadata": {},
   "outputs": [
    {
     "name": "stdout",
     "output_type": "stream",
     "text": [
      "LOG:- Hello!\n"
     ]
    }
   ],
   "source": [
    "def logger(msg):\n",
    "    def log():\n",
    "        return f'LOG:- {msg}'\n",
    "    return log\n",
    "\n",
    "x = logger('Hello!')\n",
    "string1 = x()\n",
    "print(string1)\n"
   ]
  },
  {
   "cell_type": "code",
   "execution_count": 27,
   "metadata": {},
   "outputs": [
    {
     "name": "stdout",
     "output_type": "stream",
     "text": [
      "<h1>TEST HEADLINE!!</h1>\n",
      "<h1>displaying h1</h1>\n",
      "\n",
      "<p>we are inside a paragraph now!!</p>\n"
     ]
    }
   ],
   "source": [
    "#real life application of first class func\n",
    "\n",
    "def html_tag(tag):\n",
    "    def wrap_text(msg):\n",
    "        print(f'<{tag}>{msg}</{tag}>')\n",
    "    return wrap_text\n",
    "\n",
    "# print(print_h1)\n",
    "\n",
    "print_h1 = html_tag('h1')\n",
    "print_h1('TEST HEADLINE!!')\n",
    "print_h1('displaying h1')\n",
    "print()\n",
    "\n",
    "\n",
    "print_p = html_tag('p')\n",
    "print_p('we are inside a paragraph now!!')\n",
    "\n",
    "\n",
    "\n"
   ]
  },
  {
   "cell_type": "code",
   "execution_count": null,
   "metadata": {},
   "outputs": [],
   "source": []
  }
 ],
 "metadata": {
  "kernelspec": {
   "display_name": "Python 3.9.13",
   "language": "python",
   "name": "python3"
  },
  "language_info": {
   "codemirror_mode": {
    "name": "ipython",
    "version": 3
   },
   "file_extension": ".py",
   "mimetype": "text/x-python",
   "name": "python",
   "nbconvert_exporter": "python",
   "pygments_lexer": "ipython3",
   "version": "3.9.13"
  },
  "orig_nbformat": 4,
  "vscode": {
   "interpreter": {
    "hash": "20a9e06a1eee47c4abbed4ec8225ad91d78d9800d202b71b6b0a6e47016c6abd"
   }
  }
 },
 "nbformat": 4,
 "nbformat_minor": 2
}
