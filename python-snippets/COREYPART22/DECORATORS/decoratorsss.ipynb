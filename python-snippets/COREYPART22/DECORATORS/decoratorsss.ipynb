{
 "cells": [
  {
   "cell_type": "code",
   "execution_count": 4,
   "metadata": {},
   "outputs": [
    {
     "name": "stdout",
     "output_type": "stream",
     "text": [
      "HI I AM CREATED AS A FUNCTION PASSED AS AN ARGUEMENT\n"
     ]
    }
   ],
   "source": [
    "#**************************\n",
    "#LEARINING FROM GEEKS DOCUMENTATION FIRST\n",
    "#**************************\n",
    "\n",
    "\n",
    "def shout(text):\n",
    "    return text.upper()\n",
    "\n",
    "def whisper(text):\n",
    "    return text.lower()\n",
    "\n",
    "\n",
    "def greet(func):\n",
    "    x = func('Hi I am created as a function passed as an arguement')\n",
    "    return x \n",
    "\n",
    "string1 = greet(shout)\n",
    "print(string1)"
   ]
  },
  {
   "cell_type": "code",
   "execution_count": 8,
   "metadata": {},
   "outputs": [
    {
     "data": {
      "text/plain": [
       "'adder'"
      ]
     },
     "execution_count": 8,
     "metadata": {},
     "output_type": "execute_result"
    }
   ],
   "source": [
    "def create_adder(x):\n",
    "    def adder(y):\n",
    "        return x+y\n",
    "    return adder\n",
    "\n",
    "add_15 = create_adder(10)\n",
    "\n",
    "add_15.__name__"
   ]
  },
  {
   "cell_type": "code",
   "execution_count": 11,
   "metadata": {},
   "outputs": [
    {
     "name": "stdout",
     "output_type": "stream",
     "text": [
      "we are changing the functionality of our program\n",
      "saying hello\n"
     ]
    }
   ],
   "source": [
    "# decorators are used to modify the behaviour of function or class. In Decorators, functions are taken as the argument into another function and then called inside the wrapper function.\n",
    "#takes func as an arguemenet as an arguement, adds some kind of functionality and returns another function\n",
    "\n",
    "\n",
    "def hello_decorator(func):\n",
    "    def inner():\n",
    "        print('we are changing the functionality of our program')\n",
    "        return func()\n",
    "        \n",
    "    return inner\n",
    "\n",
    "def say_hi():\n",
    "    print('saying hello')\n",
    "\n",
    "x = hello_decorator(say_hi)\n",
    "\n",
    "x()"
   ]
  },
  {
   "cell_type": "code",
   "execution_count": 19,
   "metadata": {},
   "outputs": [
    {
     "name": "stdout",
     "output_type": "stream",
     "text": [
      "Hi\n"
     ]
    }
   ],
   "source": [
    "#message is a free variable since inner function has access to it\n",
    "\n",
    "\n",
    "def outer_function(msg):\n",
    "\n",
    "    def inner_function():\n",
    "        print(msg)\n",
    "    \n",
    "    return inner_function\n",
    "\n",
    "hi_func = outer_function('Hi')\n",
    "bye_func = outer_function('Bye')\n",
    "\n",
    "hi_func()"
   ]
  },
  {
   "cell_type": "code",
   "execution_count": 25,
   "metadata": {},
   "outputs": [
    {
     "name": "stdout",
     "output_type": "stream",
     "text": [
      "Ran Inside a Decorator\n",
      "Original function Ran\n"
     ]
    }
   ],
   "source": [
    "def decorator_function(original_function):\n",
    "\n",
    "    def wrapper_function():\n",
    "        print('Ran Inside a Decorator')\n",
    "        return original_function\n",
    "    \n",
    "    return wrapper_function\n",
    "\n",
    "\n",
    "def display():\n",
    "    print('Original function Ran')\n",
    "\n",
    "og = decorator_function(display)\n",
    "\n",
    "x = og()\n",
    "x()\n"
   ]
  },
  {
   "cell_type": "code",
   "execution_count": 26,
   "metadata": {},
   "outputs": [
    {
     "name": "stdout",
     "output_type": "stream",
     "text": [
      "Ran Inside a Decorator\n",
      "Original function Ran\n"
     ]
    }
   ],
   "source": [
    "def decorator_function(original_function):\n",
    "\n",
    "    def wrapper_function():\n",
    "        print('Ran rInside a Decorato')\n",
    "        return original_function()\n",
    "    \n",
    "    return wrapper_function\n",
    "\n",
    "\n",
    "def display():\n",
    "    print('Original function Ran')\n",
    "\n",
    "og = decorator_function(display)\n",
    "\n",
    "og()"
   ]
  },
  {
   "cell_type": "code",
   "execution_count": 31,
   "metadata": {},
   "outputs": [
    {
     "name": "stdout",
     "output_type": "stream",
     "text": [
      "we are inside a decorator ||\n",
      "Rahul Gupta made this code\n"
     ]
    }
   ],
   "source": [
    "#first we need to create a template for our decorator function\n",
    "#then use that template\n",
    "\n",
    "\n",
    "def decorator_func(original_function):\n",
    "\n",
    "    def wrapper_function():\n",
    "        print('Ran func {}'.format(original_function.__name__))\n",
    "        print('we are inside a decorator')\n",
    "        return original_function()\n",
    "    \n",
    "    return wrapper_function\n",
    "\n",
    "\n",
    "def decorator_func2(original_function):\n",
    "\n",
    "    def wrapper_function():\n",
    "        print('we are inside a decorator ||')\n",
    "        return original_function()\n",
    "    \n",
    "    return wrapper_function\n",
    "\n",
    "\n",
    "def display():\n",
    "    print('Original function Ran')\n",
    "\n",
    "@decorator_func2\n",
    "def show_info():\n",
    "    print(f'Rahul Gupta made this code')\n",
    "\n",
    "\n",
    "show_info()\n"
   ]
  },
  {
   "cell_type": "code",
   "execution_count": 1,
   "metadata": {},
   "outputs": [
    {
     "name": "stdout",
     "output_type": "stream",
     "text": [
      "Ran func display_info\n",
      "we are inside a decorator\n",
      "ran with arguements ( John , 89 )\n"
     ]
    }
   ],
   "source": [
    "\n",
    "def decorator_func(original_function):\n",
    "\n",
    "    def wrapper_function(*args,**kwargs):\n",
    "        print('Ran func {}'.format(original_function.__name__))\n",
    "        print('we are inside a decorator')\n",
    "        return original_function(*args,**kwargs)\n",
    "    \n",
    "    return wrapper_function\n",
    "\n",
    "@decorator_func\n",
    "def display():\n",
    "    print('Original function Ran')\n",
    "\n",
    "#will show an error if used for a func requiring arguements to be passed in\n",
    "@decorator_func\n",
    "def display_info(name,age):\n",
    "    print('ran with arguements ( {} , {} )'.format(name,age))\n",
    "\n",
    "display_info('John',89)\n"
   ]
  },
  {
   "cell_type": "code",
   "execution_count": 43,
   "metadata": {},
   "outputs": [
    {
     "name": "stdout",
     "output_type": "stream",
     "text": [
      "Ran func display_info\n",
      "we are inside a decorator\n",
      "ran with arguements ( Mike , 54 )\n"
     ]
    }
   ],
   "source": [
    "\n",
    "def decorator_func(original_function):\n",
    "\n",
    "    def wrapper_function(*args,**kwargs):\n",
    "        print('Ran func {}'.format(original_function.__name__))\n",
    "        print('we are inside a decorator')\n",
    "        return original_function(*args,**kwargs)\n",
    "    \n",
    "    return wrapper_function\n",
    "\n",
    "\n",
    "@decorator_func\n",
    "def display_info(name,age):\n",
    "    print('ran with arguements ( {} , {} )'.format(name,age))\n",
    "\n",
    "#--------------^^^^^^^^^^----------------------\n",
    "# word = decorator_func(display_info)\n",
    "\n",
    "display_info('Mike',54)"
   ]
  },
  {
   "cell_type": "code",
   "execution_count": 45,
   "metadata": {},
   "outputs": [
    {
     "name": "stdout",
     "output_type": "stream",
     "text": [
      "call method executed this display_info\n",
      "ran with arguements ( John , 89 )\n"
     ]
    }
   ],
   "source": [
    "#-----------------------------------------\n",
    "#decorator classes\n",
    "#we use the call method in decorator classes\n",
    "#-----------------------------------------\n",
    "\n",
    "class decorator_class():\n",
    "    def __init__(self,original_func):\n",
    "        self.original_func = original_func\n",
    "\n",
    "    def __call__(self, *args, **kwargs):\n",
    "        print(f'call method executed this before {self.original_func.__name__}')\n",
    "        return self.original_func( *args, **kwargs)\n",
    "    \n",
    "\n",
    "@decorator_class\n",
    "def display_info(name,age):\n",
    "    print('ran with arguements ( {} , {} )'.format(name,age))\n",
    "\n",
    "display_info('John',89)"
   ]
  },
  {
   "cell_type": "code",
   "execution_count": 50,
   "metadata": {},
   "outputs": [
    {
     "name": "stdout",
     "output_type": "stream",
     "text": [
      "name: Rahul\n",
      " and company: Google\n"
     ]
    }
   ],
   "source": [
    "def my_logger(original_function):\n",
    "    import logging\n",
    "    logging.basicConfig(filename=f'{original_function.__name__}',level = logging.INFO)\n",
    "\n",
    "    def wrapper_function(*args,**kwargs):\n",
    "        logging.info(\n",
    "            f'Ran {original_function.__name__} with {args} and {kwargs}'\n",
    "        )\n",
    "        return original_function(*args,**kwargs)\n",
    "    return wrapper_function\n",
    "\n",
    "#we are logging what functions are passed into our my_logger decorator\n",
    "@my_logger\n",
    "def display_info(name,age):\n",
    "    print(f'name: {name}\\n and age: {age}')\n",
    "    \n",
    "@my_logger\n",
    "def display_company(name,company):\n",
    "    print(f'name: {name}\\n and company: {company}')\n",
    "\n",
    "display_company('Rahul','Google')"
   ]
  },
  {
   "cell_type": "code",
   "execution_count": 52,
   "metadata": {},
   "outputs": [
    {
     "name": "stdout",
     "output_type": "stream",
     "text": [
      "sum ran in 1.0159978866577148\n"
     ]
    },
    {
     "data": {
      "text/plain": [
       "3"
      ]
     },
     "execution_count": 52,
     "metadata": {},
     "output_type": "execute_result"
    }
   ],
   "source": [
    "#decorator which checks how much time it takes to run a function\n",
    "def decorator_function(original_function):\n",
    "    import time\n",
    "\n",
    "    def wrapper_function(*args,**kwargs):\n",
    "        t1 = time.time()\n",
    "        result = original_function(*args,**kwargs) #executing our function\n",
    "        t2 = time.time()-t1\n",
    "        print(f'{original_function.__name__} ran in {t2}')\n",
    "        return result\n",
    "    \n",
    "    return wrapper_function\n",
    "\n",
    "import time\n",
    "\n",
    "@decorator_function\n",
    "def sum(x,y):\n",
    "    time.sleep(1)\n",
    "    return x+y\n",
    "\n",
    "sum(1,2)\n",
    "    "
   ]
  },
  {
   "cell_type": "code",
   "execution_count": 53,
   "metadata": {},
   "outputs": [
    {
     "name": "stdout",
     "output_type": "stream",
     "text": [
      "sum ran in 1.0034763813018799\n"
     ]
    },
    {
     "data": {
      "text/plain": [
       "3"
      ]
     },
     "execution_count": 53,
     "metadata": {},
     "output_type": "execute_result"
    }
   ],
   "source": [
    "#chaining multiple decorators together\n",
    "\n",
    "\n",
    "def my_logger(original_function):\n",
    "    import logging\n",
    "    logging.basicConfig(filename=f'{original_function.__name__}',level = logging.INFO)\n",
    "\n",
    "    def wrapper_function(*args,**kwargs):\n",
    "        logging.info(\n",
    "            f'Ran {original_function.__name__} with {args} and {kwargs}'\n",
    "        )\n",
    "        return original_function(*args,**kwargs)\n",
    "    return wrapper_function\n",
    "\n",
    "def my_timer(original_function):\n",
    "    import time\n",
    "\n",
    "    def wrapper_function(*args,**kwargs):\n",
    "        t1 = time.time()\n",
    "        result = original_function(*args,**kwargs) #executing our function\n",
    "        t2 = time.time()-t1\n",
    "        print(f'{original_function.__name__} ran in {t2}')\n",
    "        return result\n",
    "    \n",
    "    return wrapper_function\n",
    "\n",
    "import time\n",
    "\n",
    "@my_logger\n",
    "@my_timer\n",
    "def sum(x,y):\n",
    "    time.sleep(1)\n",
    "    return x+y\n",
    "\n",
    "sum(1,2)\n",
    "    \n",
    "#wrapper function from my_timer gets passed into the logger function"
   ]
  },
  {
   "cell_type": "code",
   "execution_count": null,
   "metadata": {},
   "outputs": [],
   "source": []
  }
 ],
 "metadata": {
  "kernelspec": {
   "display_name": "Python 3.9.13",
   "language": "python",
   "name": "python3"
  },
  "language_info": {
   "codemirror_mode": {
    "name": "ipython",
    "version": 3
   },
   "file_extension": ".py",
   "mimetype": "text/x-python",
   "name": "python",
   "nbconvert_exporter": "python",
   "pygments_lexer": "ipython3",
   "version": "3.9.13"
  },
  "orig_nbformat": 4,
  "vscode": {
   "interpreter": {
    "hash": "20a9e06a1eee47c4abbed4ec8225ad91d78d9800d202b71b6b0a6e47016c6abd"
   }
  }
 },
 "nbformat": 4,
 "nbformat_minor": 2
}
